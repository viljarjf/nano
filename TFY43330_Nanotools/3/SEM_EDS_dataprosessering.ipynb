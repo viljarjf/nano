{
 "cells": [
  {
   "cell_type": "markdown",
   "id": "d911a1bd-39db-4acf-8342-d87f9e75d451",
   "metadata": {},
   "source": [
    "# Prosessering av Energy Dispersive X-ray Spectroscopy data\n",
    "\n",
    "Denne Jupyter Notebooken viser hvordan Energy Dispersive X-ray Spectroscopy (EDS) data kan analyseres. Spektroskopi er en veldig viktig datatype \"klasse\", som dukker opp i mange forskjellige teknikker.\n",
    "\n",
    "### Målet med denne notebooken\n",
    "\n",
    "- Dere skal kunne prosessere EDS dataene dere tok opp i SEM-laben\n",
    "- Bli komfortable med å jobbe med spektroskopidata\n",
    "- Lage figur som viser kjemisk komposisjon i dataene deres\n",
    "\n",
    "### Notebook-planen\n",
    "\n",
    "- Åpne datasettet, og utforske det\n",
    "- Finne ut hvilke grunnstoffer som er i prøvematerialet\n",
    "- Lage figur av dette"
   ]
  },
  {
   "cell_type": "markdown",
   "id": "cf9834e4-347d-49e9-9478-2fe68ca26eb0",
   "metadata": {},
   "source": [
    "## Importere biblioteker\n",
    "\n",
    "Først, plotte-biblioteket. Dette kan enten være `%matplotlib qt` for egne vinduer for plottene, eller `%matplotlib widget` for å få plottene i selve Jupyter Notebooken."
   ]
  },
  {
   "cell_type": "code",
   "execution_count": null,
   "id": "ed41f0bf-d922-4307-ac8f-e71c7e91256f",
   "metadata": {},
   "outputs": [],
   "source": [
    "%matplotlib qt\n",
    "from hyperspy import api as hs"
   ]
  },
  {
   "cell_type": "markdown",
   "id": "e1e4655c-c3b8-4992-a3c5-fc3619e0150c",
   "metadata": {},
   "source": [
    "Så importere HyperSpy"
   ]
  },
  {
   "cell_type": "markdown",
   "id": "14b1f326-f075-4647-97ed-402164a4d769",
   "metadata": {},
   "source": [
    "## Åpne dataset\n",
    "\n",
    "Dette gjøres via `hs.load`, som kan åpne en rekke dataformater, spesielt innenfor elektronmikroskopi. Velg et av EDS datasettene deres, disse skal ha:\n",
    "\n",
    "- `.hspy` filformat\n",
    "- Ha filnavn som inneholder noe med: `EDS` eller `EDX`\n",
    "\n",
    "Lage et objekt som heter `s`"
   ]
  },
  {
   "cell_type": "code",
   "execution_count": null,
   "id": "11b18bb6-5782-4d1f-83e7-7d3a157fc69b",
   "metadata": {},
   "outputs": [],
   "source": [
    "s = hs.load(\"data/hdf5-files/Map Data 3.hdf5\")"
   ]
  },
  {
   "cell_type": "markdown",
   "id": "3cfecc51-308b-448c-86f3-0129910bc014",
   "metadata": {},
   "source": [
    "Så skriv `s` i cellen under, og kjør den"
   ]
  },
  {
   "cell_type": "markdown",
   "id": "9d932c8a-f56e-4c1c-926d-3a6f88721251",
   "metadata": {},
   "source": [
    "Her ser vi et par viktige ting: signalet er et `EDSSEMSpectrum`, og den har 3 dimensjoner! \n",
    "    \n",
    "Dimensjonene ser vi helt i slutten, som har 3 tall (som nok vil være annerledes for deres datasett): `(512, 352|1024)`. Tallene til venstre for `|` er navigasjonsdimensjonene, mens tallet til høyre for `|` er signaldimensjonen: `(NAVIGASJON 0, NAVIGASJON 1|SIGNAL 1)`.\n",
    "\n",
    "I denne datatypen, så er de 2 navigasjonsdimensjonene probe-posisjonen, og signaldimensjonen er energien til røntgenstrålene.\n",
    "\n",
    "Dette betyr at signaldimensjonen er 1-dimensjonal, som stemmer bra med at dette er spektroskopisk data.\n",
    "\n",
    "(Hvis signalet IKKE er `EDSSEMSpectrum`, så kjør `s.set_signal_type(\"EDS_SEM\")`."
   ]
  },
  {
   "cell_type": "markdown",
   "id": "4a9c15f2-05c5-4e40-8c3b-890d0a1135fc",
   "metadata": {},
   "source": [
    "## Enkel utforskning av dataene\n",
    "\n",
    "Nå kan vi visualisere dataene, og se hvordan spektrumene ser ut. Bruk `plot` funksjonen i `s`, og utforsk datasettet.\n",
    "\n",
    "<img src=\"figurer/sem_eds_navigator.jpg\" width=900 height=900 />"
   ]
  },
  {
   "cell_type": "code",
   "execution_count": null,
   "id": "d04a3800-6d28-485d-99ce-8cce92d626bb",
   "metadata": {},
   "outputs": [],
   "source": [
    "#s.plot()"
   ]
  },
  {
   "cell_type": "markdown",
   "id": "5cc3f39f-fe7a-48ec-8ae2-138337d45178",
   "metadata": {},
   "source": [
    "Her ser vi at hver probe-posisjon har veldig få røntgen-tellinger, ergo at signalet ikke er særlig bra. Noen steder kan vi se at det er klare topper, men disse er for det meste under 10 tellinger.\n",
    "\n",
    "Dette skal vi gjøre noe med, men først vil vi utforske datasettet som funksjon av røntgenstråle-energien. Bruk transpose funksjonaliteten i s, og lag et nytt signal `st`: `st = s.T`"
   ]
  },
  {
   "cell_type": "code",
   "execution_count": null,
   "id": "96e5a829-58bb-4bb7-9e01-616120af1b17",
   "metadata": {},
   "outputs": [],
   "source": [
    "st = s.T"
   ]
  },
  {
   "cell_type": "markdown",
   "id": "e732538d-3740-48a7-baa8-b7ae5f7cd5d2",
   "metadata": {},
   "source": [
    "Skriv `st` i cellen under, og kjør den."
   ]
  },
  {
   "cell_type": "markdown",
   "id": "2c9085c9-d120-4ed1-94b6-4a3eae9a6410",
   "metadata": {},
   "source": [
    "Nå er signalet `Signal2D`: navigasjon- og signal-dimensjonene har blitt byttet om. Så nå kan vi navigere over datasettet som en funksjon av røntgen-energien, istedet for probe-posisjonen.\n",
    "\n",
    "Så plot `st`. Merk at nå er navigatoren i \"røntgen\" plottet.\n",
    "\n",
    "<img src=\"figurer/eds_transpose.jpg\" width=900 height=900 />\n",
    "\n",
    "Flytt navigatoren frem og tilbake, spesielt på de klare toppene, og se om forskjelliges steder på prøven lyser opp."
   ]
  },
  {
   "cell_type": "code",
   "execution_count": null,
   "id": "0a3e8e09-1663-4c67-b692-8909bda69286",
   "metadata": {},
   "outputs": [],
   "source": [
    "#st.plot()"
   ]
  },
  {
   "cell_type": "markdown",
   "id": "4d8fda43-a010-4726-b0be-81a2094aa280",
   "metadata": {},
   "source": [
    "Nå er røntgen-tellingene mye høyere, siden det er en sum av alle probe-posisjonene.\n",
    "\n",
    "Så vi ser at det er noe interessant i dataene. Det neste steget er å lage bilder som viser hvor de forskjellige grunnstoffene er."
   ]
  },
  {
   "cell_type": "markdown",
   "id": "b8afdf08-9ce9-49bd-a8b8-d7b9113e741f",
   "metadata": {},
   "source": [
    "## Mer avansert\n",
    "\n",
    "### Finne grunnstoffene\n",
    "\n",
    "Det første vi må gjøre her, er å finne ut hvilke grunnstoffer vi har i prøvematerialet.\n",
    "\n",
    "Enkleste måten å gjøre dette på, er å se på toppene vi har røntgen-signalet, kombinert med det vi vet om prøvematerialet.\n",
    "\n",
    "Så: summer opp alle probeposisjonene, til et røntgen-energi signal. Bruk `sum` funksjonen i `s` til å lage et nytt signal `s_sum`."
   ]
  },
  {
   "cell_type": "code",
   "execution_count": null,
   "id": "80675cbb-430a-4e2a-93b8-010dbbcf9393",
   "metadata": {},
   "outputs": [],
   "source": [
    "s_sum = s.sum()"
   ]
  },
  {
   "cell_type": "markdown",
   "id": "a660b8c0-b7c0-4564-bb0b-13667579b6c4",
   "metadata": {},
   "source": [
    "Så bruk `plot` funksjonen i `s_sum` til å visualisere dette signal, og finn ut hva slags grunnstoffer vi har.\n",
    "\n",
    "<img src=\"figurer/eds_sum.jpg\" width=900 height=900 />\n",
    "\n",
    "Dere kan se hvilke topper de forskjellige grunnstoffene lager, ved for eksempel å bruke denne: https://www.jeolusa.com/DesktopModules/LiveContent/API/Image/Get?mid=4725&eid=1&Type=View&PortalId=2"
   ]
  },
  {
   "cell_type": "code",
   "execution_count": null,
   "id": "2feb2d09-4514-4195-bce8-186192d7511b",
   "metadata": {},
   "outputs": [],
   "source": [
    "#s_sum.plot()"
   ]
  },
  {
   "cell_type": "markdown",
   "id": "02b8600b-0bbb-4bf4-927f-31a53f007acf",
   "metadata": {},
   "source": [
    "**Gå igjennom alle toppene, og prøv å finn ut hvilket grunnstoff de tilhører.**\n",
    "\n",
    "Merk at samme grunnstoff kan ha flere topper, så hvis dere er usikre så er et triks å sjekke om de andre toppene også er med spektrumet."
   ]
  },
  {
   "cell_type": "markdown",
   "id": "dcf50de8",
   "metadata": {},
   "source": [
    "- 9.4 -> Pt (svakt)\n",
    "- 7.46 -> Ni\n",
    "- 6.39 -> Fe\n",
    "- 4.65 -> La*\n",
    "- 4.02 -> Xe / Sc*\n",
    "- 3.69 -> Ca*\n",
    "- 3.44 -> Sn*\n",
    "- 2.83 -> Pd*\n",
    "- 2.30 -> S*\n",
    "- 2.05 -> Pt\n",
    "- 2.00 -> P*\n",
    "- 1.74 -> Si (*)\n",
    "- 1.48 -> Al (?) Br (?) (*)\n",
    "- 0.84 -> Ni (*)\n",
    "- 0.70 -> Fe (*)\n",
    "- 0.52 -> O (*)\n",
    "- 0.38 -> N (*) \n",
    "- 0.26 -> C (*)"
   ]
  },
  {
   "cell_type": "markdown",
   "id": "264cb8f4-ebe6-4abf-b34c-7c5bde2e5577",
   "metadata": {},
   "source": [
    "### Legge til grunnstoffene i signalet\n",
    "\n",
    "Nå som dere har funnet grunnstoffene, så må de legges til i `s` signalet.\n",
    "\n",
    "Dette gjøres via `set_elements` funksjonen som er i `s`. Parameter som skal til `set_elements` må være en liste, og hvert grunnstoff må være i formen `\"Si\"`, `\"C\"`, ...\n",
    "\n",
    "Tips: se i docstring til `set_elements` via \"Shift + Tab\" på tastaturet."
   ]
  },
  {
   "cell_type": "code",
   "execution_count": null,
   "id": "a1ac46c2-8319-4476-bf46-716b064044d2",
   "metadata": {},
   "outputs": [],
   "source": [
    "#elements = [\"Pt\", \"Ni\", \"Fe\", \"Si\", \"O\", \"N\", \"C\", \"Al\"]\n",
    "elements =  [\"Al\", \"C\", \"Ca\", \"N\", \"Ni\", \"O\", \"S\", \"Si\"] \n",
    "elements.sort()\n",
    "s.set_elements(elements)"
   ]
  },
  {
   "cell_type": "markdown",
   "id": "1b630b4a-e891-4577-8021-ff3f879beb3e",
   "metadata": {},
   "source": [
    "Sjekk at alt har blitt lagt til, via `metadata.Sample` attribute i `s`"
   ]
  },
  {
   "cell_type": "markdown",
   "id": "f261f726-9f81-47b9-97c1-fd155fe787b3",
   "metadata": {},
   "source": [
    "Så legger vi til røntgen linjene til disse grunnstoffene, via `add_lines` i `s`"
   ]
  },
  {
   "cell_type": "code",
   "execution_count": null,
   "id": "2499ed65-5f5f-408d-bf4f-4d2616d74413",
   "metadata": {},
   "outputs": [],
   "source": [
    "s.add_lines()"
   ]
  },
  {
   "cell_type": "markdown",
   "id": "b8df5f66-8395-4df9-9c52-b1c310a1c761",
   "metadata": {},
   "source": [
    "Så se hva som har blitt lagt til i metadataen, via `metadata.Sample` attribute i `s`"
   ]
  },
  {
   "cell_type": "code",
   "execution_count": null,
   "id": "f8d168b7-1292-43e3-b021-f56ef9f8b55f",
   "metadata": {},
   "outputs": [],
   "source": [
    "s.metadata.Sample"
   ]
  },
  {
   "cell_type": "markdown",
   "id": "bfbe2ac2-5701-45d1-851c-b48e0ecc5db2",
   "metadata": {},
   "source": [
    "Her ser dere at det bare har blitt lagt til en linje per grunnstoff. Dette er fordi den med lavest energi er det mest relevant.\n",
    "\n",
    "Dette kan dere så plotte, ved å bruke `plot` med `xray_lines=True` argumentet"
   ]
  },
  {
   "cell_type": "code",
   "execution_count": null,
   "id": "2cbd1fd0-e8b0-4ba9-ad02-38353bc12301",
   "metadata": {},
   "outputs": [],
   "source": [
    "#s.plot(xray_lines=True)"
   ]
  },
  {
   "cell_type": "markdown",
   "id": "64706574-b8cf-49f4-988d-1d89b42f8e28",
   "metadata": {},
   "source": [
    "Så kan vi hente ut intensiteten for alle disse linjene, over hele datasettet.\n",
    "\n",
    "Til dette bruker vi `get_lines_intensity` som er i `s`. Lagre resultatet til dette i en ny variabel: `linjer`. I tillegg, så bruk `plot_results=True` i `get_lines_intensity`. Dette vil åpne en plotte-vindu for hvert grunnstoff."
   ]
  },
  {
   "cell_type": "code",
   "execution_count": null,
   "id": "b300a073-d2fa-4c1d-a8f3-8fc396bcb736",
   "metadata": {},
   "outputs": [],
   "source": [
    "linjer = s.get_lines_intensity()#plot_result=True)"
   ]
  },
  {
   "cell_type": "markdown",
   "id": "f342df23-413e-4cdf-a34f-d740b8c27f83",
   "metadata": {},
   "source": [
    "Så kan vi se hva som er i `linjer` variablen. Skriv `linjer` i cellen under, og kjør den."
   ]
  },
  {
   "cell_type": "markdown",
   "id": "1e98a18e-c023-4b7f-bbf4-cd7fd5083a2d",
   "metadata": {},
   "source": [
    "#### Sjekke integrasjonsvinduet"
   ]
  },
  {
   "cell_type": "markdown",
   "id": "e767c5b9-fc00-4b38-acb2-935b0eb7ac0c",
   "metadata": {},
   "source": [
    "Her ser vi at den er en liste med signaler, et for hvert grunnstoff. For å plotte dem: `linjer[0].plot()`\n",
    "\n",
    "Et mulig problem med denne typen prosessering, er hvis røntgen-linjene er så nærme at de overlapper. En måte å sjekke dette på, er å se hvor \"bredde\" integrasjonsvinduene er.\n",
    "\n",
    "Dette gjøres enkelts med å først å summere datasettet igjen. Bruk `sum` via `s`, til å lage en ny variabel `s_sum2`."
   ]
  },
  {
   "cell_type": "markdown",
   "id": "53a4b88c-5a47-4d20-bcb7-de130bd0525b",
   "metadata": {},
   "source": [
    "Så `plot` `s_sum2`, med argumentet `integration_windows='auto'`. Bruk forstørrelse-funksjonen til å sjekke at det ikke er for mye overlapp."
   ]
  },
  {
   "cell_type": "code",
   "execution_count": null,
   "id": "f82127b0-0026-495d-b2db-130b93fb7b45",
   "metadata": {},
   "outputs": [],
   "source": [
    "s_sum2 = s.sum()"
   ]
  },
  {
   "cell_type": "code",
   "execution_count": null,
   "id": "cacf3909",
   "metadata": {},
   "outputs": [],
   "source": [
    "#s_sum2.plot(integration_windows=\"auto\")"
   ]
  },
  {
   "cell_type": "markdown",
   "id": "2d87f66f-2d46-4b02-bd4b-349272a6238d",
   "metadata": {},
   "source": [
    "### Lage bilder av hvor grunnstoffene er\n",
    "\n",
    "Nå som vi kan se hvor de forskjellige grunnstoffene er, så lager vi en figur som viser dette.\n",
    "\n",
    "Først henter vi ut et og et grunnstoff, kall disse `s_si`, `s_fe`, ... . Siden `linjer` er en liste, så gjøres dette med `linjer[0]`, `linjer[1]`, ... . Pass på å sjekke hvilket grunnstoff de forskjellige signalene er!\n",
    "\n",
    "Viktig: disse signalene må transposes! Så kommandoen blir `linjer[0].T`."
   ]
  },
  {
   "cell_type": "markdown",
   "id": "14e2580b-c5b5-4dfa-ad58-e2a2bffb8de7",
   "metadata": {},
   "source": [
    "Så kan vi lage en matplotlib figur med et subplot per grunnstoffer dere har.\n",
    "\n",
    "- Tips 1: har dere backscatter elektron eller Sekundærelektron bilde, så er det også fint å ta med! Da må dere ha et ekstra subplot i tillegg.\n",
    "- Tips 2: hvis dere har veldig mange grunnstoff, så kan den være en fordel å ha 2 vertikale rader med subplot.\n",
    "- Tips 3: bruk figsize parameteren til å lage figures større, slik at subplotene passer inn. F.eks. hvis dere har 4 horisontale subplot, så kan `figsize=(20, 5)` passe bra.\n",
    "\n",
    "Importer matplotlib, lag figur og subplot objekter."
   ]
  },
  {
   "cell_type": "code",
   "execution_count": null,
   "id": "4807cdc7-2c19-4608-999a-d3170147a66d",
   "metadata": {},
   "outputs": [],
   "source": [
    "from matplotlib import pyplot as plt\n",
    "from mpl_toolkits.axes_grid1.anchored_artists import AnchoredSizeBar\n",
    "import matplotlib.font_manager as fm\n",
    "import matplotlib.patheffects as patheffects"
   ]
  },
  {
   "cell_type": "code",
   "execution_count": null,
   "id": "c712d333-3a0c-4231-aebb-87b1cfe80f96",
   "metadata": {},
   "outputs": [],
   "source": [
    "plt.figure()\n",
    "\n",
    "fontprops = fm.FontProperties(size=10)\n",
    "scalebar_kwargs = {\n",
    "    'size': 1, \n",
    "    'label': '1 µm', \n",
    "    'loc': 4, \n",
    "    'frameon': False, \n",
    "    'color': 'white', \n",
    "    'size_vertical': 0.1, \n",
    "    'label_top': False, \n",
    "    'fontproperties': fontprops\n",
    "    }\n",
    "\n",
    "for i in range(8):\n",
    "    t = elements[i]\n",
    "    d = linjer[i]\n",
    "    d = d.T\n",
    "    plt.subplot(2, 4, i+1)\n",
    "    plt.imshow(d, extent = d.axes_manager.signal_extent)\n",
    "    plt.title(t)\n",
    "    plt.colorbar()\n",
    "    plt.xticks([])\n",
    "    plt.yticks([])\n",
    "    scalebar = AnchoredSizeBar(transform=plt.gca().transData, **scalebar_kwargs)\n",
    "    scalebar.txt_label._text.set_path_effects([patheffects.withStroke(linewidth=2, foreground='black', capstyle=\"round\")])\n",
    "    plt.gca().add_artist(scalebar)\n",
    "\n",
    "plt.show()"
   ]
  },
  {
   "cell_type": "markdown",
   "id": "e3bfe459-e57e-48a4-a676-c5b88f4a3426",
   "metadata": {},
   "source": [
    "Så bruk `imshow` med forskjellige fargekart (`cmap`) til å visualisere dataene: for eksempel `\"Blues_r\"`, `\"Greens_r\"`, ... Se [matplotlib dokumentasjonen](https://matplotlib.org/stable/tutorials/colors/colormaps.html) for en fullstendig liste over alle fargekartene.\n",
    "\n",
    "Et ekstra plotte-element som burde være med her er en ting som viser antall tellinger. Dette gjøres ved å:\n",
    "\n",
    "- `cax_si = ax_si.imshow(.....)`\n",
    "- `fig.colorbar(cax_si, ax=ax_si)`"
   ]
  },
  {
   "cell_type": "markdown",
   "id": "bba4083f-401b-4176-b0a3-934fc58799a6",
   "metadata": {},
   "source": [
    "Legge til colorbars"
   ]
  },
  {
   "cell_type": "markdown",
   "id": "82fa60bf-f719-43f8-a907-ec9c92425a90",
   "metadata": {},
   "source": [
    "Så bruk tingene dere har lært i de andre dataøvingen, til å lage en figur:\n",
    "\n",
    "- Legg til scalebar\n",
    "- Ha annoteringer (a, b, c, ...), skriv hvilket grunnstoff det er: \"Fe\", \"Si\", ...\n",
    "- Fjern tomrommet som kommer rundt plottene\n",
    "- Fjern tallene som er rundt bildene. Her må dere mest sannsynlig manuelt stille på `figsize` til det blir bra\n",
    "\n",
    "Eksempel på en sånn figur, men uten alle annoteringene\n",
    "\n",
    "<img src=\"figurer/eds_kart.jpg\" width=900 height=900 />"
   ]
  }
 ],
 "metadata": {
  "kernelspec": {
   "display_name": "Python 3",
   "language": "python",
   "name": "python3"
  },
  "language_info": {
   "codemirror_mode": {
    "name": "ipython",
    "version": 3
   },
   "file_extension": ".py",
   "mimetype": "text/x-python",
   "name": "python",
   "nbconvert_exporter": "python",
   "pygments_lexer": "ipython3",
   "version": "3.9.5"
  }
 },
 "nbformat": 4,
 "nbformat_minor": 5
}
