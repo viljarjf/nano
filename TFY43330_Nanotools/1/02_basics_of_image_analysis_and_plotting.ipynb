{
 "cells": [
  {
   "cell_type": "markdown",
   "metadata": {},
   "source": [
    "# Plotting av Focused Ion Beam data med matplotlib\n",
    "\n",
    "Målet med denne Jupyter Notebooken er at dere skal lære hvordan man kan lage en figur med FIB data via `matplotlib`.\n",
    "\n",
    "Denne figuren skal inneholde minst 2 forskjellige bilder, hvor bare de relevante delene i bildene er med. Denne figuren skal også ha annoteringer, sånn som scalebar, a), b) og tekst som indikerer relevant objekter.\n",
    "\n",
    "Her så følger det med 3 eksempel bildefiler fra FIBen, denne Notebooken er designet for disse. Men det skal være enkelt for dere å tilpasse den til dataene dere har tatt opp.\n",
    "\n",
    "Tingene dere skal gjøre i denne øvingen er operasjoner som ganske lett kunne gjøres med vanlige bilderedigeringsprogrammer, men disse ferdighetene bygger et fundament for å jobbe med de mer avanserte dataene dere skal jobbe med i både TEM og SEM dataøvingene.\n",
    "\n",
    "## Denne dataøvingen\n",
    "\n",
    "For denne dataøvingen anbefaler jeg:\n",
    "\n",
    "1. Gå først igjennom Notebook med eksempelfilene: `bilde0.tif`, `bilde1.tif`, `bilde2.tif`\n",
    "2. Deretter tilpass Notebooken til deres egne data. Her kan dere velge 2 eller flere bilder, gjerne noen dere planlegger å bruke i labrapporten.\n",
    "\n",
    "## Innlevering\n",
    "\n",
    "Både bildefilen og en `HTML` versjon av Jupyter Notebooken dere har brukt til å lage den, skal leveres via Blackboard. Frist fredag 14. oktober."
   ]
  },
  {
   "cell_type": "markdown",
   "metadata": {},
   "source": [
    "# Åpne data\n",
    "\n",
    "La oss først kikke på en av TIFF filene fra FIBen. Disse kan vi f.eks. åpne ved hjelp av Python biblioteket `tifffile`. Importer dette biblioteket"
   ]
  },
  {
   "cell_type": "markdown",
   "metadata": {},
   "source": [
    "Det er mange andre måter å åpne mikroskopi-data også, f.eks. ved å bruke biblioteket `HyperSpy`, som vi skal bruke neste dataøving som omhandler TEM.\n",
    "\n",
    "Bruk funksjonen `imread` til å åpne `bilde0.tif` filen. Hvis du lurer på hvordan funksjonen virker, så kan du se på `docstring` til funksjonen ved å bruke `Shift` + `Tab`. Lagre denne til en variabel `bildedata0`"
   ]
  },
  {
   "cell_type": "markdown",
   "metadata": {},
   "source": [
    "Nå kan vi se hva som er i bilde-dataen vi akkurat åpnet. Gjør dette ved å skrive `bildedata0` i cellen under, og kjør den"
   ]
  },
  {
   "cell_type": "markdown",
   "metadata": {},
   "source": [
    "Her får vi opp noen verdiene som er i bildet. Dette er en `NumPy` array, som er et veldig viktig bibliotek i vitenskapelig Python. \n",
    "\n",
    "Men dette er ikke så altfor spennende! Sånne data er best å plotte i en figur.\n",
    "\n",
    "`matplotlib` er et plotte-bibliotek i Python, som ofte brukes til å visualisere vitenskapelig data.\n",
    "\n",
    "Importer sub-modulen `pyplot` i `matplotlib` og kall den `plt`"
   ]
  },
  {
   "cell_type": "markdown",
   "metadata": {},
   "source": [
    "Så lag en figur av `bildedata0` ved å bruke `imshow` funksjonen i `plt`."
   ]
  },
  {
   "cell_type": "code",
   "execution_count": null,
   "metadata": {
    "tags": []
   },
   "outputs": [],
   "source": [
    "import tiffile\n",
    "from matplotlib import pyplot as plt\n",
    "f0 = tiffile.imread(\"bilde0.tif\")\n",
    "plt.imshow(f0)"
   ]
  },
  {
   "cell_type": "markdown",
   "metadata": {
    "tags": []
   },
   "source": [
    "## Forbedre figuren: beskjæring\n",
    "\n",
    "Først: beskjære bildet, slik at vi bare får med selve vinduet.\n",
    "\n",
    "Vi gjør dette via NumPy slicing. Syntaksen her er `[y0:y1, x0:x1]` som virker på arrayen som skal beskjæres. `NUMPYARRAY[10:20, 10:20]`. Bruk bildet du allerede har lagd, til å finne `y0, y1, x0, x1`. Så lagre dette til en ny variabel: `bildedata0_c`."
   ]
  },
  {
   "cell_type": "code",
   "execution_count": null,
   "metadata": {},
   "outputs": [],
   "source": [
    "f0_c = f0[250:1600, 500:1630]\n",
    "plt.imshow(f0_c)"
   ]
  },
  {
   "cell_type": "markdown",
   "metadata": {},
   "source": [
    "Hvis beskjæringen ikke var bra nok, så bare gå tilbake til \"slicing\" cellen, og forandre tallene. Deretter kjør cellen med `imshow` på nytt."
   ]
  },
  {
   "cell_type": "markdown",
   "metadata": {},
   "source": [
    "## Bilde nummer 2\n",
    "\n",
    "Nå kan vi legge til flere bilder i samme figur. Dette er veldig nyttig for effektiv bruk av plass i rapporter.\n",
    "\n",
    "First åpne de en av de andre bildene (`bilde1.tif`), via `imread`. Kall den `bildedata1`. Deretter plot den via `plt.imshow`"
   ]
  },
  {
   "cell_type": "code",
   "execution_count": null,
   "metadata": {},
   "outputs": [],
   "source": [
    "f1 = tiffile.imread(\"bilde1.tif\")\n",
    "plt.imshow(f1)"
   ]
  },
  {
   "cell_type": "markdown",
   "metadata": {},
   "source": [
    "### Rotere og beskjære"
   ]
  },
  {
   "cell_type": "markdown",
   "metadata": {},
   "source": [
    "Her må vi både beskjære og rotere.\n",
    "\n",
    "Beskjær på samme måte som det forrige bildet, via numpy slicing."
   ]
  },
  {
   "cell_type": "markdown",
   "metadata": {},
   "source": [
    "Så må denne roteres, slik at den blir horisontal.\n",
    "\n",
    "Først må vi importere en rotasjonsfunksjon fra `scipy`, denne er sub-modulen `ndimage`, og funksjonen heter `rotate`. Her kan `from ... import ...` brukes"
   ]
  },
  {
   "cell_type": "markdown",
   "metadata": {},
   "source": [
    "Bruk `rotate`, til å gjøre vinduet horisontalt. Lag en ny variabel som heter `bildedata1_c`. Bruk docstring til å se hvordan den virker."
   ]
  },
  {
   "cell_type": "code",
   "execution_count": null,
   "metadata": {},
   "outputs": [],
   "source": [
    "from scipy.ndimage import rotate\n",
    "f1_cr = f1[300:1500, 450:1600]\n",
    "#f1_cr = rotate(f1_c, 89.5)[40:370, 40:1460]\n",
    "plt.imshow(f1_cr)\n"
   ]
  },
  {
   "cell_type": "markdown",
   "metadata": {},
   "source": [
    "### Bilde nummer 3\n",
    "\n",
    "Tilslutt så åpner vi det siste bildet, og her må vi rotere først, og så beskjære. Filen heter `bilde2.tif`."
   ]
  },
  {
   "cell_type": "markdown",
   "metadata": {},
   "source": [
    "Først se hvordan den ser ut via `plt.imshow`"
   ]
  },
  {
   "cell_type": "markdown",
   "metadata": {},
   "source": [
    "Så roter, slik at den blir horisontal. Lag en ny variabel `temp_bildedata2`"
   ]
  },
  {
   "cell_type": "markdown",
   "metadata": {},
   "source": [
    "Så beskjær bildet, slik at bare vinduet blir med."
   ]
  },
  {
   "cell_type": "code",
   "execution_count": null,
   "metadata": {},
   "outputs": [],
   "source": [
    "f2 = tiffile.imread(\"bilde2.tif\")\n",
    "f2_rc = f2[300:1330, 530:1560]\n",
    "plt.imshow(f2_rc)\n"
   ]
  },
  {
   "cell_type": "markdown",
   "metadata": {},
   "source": [
    "## Skalering av data"
   ]
  },
  {
   "cell_type": "markdown",
   "metadata": {},
   "source": [
    "En viktig del av vitenskapelig data er metadata. Dette er informasjon om dataene: aksjelerasjonsspenning, detektortype, og romlig kalibrering. Det sistnevnte er spesielt viktig for plotting av figurene her, siden vi vil ha en kalibrert \"scalebar\" i bildet.\n",
    "\n",
    "Metadataene får vi tilgang til via `tifffile.TiffFile`. Lag et `TiffFile` object `tif0`"
   ]
  },
  {
   "cell_type": "markdown",
   "metadata": {},
   "source": [
    "Metadataene er i `fei_metadata` i `tif0`. Husk at du kan \"minimere\" resultater fra celler ved å trykke på den blå vertikale linjen til venstre for cellen."
   ]
  },
  {
   "cell_type": "markdown",
   "metadata": {},
   "source": [
    "Dette inneholder veldig mye informasjon, som er nyttig når man skal skrive om dataene i ettertid. Spesielt siden det er lett å glemme å skrive ned metadata.\n",
    "\n",
    "Romlig kalibrering er i `['EScan']['PixelWidth']`, i dette tilfellet er `PixelWidth` og `PixelHeight` det samme. Så vi trenger bare en av dem. Lagre denne i en ny variabel: `skala0`"
   ]
  },
  {
   "cell_type": "markdown",
   "metadata": {},
   "source": [
    "Gjenta dette for `bilde1.tif` og `bilde2.tif`, slik at du får en `skala1` og `skala2`."
   ]
  },
  {
   "cell_type": "code",
   "execution_count": null,
   "metadata": {},
   "outputs": [],
   "source": [
    "tif0 = tiffile.TiffFile(\"bilde0.tif\")\n",
    "skala0 = tif0.fei_metadata[\"EScan\"][\"PixelWidth\"]\n",
    "tif1 = tiffile.TiffFile(\"bilde1.tif\")\n",
    "skala1 = tif0.fei_metadata[\"EScan\"][\"PixelWidth\"]\n",
    "tif2 = tiffile.TiffFile(\"bilde2.tif\")\n",
    "skala2 = tif0.fei_metadata[\"EScan\"][\"PixelWidth\"]"
   ]
  },
  {
   "cell_type": "markdown",
   "metadata": {},
   "source": [
    "# Lage plot med alle bildene"
   ]
  },
  {
   "cell_type": "markdown",
   "metadata": {},
   "source": [
    "Nå som vi har gjort de 3 bildene klare, så kan vi kombinere dem i en figur.\n",
    "\n",
    "Første steget er å lage et figur objekt `fig` og en liste med 3 sub-plot objekter `axarr`. Dette lages via `plt.subplots`.\n",
    "\n",
    "Tips: se på docstring med `Shift` + `Tab`, og bla ned til `Examples`. Her er vi ute etter å lage en figur, med tre vertikale subplot."
   ]
  },
  {
   "cell_type": "markdown",
   "metadata": {},
   "source": [
    "Deretter \"hent\" ut de forskjellige subplottene fra `axarr`: `ax0`, `ax1`, `ax2`. Husk at denne er en liste."
   ]
  },
  {
   "cell_type": "markdown",
   "metadata": {},
   "source": [
    "Så kan vi bruke `imshow` på hvert av disse subplottene, til å plotte bildene. Men først må vi ordne skaleringen, siden vi vil plotte dataene i mikrometer.\n",
    "\n",
    "Dette gjøres via `extent` i `imshow`. Formattet er: `[left, right, bottom, top]`.\n",
    "\n",
    "Lag `extent0`, `extent1` og `extent2`, i form av en liste.\n",
    "\n",
    "Merk at dette er i meter, så det må endres til mikrometer."
   ]
  },
  {
   "cell_type": "code",
   "execution_count": null,
   "metadata": {},
   "outputs": [],
   "source": [
    "fig, (ax0, ax1, ax2) = plt.subplots(3,1)\n",
    "extent0 = [0, skala0 * f0_c.shape[1] * 10**6, 0, skala0 * f0_c.shape[0] * 10**6]\n",
    "extent1 = [0, skala2 * f1_cr.shape[1] * 10**6, 0, skala1 * f1_cr.shape[0] * 10**6]\n",
    "extent2 = [0, skala2 * f2_rc.shape[1] * 10**6, 0, skala2 * f2_rc.shape[0] * 10**6]"
   ]
  },
  {
   "cell_type": "markdown",
   "metadata": {},
   "source": [
    "Så kan vi bruke dette i `imshow`. Bruk `imshow` i `ax0`, `ax1` og `ax2`, kombinert med `extent0`, `extent1`, og `extent2`.\n",
    "\n",
    "Tips: husk at det er veldig mye informasjon i docstrings! (`Shift` + `Tab`)"
   ]
  },
  {
   "cell_type": "code",
   "execution_count": null,
   "metadata": {},
   "outputs": [],
   "source": [
    "ax0.imshow(f0_c, extent = extent0)"
   ]
  },
  {
   "cell_type": "code",
   "execution_count": null,
   "metadata": {},
   "outputs": [],
   "source": [
    "ax1.imshow(f1_cr, extent = extent1)"
   ]
  },
  {
   "cell_type": "code",
   "execution_count": null,
   "metadata": {},
   "outputs": [],
   "source": [
    "ax2.imshow(f2_rc, extent = extent2)"
   ]
  },
  {
   "cell_type": "markdown",
   "metadata": {},
   "source": [
    "For å se på resultatet, så vi må lagre dette som en bildefil. Dette gjøres via `savefig` i `fig` objektet."
   ]
  },
  {
   "cell_type": "markdown",
   "metadata": {},
   "source": [
    "Figuren lagres via `savefig` i `fig` objektet: `bilde.jpg`"
   ]
  },
  {
   "cell_type": "code",
   "execution_count": null,
   "metadata": {},
   "outputs": [],
   "source": [
    "fig.savefig(\"bilde.png\", dpi = 300)"
   ]
  },
  {
   "cell_type": "markdown",
   "metadata": {},
   "source": [
    "Åpne dette bildet, f.eks. ved å trykke på \"Refresh File List\" i JupyterLab, eller åpne filen direkte på datamaskinen.\n",
    "\n",
    "Nå kan vi se hvordan figuren ser ut, og at det er en del ting som mangler.\n",
    "\n",
    "- Oppløsningen er dårlig\n",
    "- Masse ekstra \"tomrom\" som vi ikke bryr oss om\n",
    "- Vi vil heller ha en \"scale bar\" enn å ha tallene på x- og y-aksen\n",
    "- Det mangler annoteringer\n",
    "- Bildene har litt forskjellige størrelser: dette kan løses ved å at beskjæringen tilpasses slik at alle har samme forhold mellom bredde og høyde."
   ]
  },
  {
   "cell_type": "markdown",
   "metadata": {},
   "source": [
    "## Høyere oppløsning"
   ]
  },
  {
   "cell_type": "markdown",
   "metadata": {},
   "source": [
    "Øke oppløsning er enklelt: bruk `dpi` parameteren i `savefig`. F.eks. sett den til `300`."
   ]
  },
  {
   "cell_type": "markdown",
   "metadata": {},
   "source": [
    "## Legge til en skalebar\n",
    "\n",
    "Dette er litt komplisert kode, og bruker avanserte `matplotlib` funksjoner."
   ]
  },
  {
   "cell_type": "code",
   "execution_count": null,
   "metadata": {},
   "outputs": [],
   "source": [
    "from mpl_toolkits.axes_grid1.anchored_artists import AnchoredSizeBar\n",
    "import matplotlib.font_manager as fm\n",
    "import matplotlib.patheffects as patheffects\n",
    "fontprops = fm.FontProperties(size=10)"
   ]
  },
  {
   "cell_type": "code",
   "execution_count": null,
   "metadata": {},
   "outputs": [],
   "source": [
    "scalebar_kwargs = {'size': 1, 'label': '1 µm', 'loc': 4, 'frameon': False, 'color': 'white', 'size_vertical': 0.2, 'label_top': False, 'fontproperties': fontprops}\n",
    "scalebar0 = AnchoredSizeBar(transform=ax0.transData, **scalebar_kwargs)\n",
    "# Denne legger til et svart omriss rundt scalebar teksten, for å gjøre den lettere å lese\n",
    "scalebar0.txt_label._text.set_path_effects([patheffects.withStroke(linewidth=2, foreground='black', capstyle=\"round\")])\n",
    "ax0.add_artist(scalebar0)"
   ]
  },
  {
   "cell_type": "code",
   "execution_count": null,
   "metadata": {},
   "outputs": [],
   "source": [
    "scalebar1 = AnchoredSizeBar(transform=ax1.transData, **scalebar_kwargs)\n",
    "# Denne legger til et svart omriss rundt scalebar teksten, for å gjøre den lettere å lese\n",
    "scalebar1.txt_label._text.set_path_effects([patheffects.withStroke(linewidth=2, foreground='black', capstyle=\"round\")])\n",
    "ax1.add_artist(scalebar1)"
   ]
  },
  {
   "cell_type": "code",
   "execution_count": null,
   "metadata": {},
   "outputs": [],
   "source": [
    "scalebar2 = AnchoredSizeBar(transform=ax2.transData, **scalebar_kwargs)\n",
    "# Denne legger til et svart omriss rundt scalebar teksten, for å gjøre den lettere å lese\n",
    "scalebar2.txt_label._text.set_path_effects([patheffects.withStroke(linewidth=2, foreground='black', capstyle=\"round\")])\n",
    "ax2.add_artist(scalebar2)"
   ]
  },
  {
   "cell_type": "code",
   "execution_count": null,
   "metadata": {},
   "outputs": [],
   "source": [
    "fig.savefig(\"bilde.png\", dpi=300)"
   ]
  },
  {
   "cell_type": "markdown",
   "metadata": {},
   "source": [
    "## Legg til annoteringer"
   ]
  },
  {
   "cell_type": "markdown",
   "metadata": {},
   "source": [
    "### a, b og c"
   ]
  },
  {
   "cell_type": "markdown",
   "metadata": {},
   "source": [
    "Legge til markering av subplottene, sånn som `a`, `b` og `c`. Dette kan gjøres via `ax` sin `annotate` funksjon. Sjekk docstring for informasjon. Bruk `xycoords='axes fraction'`, `fontsize` og `color`."
   ]
  },
  {
   "cell_type": "markdown",
   "metadata": {},
   "source": [
    "Gjør dette for både `ax0`, `ax1` og `ax2`."
   ]
  },
  {
   "cell_type": "markdown",
   "metadata": {},
   "source": [
    "Så lagre `bilde.jpg` på nytt."
   ]
  },
  {
   "cell_type": "code",
   "execution_count": null,
   "metadata": {},
   "outputs": [],
   "source": [
    "ax0.annotate(\"a\", (0.05, 0.1), xycoords='axes fraction', fontsize = 12, color = \"k\")\n",
    "ax1.annotate(\"b\", (0.05, 0.1), xycoords='axes fraction', fontsize = 12, color = \"k\")\n",
    "ax2.annotate(\"c\", (0.05, 0.1), xycoords='axes fraction', fontsize = 12, color = \"k\")\n",
    "fig.savefig(\"bilde.png\", dpi=300)"
   ]
  },
  {
   "cell_type": "markdown",
   "metadata": {},
   "source": [
    "### Tall på objektene"
   ]
  },
  {
   "cell_type": "markdown",
   "metadata": {},
   "source": [
    "Så legg til annoteringer på selve objektene, igjen ved å bruke `annotate`."
   ]
  },
  {
   "cell_type": "markdown",
   "metadata": {},
   "source": [
    "## Fjerne \"akse-tall\""
   ]
  },
  {
   "cell_type": "markdown",
   "metadata": {},
   "source": [
    "Fjerne tallene rundt plottet, ved å bruke `set_xticks([])` og `set_yticks([])` i `ax`-objektene."
   ]
  },
  {
   "cell_type": "code",
   "execution_count": null,
   "metadata": {},
   "outputs": [],
   "source": [
    "ax0.set_xticks([])\n",
    "ax0.set_yticks([])\n",
    "ax1.set_xticks([])\n",
    "ax1.set_yticks([])\n",
    "ax2.set_xticks([])\n",
    "ax2.set_yticks([])\n",
    "fig.subplots_adjust()\n",
    "fig.savefig(\"bilde.png\", dpi=300)"
   ]
  },
  {
   "cell_type": "markdown",
   "metadata": {},
   "source": [
    "## Fjerne tomrom i `fig`\n",
    "\n",
    "Tilslutt, så fjerner vi tomrom rundt `fig` ved å bruke `subplots_adjust`"
   ]
  },
  {
   "cell_type": "markdown",
   "metadata": {},
   "source": [
    "Det siste tomrommet kom fjernes ved å fin-innstille `figwidth` og `figheight` via `fig.set_figwidth` og `fig.set_figheight`. For å se hva den er nå, bruk `fig.get_figwidth()` og `fig.get_figheight()`"
   ]
  },
  {
   "cell_type": "code",
   "execution_count": null,
   "metadata": {},
   "outputs": [],
   "source": [
    "print(fig.get_figwidth())\n",
    "print(fig.get_figheight())\n",
    "#fig.set_figwidth(4)\n",
    "#fig.set_figheight(3.5)\n",
    "#fig.savefig(\"bilde.png\")\n"
   ]
  },
  {
   "cell_type": "markdown",
   "metadata": {},
   "source": [
    "# Deres egne data\n",
    "\n",
    "Nå skal dere bruke denne Jupyter Notebooken til å lage tilsvarende figur, men med dataene dere tok opp i FIB-laben.\n",
    "\n",
    "## Måter figurene kan tilpasses:\n",
    "- `cmap` parameteren i `imshow`. For eksempel: `ax.imshow(..., cmap='inferno')`. Se [matplotlib sin dokumentasjon](https://matplotlib.org/stable/tutorials/colors/colormaps.html) for en liste over fargekart. Merk at \"perceptually uniform colormaps\" er foretrukket i datavisualisering!\n",
    "- Subplot posisjonering og størrelser kan kontrolleres med `add_subplot` og `GridSpec`\n",
    "    * `add_subplot`: https://matplotlib.org/stable/tutorials/intermediate/gridspec.html#basic-quickstart-guide\n",
    "    * `GridSpec`, mer komplisert, men mer kontroll: https://matplotlib.org/stable/tutorials/intermediate/gridspec.html#fine-adjustments-to-a-gridspec-layout "
   ]
  },
  {
   "cell_type": "markdown",
   "metadata": {},
   "source": [
    "# Fler eksempler på hva man kan gjøre med NumPy + matplotlib\n",
    "\n",
    "* https://en.wikipedia.org/wiki/Quantum_dot#/media/File:Gaas_inas_quantum_dot.jpg\n",
    "* https://en.wikipedia.org/wiki/Perovskite_(structure)#/media/File:Perovskite_oxide_thin_film.jpg med atomstruktur [Atomic Simulation Environment](https://wiki.fysik.dtu.dk/ase/ase/visualize/visualize.html#matplotlib) (ASE)\n",
    "* https://en.wikipedia.org/wiki/Scanning_transmission_electron_microscopy#/media/File:Scanning_transmission_electron_microscopy_srtio3_compare_adf_abf.jpg\n",
    "* https://en.wikipedia.org/wiki/Scanning_transmission_electron_microscopy#/media/File:Stem_dpc_schematic_magnetic_explanation.jpg\n",
    "* https://en.wikipedia.org/wiki/Scanning_transmission_electron_microscopy#/media/File:Ferromagnetic_domains_in_spiral_pattern_for_Fe60Al40.jpg\n",
    "* https://en.wikipedia.org/wiki/Electron_energy_loss_spectroscopy#/media/File:Electron_energy_loss_spectrum_feature_overview.svg\n",
    "* https://en.wikipedia.org/wiki/Electron_energy_loss_spectroscopy#/media/File:Electron_energy_loss_spectroscopy_coreloss_lsmo.svg"
   ]
  }
 ],
 "metadata": {
  "interpreter": {
   "hash": "f9f85f796d01129d0dd105a088854619f454435301f6ffec2fea96ecbd9be4ac"
  },
  "kernelspec": {
   "display_name": "Python 3.9.5 64-bit",
   "name": "python3"
  },
  "language_info": {
   "codemirror_mode": {
    "name": "ipython",
    "version": 3
   },
   "file_extension": ".py",
   "mimetype": "text/x-python",
   "name": "python",
   "nbconvert_exporter": "python",
   "pygments_lexer": "ipython3",
   "version": "3.9.5"
  }
 },
 "nbformat": 4,
 "nbformat_minor": 4
}
