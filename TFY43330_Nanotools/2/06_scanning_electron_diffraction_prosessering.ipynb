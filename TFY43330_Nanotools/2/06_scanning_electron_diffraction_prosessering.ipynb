{
 "cells": [
  {
   "cell_type": "markdown",
   "id": "731130d9-05a0-4c3f-8b89-c8d0c790b666",
   "metadata": {},
   "source": [
    "# Prosessering av Scanning Electron Diffraction (SED) data\n",
    "\n",
    "Denne Jupyter Notebooken viser hvordan Scanning Electron Diffraction (SED) data kan analyseres. Sammenlignet med analyse av \"standard\" TEM data som dere så på i forrige Notebook, så er dette mer komplisert på grunn av datastørrelsen: det er veldig enkelt å gå tom for minne, noe som (mest sannsynlig) gjør at datamaskinen deres kræsjer.\n",
    "\n",
    "### Målet med denne notebooken\n",
    "\n",
    "- Dere skal kunne prosessere SED datasettene fra TEM-laben\n",
    "- Bli komfortable med å jobbe med 4-dimensjonelle datasett\n",
    "- Lære litt enkle verktøy og strategier for å jobbe med store datasett, som ofte er mye større en tilgjengelig minne\n",
    "\n",
    "### Notebook-planen\n",
    "\n",
    "- \"Åpne\" datasettet uten å laste det inn i minnet, \"lazily\"\n",
    "- Utforske datasettet, via å redusere datamengden\n",
    "- Redusere datamengden, slik at vi kan laste det inn i minnet\n",
    "- Finne, og hente ut, individuelle diffraksjonsmønster\n",
    "\n",
    "Eksempel på bilde:\n",
    "\n",
    "<img src=\"bilder/sed_plot_example.jpg\" width=600 height=600 />\n",
    "\n",
    "Selve datasettene dere skal se på her er på ca. 8 GB, noe som er ganske smått i \"4-D STEM\" verdenen: disse kan lett være 100+ GB. Så selv om dere har en datamaskin som takler 8 GB, så anbefaler jeg at dere følger prosedyren for å redusere datastørrelsen."
   ]
  },
  {
   "cell_type": "markdown",
   "id": "e1cf10fb-a8a4-445b-add9-ee806f61925c",
   "metadata": {},
   "source": [
    "## Importere biblioteker\n",
    "\n",
    "Først, plotte-biblioteket. Dette kan enten være `%matplotlib qt` for egne vinduer for plottene, eller `%matplotlib widget` for å få plottene i selve Jupyter Notebooken."
   ]
  },
  {
   "cell_type": "code",
   "execution_count": null,
   "id": "b11f6c99-103d-4842-abce-32051d3b99a8",
   "metadata": {},
   "outputs": [],
   "source": []
  },
  {
   "cell_type": "markdown",
   "id": "c4446f10-1c3e-4c62-a552-ffdb745f7cfe",
   "metadata": {},
   "source": [
    "Så importere HyperSpy"
   ]
  },
  {
   "cell_type": "code",
   "execution_count": null,
   "id": "4a34d6b0-7b99-47b8-92e7-65b0fd589b98",
   "metadata": {},
   "outputs": [],
   "source": []
  },
  {
   "cell_type": "markdown",
   "id": "f3f096bd-a7ee-4a3f-981b-0bdd9e7b1a05",
   "metadata": {},
   "source": [
    "## Åpne dataset\n",
    "\n",
    "Dette gjøres via `hs.load`, som kan åpne en rekke dataformater, spesielt innenfor elektronmikroskopi. Velg et av STEM-DPC datasettene deres, disse skal ha:\n",
    "\n",
    "- `.hspy` filformat\n",
    "- Ha filnavn som IKKE inneholder: `stem_dpc`, `STEMDPC`, `LowMag`, `Low_Mag`, `lowmag`, `obj_off` eller `OBJOFF`\n",
    "- Som KAN inneholde: `SED` eller `sed`\n",
    "\n",
    "Siden disse er ganske store, så husk å bruk `lazy=True`. Lag et objekt som heter `s`.\n",
    "\n",
    "Tips: sjekk docstring for informasjon om hvordan `hs.load` virker."
   ]
  },
  {
   "cell_type": "code",
   "execution_count": null,
   "id": "65342755-b950-41a7-91e6-478188939715",
   "metadata": {},
   "outputs": [],
   "source": []
  },
  {
   "cell_type": "markdown",
   "id": "5b2c60fa-2149-4b41-92a4-ed20a9263d37",
   "metadata": {},
   "source": [
    "Skriv `s` i cellen under, og kjør cellen."
   ]
  },
  {
   "cell_type": "code",
   "execution_count": null,
   "id": "6e480b9d-b003-4a70-911a-dab5e970aa43",
   "metadata": {},
   "outputs": [],
   "source": []
  },
  {
   "cell_type": "markdown",
   "id": "a526fc3c-f541-445f-9119-8ad6e8402634",
   "metadata": {},
   "source": [
    "Her ser vi at dette er et `LazyElectronDiffraction2D` signal. `Lazy` betyr at dataene er ikke overført til RAM, ergo at dataene ennå bare er på harddisken. I tillegg ser vi at datasettet har `256 x 256` probe-posisjoner, og `256 x 256` detektorposisjoner. Hvert datapunkt er en 16-bit heltall, som gir 2 bytes. Dette gir en datastørrelse på: `256 * 256 * 256 * 256 * 2`, som er ca. 8.6 gigabytes.\n",
    "\n",
    "En del av dere har nok en datamaskin som kan takle dette, men la oss prøve å redusere datamengden litt.\n",
    "\n",
    "**VIKTIG:** det er veldig lett å kræsje datamaskinen når man holder på med såpass store datasett. Så pass på at dere har lagret ting dere har åpent."
   ]
  },
  {
   "cell_type": "markdown",
   "id": "668963a5-de62-4398-a75e-e86dcbe59acf",
   "metadata": {},
   "source": [
    "## Plotting av dataen\n",
    "\n",
    "`s` er et signal objekt som inneholder mange funksjoner. Et av disse er `plot`, prøv denne med argumentet `norm=\"symlog\"`. Dette gjør at signal dimensjonen blir plottet i log-log, som gjør det lettere å se de svake diffraksjonsdiskene. Siden dette er et `lazy` signal, så må HyperSpy kalkulere et navigasjonsbilde ved å hente ut deler (`chunks`) av gangen.\n",
    "\n",
    "Denne navigeringen kommer (mest sannsynlig) til å være ganske treg, dette fordi alt må leses fra harddisken. Planen nå er å redusere datastørrelsen, slik at vi kan laste alt inn i minnet, men først vil vi utforske datasettet litt for å se hvor mye vi kan redusere datasettet.\n",
    "\n",
    "Dere får opp to bilder: \"navigeringsplot\" og \"signalplot\".\n",
    "\n",
    "<img src=\"bilder/SED_plot_nav_og_sig.jpg\" width=700 height=700 />\n",
    "\n",
    "- Tips 1: navigatoren kan gjøres større ved å trykke på `+` knappen på **tastaturet**. Og mindre med å trykke på `-` knappen på **tastaturet**. Dette summerer IKKE flere piksler, men er bare en måte å lettere treffe navigator-markøren.\n",
    "- Tips 2: dere kan også flytte rundt med pil-tastene.\n",
    "\n",
    "(Siden folk har litt forskjellige datasett, så er det sannsynlig at ikke alt dette er relevant for alle.)"
   ]
  },
  {
   "cell_type": "code",
   "execution_count": null,
   "id": "cff78b1f-6cf6-4626-918f-0270db21ab11",
   "metadata": {},
   "outputs": [],
   "source": []
  },
  {
   "cell_type": "markdown",
   "id": "b9101d18-0deb-4a2d-9625-91f10829c17b",
   "metadata": {},
   "source": [
    "Det som er mest interessant i disse datasettene, er hvordan diffraksjonsbildene ser ut i de forskjellige områdene.\n",
    "\n",
    "Dette brukes til å finne ut hva slags krystall-struktur vi har.\n",
    "\n",
    "Men først, så lager vi et litt mindre datasett, som brukes til å utforske datasettet.\n",
    "\n",
    "Finn senter-posisjonen til senter-disken:\n",
    "\n",
    "<img src=\"bilder/sed_senter_av_senterdisk.jpg\" width=700 height=700 />\n",
    "\n",
    "Så bruk `radial_average` med `x` som `centre_x` og `y` som `centre_y` parameterne, til å lage en ny variabel `s_r`."
   ]
  },
  {
   "cell_type": "code",
   "execution_count": null,
   "id": "3b44249a-4941-4ac2-9193-a446697d6beb",
   "metadata": {},
   "outputs": [],
   "source": []
  },
  {
   "cell_type": "markdown",
   "id": "52e0a0f8-563b-4005-9777-459bf186f6a7",
   "metadata": {},
   "source": [
    "Dette nye `s_r` signalet er antall elektroner som en funksjon av spredningsvinkel, og er mye mindre enn `s`. Dette fordi vi har redusert datasettet fra 4-dimensjoner til 3-dimensjoner.\n",
    "\n",
    "Nå kan vi utforske datasettet på en enkel og rask måte, siden det er lite nok til å lastes inn i minnet.\n",
    "\n",
    "Bruk `s_r.T.plot()` for å visualisere prøven. Med denne kan vi navigere datasettet som en funksjon av spredningsvinkelen, som gjør at vi lett kan bytte mellom virtuell \"bright field\", virtuell \"annular dark field (ADF)\" og \"medium angle ADF (MAADF)\" og \"high angle ADF (HAADF)\". Dette gjøres ved å trykke på og dra den røde navigator linjen (se bilde), eller ved å bruke piltastene på tastaturet.\n",
    "\n",
    "<img src=\"bilder/radial_average_example.jpg\" width=500 height=500 />"
   ]
  },
  {
   "cell_type": "code",
   "execution_count": null,
   "id": "f2186fd2-8e45-4193-8cca-7433907a5c34",
   "metadata": {},
   "outputs": [],
   "source": []
  },
  {
   "cell_type": "markdown",
   "id": "1326201b-634c-407d-a52c-e9566b8ffa20",
   "metadata": {},
   "source": [
    "## Finne diffraksjonsmønstre"
   ]
  },
  {
   "cell_type": "markdown",
   "id": "4b106fa2-5674-4719-87bf-3c1f2a45a718",
   "metadata": {},
   "source": [
    "Etter å ha utforsket materialet litt, så finn noen interessante områder. Noter ned x- og y-posisjonene til disse.\n",
    "\n",
    "<img src=\"bilder/sed_get_xy_position.jpg\" width=900 height=900 />\n",
    "\n",
    "Så, bruk `.inav` til å plukke ut disse posisjonene, som du kan bruke til å lage signal med diffraksjonsbilder. Dette bruker dere så til å lage plot med både navigasjonssignal, og med diffraksjonsbildene. Dette for å vise hva slags strukturer vi har.\n",
    "\n",
    "Bruk `.inav[x, y]` til å lage signaler: `s_diff0`, `s_diff1`, ... som viser hvordan strukturen er på forskjellige steder.\n",
    "\n",
    "For noen av disse posisjonen, så kan signalet være litt dårlig. Hvis dette er tilfellet, så kan dere summere de nærliggende probe-posisjonene. F.eks. ved å bruke `s.inav[x0:x1, y0:y1].sum()`.\n",
    "\n",
    "Merk: disse er `lazy` signaler, så kjør `.compute()` på dem!"
   ]
  },
  {
   "cell_type": "code",
   "execution_count": null,
   "id": "b84a7266-a75c-49ae-92b7-d2aa65b4ad0f",
   "metadata": {},
   "outputs": [],
   "source": [
    "\n"
   ]
  },
  {
   "cell_type": "code",
   "execution_count": null,
   "id": "6dc998b3-5da4-41ff-946f-8b1c6b15f681",
   "metadata": {},
   "outputs": [],
   "source": [
    "\n"
   ]
  },
  {
   "cell_type": "code",
   "execution_count": null,
   "id": "b666a9fc-a157-424e-8905-d84fb889f6b2",
   "metadata": {},
   "outputs": [],
   "source": []
  },
  {
   "cell_type": "code",
   "execution_count": null,
   "id": "ce6e0f03-b38d-426f-a7cd-6942e5c745eb",
   "metadata": {},
   "outputs": [],
   "source": []
  },
  {
   "cell_type": "markdown",
   "id": "1489f759-520c-486f-884b-68696d1a00f0",
   "metadata": {},
   "source": [
    "### Lage oversiktsbilde\n",
    "\n",
    "En enkel måte å lage et oversiktsbilde, er å summere intensiteten i diffraksjonsmønsteret. Gjør dette med `sum` funksjonen i `s`, bruk argumentet `axis=(-1, -2)`.\n",
    "\n",
    "Lag en ny variabel: `s_oversikt`"
   ]
  },
  {
   "cell_type": "code",
   "execution_count": null,
   "id": "9dc42504-35de-4fc9-95a7-416495aa96c1",
   "metadata": {},
   "outputs": [],
   "source": []
  },
  {
   "cell_type": "markdown",
   "id": "6b649480-9add-4c76-8583-e1284d10424c",
   "metadata": {},
   "source": [
    "Så kjør `compute()` funksjonen i `s_oversikt`"
   ]
  },
  {
   "cell_type": "code",
   "execution_count": null,
   "id": "f33d175a-2486-45c3-97e1-ac82bc2a4032",
   "metadata": {},
   "outputs": [],
   "source": []
  },
  {
   "cell_type": "markdown",
   "id": "afa456ef-877a-479c-a1f2-620bbd940eb2",
   "metadata": {},
   "source": [
    "## Lage figur\n",
    "\n",
    "Bruk disse til å lage en figur med oversiktsbilde + diffraksjonsbilder.\n",
    "\n",
    "Noe som ligner på eksemplet helt i starten av denne Notebooken.\n",
    "\n",
    "### Plotting av diffraksjonsbilder\n",
    "\n",
    "Disse har ofte veldig store variasjoner i intensitet, så det er best å plotte disse i log-log plot. Gjør dette med:\n",
    "\n",
    "```python\n",
    "import matplotlib.colors as colors\n",
    "norm = colors.SymLogNorm(1, vmin=1, vmax=s_diff0.data.max())\n",
    "```\n",
    "\n",
    "Så bruk `ax.imshow(..., norm=norm)`. Ergo så må dette gjøres for hvert diffraksjonsbilde"
   ]
  },
  {
   "cell_type": "code",
   "execution_count": null,
   "id": "c5087730-a50b-468e-aa3c-6b2acd4f7265",
   "metadata": {},
   "outputs": [],
   "source": []
  },
  {
   "cell_type": "code",
   "execution_count": null,
   "id": "9bcfbfe8-c4de-4363-87ea-89a8adc81471",
   "metadata": {},
   "outputs": [],
   "source": []
  },
  {
   "cell_type": "code",
   "execution_count": null,
   "id": "b788b878-55e7-4283-995c-e37669883e30",
   "metadata": {},
   "outputs": [],
   "source": []
  },
  {
   "cell_type": "code",
   "execution_count": null,
   "id": "160bd769-93d2-4fd4-b148-628ffd1902d2",
   "metadata": {},
   "outputs": [],
   "source": []
  },
  {
   "cell_type": "code",
   "execution_count": null,
   "id": "c5c0540d-df95-46e1-ac48-7bae21edd0b9",
   "metadata": {},
   "outputs": [],
   "source": []
  },
  {
   "cell_type": "code",
   "execution_count": null,
   "id": "d7c285dd-9f83-4c69-97f9-a170e0d9b35c",
   "metadata": {},
   "outputs": [],
   "source": []
  },
  {
   "cell_type": "code",
   "execution_count": null,
   "id": "ed28487b-e3dc-4dba-bb7c-476f1e2709a0",
   "metadata": {},
   "outputs": [],
   "source": []
  },
  {
   "cell_type": "code",
   "execution_count": null,
   "id": "a5726964-e72a-4acb-9cc5-980be8379807",
   "metadata": {},
   "outputs": [],
   "source": []
  },
  {
   "cell_type": "code",
   "execution_count": null,
   "id": "96e374ad-5543-4e69-b2d9-aeb4d517674f",
   "metadata": {},
   "outputs": [],
   "source": []
  },
  {
   "cell_type": "code",
   "execution_count": null,
   "id": "e4b57983-508b-4797-98d9-9a23cbde18d7",
   "metadata": {},
   "outputs": [],
   "source": [
    "\n",
    "\n",
    "\n",
    "\n",
    "\n",
    "\n"
   ]
  },
  {
   "cell_type": "code",
   "execution_count": null,
   "id": "6bd52811-07d0-4c3c-9efc-e6681cf77a41",
   "metadata": {},
   "outputs": [],
   "source": [
    "\n",
    "\n"
   ]
  },
  {
   "cell_type": "code",
   "execution_count": null,
   "id": "3866fb15-52fd-4f8e-89d9-1441cc72d556",
   "metadata": {},
   "outputs": [],
   "source": [
    "\n"
   ]
  },
  {
   "cell_type": "code",
   "execution_count": null,
   "id": "eda56185-6c8d-4900-a5f3-72e0b6ac56c7",
   "metadata": {},
   "outputs": [],
   "source": [
    "\n"
   ]
  }
 ],
 "metadata": {
  "kernelspec": {
   "display_name": "Python 3",
   "language": "python",
   "name": "python3"
  },
  "language_info": {
   "codemirror_mode": {
    "name": "ipython",
    "version": 3
   },
   "file_extension": ".py",
   "mimetype": "text/x-python",
   "name": "python",
   "nbconvert_exporter": "python",
   "pygments_lexer": "ipython3",
   "version": "3.9.7"
  }
 },
 "nbformat": 4,
 "nbformat_minor": 5
}
