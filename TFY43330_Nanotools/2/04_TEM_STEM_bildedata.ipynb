{
 "cells": [
  {
   "cell_type": "markdown",
   "id": "e3eda48d-b6a8-4310-8dbc-372b0819ee3c",
   "metadata": {},
   "source": [
    "# Plotting av TEM bildedata\n",
    "\n",
    "Målet med denne Jupyter Notebooken er at dere skal bli litt kjent med HyperSpy, og hvordan dere kan både åpne og visualisere TEM data. Disse er vanligvis i DM3-formatet, hvor HyperSpy kan lese både dataen og metadataen.\n",
    "\n",
    "Denne kunnskapen blir nyttig i neste Notebook, hvor dere skal prosessere mer avansert data: STEM - Differential Phase Constrast (DPC) og Scanning Electron Diffraction (SED). I tillegg skal HyperSpy sin spektroskopi-funksjonalitet brukes i neste øving, til å analysere data fram SEMen.\n",
    "\n",
    "## Instruksjoner\n",
    "\n",
    "Før dere begynner med denne Jupyter Notebooken er det viktig at dere har gått igjennom instruksjonene:\n",
    "\n",
    "- Rigge opp \"pyxem\" environment, som har alle python pakkene dere trenger: `pyxem`, `hyperspy`, `hyperspy-gui-ipywidgets`, `hyperspy-gui-traitsui`, `ipympl` og `jupyterlab`\n",
    "- Aktivere dette \"pyxem\" environment\n",
    "- Ha dataene i samme mappe som Jupyter Notebookene\n",
    "\n",
    "## Blackboard levering\n",
    "\n",
    "Fra denne Jupyter Notebooken skal dere levere både bildefil og HTML-versjon av Jupyter Notebooken dere brukte til å lage bildefilen. HTML-filen må være i en ZIP-fil.\n",
    "\n",
    "Eksempel på hvordan bildet kan se ut, med skala-indikator, \"høy-kontrast\" tekst, og litt annoteringer. Merk at dere skal ikke bruke akkurat de annoteringene: bildet er bare en indikator for hvordan denne typen figurer burde se ut.\n",
    "\n",
    "<img src=\"bilder/eksempelbilde.jpg\" width=300 height=300 />\n",
    "\n",
    "Merk at dere skal OGSÅ levere bildefil og HTML-versjon av Jupyter Notebooken for enten STEM-DPC eller SED: se de andre Notebooken (05 og 06) for mer informasjon om dette."
   ]
  },
  {
   "cell_type": "markdown",
   "id": "e4d036b6-379e-4917-ad6e-6b5c0a2c2421",
   "metadata": {},
   "source": [
    "## Importere plotte-bibliotek og `hyperspy`\n",
    "\n",
    "Først må plotte-biblioteket defineres, med `%matplotlib qt`, eller `%matplotlib widget`. Jeg anbefaler `%matplotlib qt`. Av og til så virker den ikke, i dette tilfellet, bruk `widget`."
   ]
  },
  {
   "cell_type": "code",
   "execution_count": null,
   "id": "fa876863-2d91-4a21-bfdc-891032b42692",
   "metadata": {},
   "outputs": [],
   "source": []
  },
  {
   "cell_type": "markdown",
   "id": "98c09850-9e78-4772-9edb-015e152942f5",
   "metadata": {},
   "source": [
    "Så importer `hyperspy.api` som `hs`.\n",
    "\n",
    "Dere kan få en `WARNING:hyperspy_gui_...`. Denne kan ignoreres.\n",
    "\n",
    "Hvis dere får feilmeldingen `ModuleNotFoundError: No module named 'hyperspy'`, så:\n",
    "\n",
    "- Skru av JupyterLab (File - Shut Down)\n",
    "- Anaconda Navigator: \"Applications on\", velg pyxem\n",
    "\n",
    "Hvis du IKKE finner pyxem der, så gå igjennom \"01_installasjon_i_anaconda_navigator.pdf\""
   ]
  },
  {
   "cell_type": "code",
   "execution_count": null,
   "id": "85b05e09-b34f-4b3b-bd9e-7119891d7879",
   "metadata": {},
   "outputs": [],
   "source": []
  },
  {
   "cell_type": "markdown",
   "id": "346a870f-1595-4ba5-becf-f597554d72d9",
   "metadata": {},
   "source": [
    "## Åpne dataset\n",
    "\n",
    "Dette gjøres via `hs.load`, som kan åpne en rekke dataformater, spesielt innenfor elektronmikroskopi. \n",
    "\n",
    "Velg en av datasettene deres som har filformat `.dm3`. Gjerne en av de som dere kan tenke å bruke i labrapporten deres.\n",
    "\n",
    "Lag et objekt som heter `s`.\n",
    "\n",
    "Tips: sjekk docstring for informasjon om hvordan `hs.load` virker."
   ]
  },
  {
   "cell_type": "code",
   "execution_count": null,
   "id": "3c0a5d24-7f51-4c7c-be12-895510269428",
   "metadata": {},
   "outputs": [],
   "source": []
  },
  {
   "cell_type": "markdown",
   "id": "b41a8c43-81be-4b60-83ae-f3c38e1c214f",
   "metadata": {},
   "source": [
    "Dette lager et `Signal2D` objekt, som inneholder mange forskjellige funksjoner.\n",
    "\n",
    "En av disse er en plotte-funksjon, som visualiserer dataene.\n",
    "\n",
    "Bruk `plot` funksjonen, som er en del av `s` objektet. Hvis du har brukt `%matplotlib qt` så åpnes dette som et eget vindu, dette kommer ofte \"bak\" nettleseren denne Notebooken er i. Så hvis vinduet ikke blir synlig, prøv å minimer nettleseren.\n",
    "\n",
    "Hvis du bruker `%matplotlib widget` så kommer plottet rett i notebooken."
   ]
  },
  {
   "cell_type": "code",
   "execution_count": null,
   "id": "a59b50c0-be36-46fc-a03f-536a05d7190d",
   "metadata": {},
   "outputs": [],
   "source": []
  },
  {
   "cell_type": "markdown",
   "id": "af1c7a0a-51ec-46e1-9167-5484973af69d",
   "metadata": {},
   "source": [
    "Dette er et interaktivt plot. Merk at dataene er automatisk kalibrert, ved at det er en scalebar med enten nano eller mikrometer.\n",
    "\n",
    "I tillegg kan kontrasten endres med kontrast editoren: trykk på bildet, og så trykk på `H` knappen. Merk at dette bare virker med `%matplotlib qt`. Hvis du må bruke `%matplotlib widget`, så kan dette endres med `s.plot(vmin=0, vmax=1000)`.\n",
    "\n",
    "Dette endrer bare visualiseringen i plottet, ikke dataene. Her er dette bare for å vise funksjonalitetene, dere trenger ikke å gjøre noe spesielt med dette plottet."
   ]
  },
  {
   "cell_type": "markdown",
   "id": "7e857f7e-0136-4ec0-acf5-67a1aeb93fa5",
   "metadata": {},
   "source": [
    "## `Signal2D` strukturen\n",
    "\n",
    "Denne måten å jobbe med data er veldig praktisk, siden funksjonene finnes i data-objektet (signalet). Selve dataene er en NumPy array.\n",
    "\n",
    "Skriv `s.data`, og kjør cellen."
   ]
  },
  {
   "cell_type": "code",
   "execution_count": null,
   "id": "82822710-4f56-47f1-86ad-853cfd4d224c",
   "metadata": {},
   "outputs": [],
   "source": []
  },
  {
   "cell_type": "markdown",
   "id": "a6685740-fad0-458d-95ac-470a9930dc2d",
   "metadata": {},
   "source": [
    "Her kan vi se alle tall-verdiene til dataene i plottet vi så tidligere.\n",
    "\n",
    "Men dette er bare selve dataene, metadatanene sånn som kablibrering er i `s.axes_manager`. Prøv dette."
   ]
  },
  {
   "cell_type": "code",
   "execution_count": null,
   "id": "aa9b0701-3e1e-459f-81c6-b1efce5172db",
   "metadata": {},
   "outputs": [],
   "source": []
  },
  {
   "cell_type": "markdown",
   "id": "e29496de-7d48-47c8-9a91-135789f24bfe",
   "metadata": {},
   "source": [
    "Disse tallene er vanligvis riktige, men alltid sjekk at de ser rimlige ut! For \"standard\" moduser så pleier de å være greie, men f.eks. i STEM-DPC data så er det mest sannsylig feil. Den vanligste måten å sjekke disse kablibreringene, er via objekter med kjente størrelser. For eksempel størrelsen på \"vinduene\", eller hvis man har atomæroppløsning så kan man bruke atomgitteret.\n",
    "\n",
    "Andre metadata finner dere i `s.metadata`. Finn ut hva akselerasjonsspenningen (beam energy) var, via `Acquisition_instrument` - `TEM` (Trykk på pilen)"
   ]
  },
  {
   "cell_type": "code",
   "execution_count": null,
   "id": "e363591f-7aa2-4210-829c-0c8b6cf77909",
   "metadata": {},
   "outputs": [],
   "source": []
  },
  {
   "cell_type": "markdown",
   "id": "f45e63e7-dd2f-4c2b-b7c8-c1b4ce0898bf",
   "metadata": {},
   "source": [
    "Her finner man informasjon om mikroskopet, sånn som akselerasjonspenning. Informasjon om prøven er ting man vanligvis må manuelt skrive inn, så denne informasjon er ganske ofte feil."
   ]
  },
  {
   "cell_type": "markdown",
   "id": "90bd75a5-c0c4-470e-ac2c-585b933b625f",
   "metadata": {},
   "source": [
    "## Plotting av data\n",
    "\n",
    "Laging av bildefiler er veldig likt som for FIB-bildene, men det er et par triks.\n",
    "\n",
    "Først importer `matplotlib.pyplot` som `plt`, og lag en `fig` og `ax` via `plt.subplots`."
   ]
  },
  {
   "cell_type": "code",
   "execution_count": null,
   "id": "80917d44-76e3-45a5-91ba-64ad6cd2713e",
   "metadata": {},
   "outputs": [],
   "source": []
  },
  {
   "cell_type": "code",
   "execution_count": null,
   "id": "bddbf5a0-fdef-4fc0-8e1b-dec4f3a05a2c",
   "metadata": {},
   "outputs": [],
   "source": []
  },
  {
   "cell_type": "markdown",
   "id": "a5d92290-b750-4a34-8b0f-7ef18e2b2ef8",
   "metadata": {},
   "source": [
    "Deretter bruk `imshow` i `ax`, med `s.data` som bildedata, og `s.axes_manager.signal_extent` som `extent`."
   ]
  },
  {
   "cell_type": "code",
   "execution_count": null,
   "id": "71524fd2-37b9-41a0-93f9-ae946afe7c93",
   "metadata": {},
   "outputs": [],
   "source": []
  },
  {
   "cell_type": "markdown",
   "id": "6c5e78a3-f485-403f-971c-3e88228a4f22",
   "metadata": {},
   "source": [
    "Så kan man bruke akkurat de samme plotte-funksjonene som med FIB-dataene."
   ]
  },
  {
   "cell_type": "markdown",
   "id": "1bb0f969-53cd-4358-8cb0-daa14500bad3",
   "metadata": {},
   "source": [
    "### Endre på kontrast: `clim`\n",
    "\n",
    "Et vanlig problem i denne type data er store forskjeller i intensitet i bildet. Ergo at det er veldig lyse og veldig mørke området, som gjør det vanskelig å se detaljene man er interessert i.\n",
    "\n",
    "En løsning på dette er å lagre `AxesImage` som en variabel (`cax = ax.imshow(.....)`, og bruke `set_clim` funksjonen i `cax`.\n",
    "\n",
    "Tips\n",
    "- Bruk `get_clim` for å se hva de automatiske verdiene er, og bruk disse som et utgangspunkt\n",
    "- Sjekk docstring til `set_clim` for å se hvordan den virker (`Shift` + `Tab`)"
   ]
  },
  {
   "cell_type": "code",
   "execution_count": null,
   "id": "9503ce89-ff56-4db5-8604-9d9b69b53b88",
   "metadata": {},
   "outputs": [],
   "source": []
  },
  {
   "cell_type": "code",
   "execution_count": null,
   "id": "2cda259e-f4b5-4a99-b3bf-64e43c86a214",
   "metadata": {},
   "outputs": [],
   "source": []
  },
  {
   "cell_type": "code",
   "execution_count": null,
   "id": "ccd452d0-e700-4a88-b47c-10302a2f9b58",
   "metadata": {},
   "outputs": [],
   "source": []
  },
  {
   "cell_type": "markdown",
   "id": "edd516cb-0060-4bd1-aad7-ed9b416ca363",
   "metadata": {},
   "source": [
    "# TEM-data-figur\n",
    "\n",
    "Bruk denne Notebooken i tillegg til kunnskapen og koden dere brukte i FIB-øvingen til å lage en bildefil med TEM-data, gjerne en dere tenker å bruke i labrapporten.\n",
    "\n",
    "Denne skal ha samme \"format\" som FIB-bildet:\n",
    "\n",
    "- Inneholde et eller flere bilder\n",
    "- Ha scalebar\n",
    "- Noen annoteringer"
   ]
  },
  {
   "cell_type": "code",
   "execution_count": null,
   "id": "8ffc4813-2f07-4f7b-b6a1-175919a97866",
   "metadata": {},
   "outputs": [],
   "source": []
  },
  {
   "cell_type": "code",
   "execution_count": null,
   "id": "6cdddb28-1550-4fce-8949-aeddb28544c1",
   "metadata": {},
   "outputs": [],
   "source": []
  },
  {
   "cell_type": "code",
   "execution_count": null,
   "id": "0ee5de0d-8d9d-4424-b507-ea06d1849ea1",
   "metadata": {},
   "outputs": [],
   "source": []
  },
  {
   "cell_type": "code",
   "execution_count": null,
   "id": "4e49dac0-4f99-4217-9f29-cffec0e63ae6",
   "metadata": {},
   "outputs": [],
   "source": []
  },
  {
   "cell_type": "code",
   "execution_count": null,
   "id": "20a9d889-c228-45ab-90e0-02ed5cf09a5b",
   "metadata": {},
   "outputs": [],
   "source": []
  },
  {
   "cell_type": "code",
   "execution_count": null,
   "id": "d1490c9b-0c5b-49ee-b3f2-f1570ae8c396",
   "metadata": {},
   "outputs": [],
   "source": []
  },
  {
   "cell_type": "code",
   "execution_count": null,
   "id": "a56eac85-8bad-428b-9183-d16e6622e565",
   "metadata": {},
   "outputs": [],
   "source": []
  },
  {
   "cell_type": "code",
   "execution_count": null,
   "id": "31fdaf86-b7a8-483e-b53b-647794b7a1e0",
   "metadata": {},
   "outputs": [],
   "source": []
  },
  {
   "cell_type": "markdown",
   "id": "3066c446-c447-4903-8368-92eabd185a34",
   "metadata": {},
   "source": [
    "# Neste Jupyter Notebook: STEM-DPC eller SED\n",
    "\n",
    "Nå som dere kan basisen om hvordan HyperSpy virker, så fortsett med enten `..._STEM_DPC...` eller `..._scanning_electron_diffraction_...` notebooken. Dere skal bare levere en av disse på blackboard, men hvis dere har begge datatypene fra TEM-laben så anbefaler jeg å gå igjennom begge."
   ]
  }
 ],
 "metadata": {
  "kernelspec": {
   "display_name": "Python 3",
   "language": "python",
   "name": "python3"
  },
  "language_info": {
   "codemirror_mode": {
    "name": "ipython",
    "version": 3
   },
   "file_extension": ".py",
   "mimetype": "text/x-python",
   "name": "python",
   "nbconvert_exporter": "python",
   "pygments_lexer": "ipython3",
   "version": "3.9.7"
  }
 },
 "nbformat": 4,
 "nbformat_minor": 5
}
