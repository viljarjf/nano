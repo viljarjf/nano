{
 "cells": [
  {
   "cell_type": "markdown",
   "metadata": {},
   "source": [
    "<!-- KODE = \"ja\", \"nei\", default \"ja\" -->\n",
    "\n",
    "\n",
    "$\\newcommand{mb}[1]{\\mathbf{#1}}$\n",
    "\n",
    "<!-- dom:TITLE: Stiff differential equations.  -->\n",
    "# Stiff differential equations. \n",
    "<!-- dom:AUTHOR: Anne Kværnø -->\n",
    "<!-- Author: -->  \n",
    "**Anne Kværnø**\n",
    "\n",
    "Date: **Nov 3, 2020**\n",
    "\n",
    "With revisions by **Markus Grasmair**.\n",
    "\n",
    "This note is a continuation of the note *Ordinary differential equations*. We\n",
    "will use the codes from that note here as well. To improve the flow of the\n",
    "arguments, these codes are included at the top, before the introduction. But run\n",
    "the codes now, you will need them later."
   ]
  },
  {
   "cell_type": "code",
   "execution_count": 1,
   "metadata": {
    "collapsed": false
   },
   "outputs": [],
   "source": [
    "%matplotlib inline\n",
    "\n",
    "from numpy import *\n",
    "from numpy.linalg import norm, solve\n",
    "from matplotlib.pyplot import *\n",
    "newparams = {'figure.figsize': (8.0, 4.0), 'axes.grid': True,\n",
    "             'lines.markersize': 8, 'lines.linewidth': 2,\n",
    "             'font.size': 14}\n",
    "rcParams.update(newparams)"
   ]
  },
  {
   "cell_type": "code",
   "execution_count": 2,
   "metadata": {
    "collapsed": false
   },
   "outputs": [],
   "source": [
    "def euler(f, x, y, h):\n",
    "    # One step of the Euler method\n",
    "    y_next = y + h*f(x, y)\n",
    "    x_next = x + h\n",
    "    return x_next, y_next\n",
    "# end of euler\n",
    "\n",
    "\n",
    "def heun(f, x, y, h):\n",
    "    # One step of Heun's method\n",
    "    k1 = f(x, y)\n",
    "    k2 = f(x+h, y+h*k1)\n",
    "    y_next = y + 0.5*h*(k1+k2)\n",
    "    x_next = x + h\n",
    "    return x_next, y_next\n",
    "# end of heun\n",
    "\n",
    "\n",
    "def ode_solver(f, x0, xend, y0, h, method=euler):\n",
    "    '''\n",
    "    Generic solver for ODEs\n",
    "       y' = f(x,y), y(a)=y0\n",
    "    Input: f, the integration interval x0 and xend, \n",
    "           the stepsize h and the method of choice.  \n",
    "      \n",
    "    Output: Arrays with the x- and the corresponding y-values. \n",
    "    '''\n",
    "    \n",
    "    # Initializing:\n",
    "    y_num = array([y0])    # Array for the solution y \n",
    "    x_num = array([x0])    # Array for the x-values\n",
    "\n",
    "    xn = x0                # Running values for x and y\n",
    "    yn = y0 \n",
    "\n",
    "    # Main loop\n",
    "    while xn < xend - 1.e-10:            # Buffer for truncation errors        \n",
    "        xn, yn = method(f, xn, yn, h)    # Do one step by the method of choice\n",
    "        \n",
    "        # Extend the arrays for x and y\n",
    "        y_num = concatenate((y_num, array([yn])))\n",
    "        x_num = append(x_num,xn)\n",
    "        \n",
    "    return x_num, y_num"
   ]
  },
  {
   "cell_type": "code",
   "execution_count": 3,
   "metadata": {
    "collapsed": false
   },
   "outputs": [],
   "source": [
    "def heun_euler(f, x, y, h):\n",
    "    '''\n",
    "    One step with the pair Heun/Euler\n",
    "    Input: the function f, the present state xn and yn  and the stepsize h\n",
    "    Output: the solution x and y in the next step, error estimate, and the\n",
    "            order p of Eulers method (the lowest order) \n",
    "    '''\n",
    "    \n",
    "    k1 = f(x, y)\n",
    "    k2 = f(x+h, y+h*k1)\n",
    "    y_next = y + 0.5*h*(k1+k2)      # Heuns metode (local extrapolation)\n",
    "    x_next = x + h\n",
    "    error_estimate = 0.5*h*norm(k2-k1)   # The 2-norm or the error estimate\n",
    "    p = 1\n",
    "    return x_next, y_next, error_estimate, p\n",
    "# end of heun_euler\n",
    "\n",
    "\n",
    "\n",
    "def ode_adaptive(f, x0, xend, y0, h0, tol = 1.e-6, method=heun_euler):\n",
    "    '''\n",
    "    Adaptive solver for ODEs\n",
    "       y' = f(x,y), y(x0)=y0\n",
    "    \n",
    "    Input: the function f, x0, xend, and the initial value y0\n",
    "           intial stepsize h, the tolerance tol, \n",
    "           and a function (method) implementing one step of a pair.\n",
    "    Output: Array with x- and y- values.\n",
    "    '''\n",
    "    \n",
    "    y_num = array([y0])    # Array for the solutions y\n",
    "    x_num = array([x0])    # Array for the x-values\n",
    "\n",
    "    xn = x0                # Running values for  x, y and the stepsize h\n",
    "    yn = y0 \n",
    "    h = h0\n",
    "    Maxcall = 100000        # Maximum allowed calls of method\n",
    "    ncall = 0\n",
    "    \n",
    "    # Main loop\n",
    "    while xn < xend - 1.e-10:               # Buffer for truncation error\n",
    "        # Adjust the stepsize for the last step\n",
    "        if xn + h > xend:                   \n",
    "            h = xend - xn \n",
    "        \n",
    "        # Perform one step with the chosen mehtod\n",
    "        x_try, y_try, error_estimate, p = method(f, xn, yn, h)\n",
    "        ncall = ncall + 1\n",
    "        \n",
    "        if error_estimate <= tol:   \n",
    "            # Solution accepted, update x and y\n",
    "            xn = x_try    \n",
    "            yn = y_try\n",
    "            # Store the solutions \n",
    "            y_num = concatenate((y_num, array([yn])))\n",
    "            x_num = append(x_num, xn)\n",
    "        \n",
    "        # else: The step is rejected and nothing is updated. \n",
    "        \n",
    "        # Adjust the stepsize\n",
    "        h = 0.8*(tol/error_estimate)**(1/(p+1))*h\n",
    "        \n",
    "        # Stop with a warning in the case of max calls to method\n",
    "        if ncall > Maxcall:\n",
    "            print('Maximum number of method calls')\n",
    "            return x_num, y_num\n",
    "\n",
    "    # Some diagnostic output\n",
    "    print('Number of accepted steps = ', len(x_num)-1)\n",
    "    print('Number of rejected steps = ', ncall - len(x_num)+1)\n",
    "    return x_num, y_num"
   ]
  },
  {
   "cell_type": "markdown",
   "metadata": {},
   "source": [
    "# Introduction\n",
    "When an ODE is solved by an adaptive solver we will expect that more steps are required for stricter tolerances. \n",
    "Specifically, the step size control is based on the assumption that the local error estimate $\\mb{le}_{n+1}$ satisfies"
   ]
  },
  {
   "cell_type": "markdown",
   "metadata": {},
   "source": [
    "$$\n",
    "\\|\\mb{le}_{n+1}\\| \\approx Dh_n^{p+1} \\approx \\text{Tol},\n",
    "$$"
   ]
  },
  {
   "cell_type": "markdown",
   "metadata": {},
   "source": [
    "where $p$ is the order of the lowest order method, and $D$ is independent of the step size\n",
    "$h$. The constant $D$ depends on the solution point $(x,\\mb{y}_n)$, but it will usually\n",
    "not change much from one step to the next. \n",
    "\n",
    "If we use different tolerances $\\text{Tol}_1$ and $\\text{Tol}_2$ for\n",
    "the solution of the same problem with the same adaptive method,\n",
    "we will therefore expect that the step sizes $h_1$ and $h_2$ near the same\n",
    "point will behave like"
   ]
  },
  {
   "cell_type": "markdown",
   "metadata": {},
   "source": [
    "$$\n",
    "\\text{Tol}_1 \\approx D h_{1}^{p+1}, \\qquad\n",
    "  \\text{Tol}_2 \\approx D h_2^{p+1},\n",
    "$$"
   ]
  },
  {
   "cell_type": "markdown",
   "metadata": {},
   "source": [
    "so that"
   ]
  },
  {
   "cell_type": "markdown",
   "metadata": {},
   "source": [
    "$$\n",
    "\\frac{h_1}{h_2} \\approx \\left( \\frac{\\text{Tol}_1}{\\text{Tol}_2} \\right)^{\\frac{1}{p+1}} \\approx \\frac{N_2}{N_1}.\n",
    "$$"
   ]
  },
  {
   "cell_type": "markdown",
   "metadata": {},
   "source": [
    "where $N_1$ and $N_2$ are the total number of steps used for the two tolerances.\n",
    "\n",
    "In the case of the Heun-Euler scheme, the lower order is\n",
    "$p=1$. By reducing the tolerance by a factor\n",
    "$1/100$ we will expect that the number of steps increases by a factor of 10. \n",
    "\n",
    "\n",
    "**Numerical example 1:**\n",
    "Given the following system of two ODEs"
   ]
  },
  {
   "cell_type": "markdown",
   "metadata": {},
   "source": [
    "$$\n",
    "\\begin{align*}\n",
    "  y_1' &= -2y_1 + y_2 + 2\\sin(x), & y_1(0) &= 2, \\\\ \n",
    "  y_2' &= (a-1) y_1 - a y_2 + a\\,\\big(\\cos(x)-\\sin(x) \\big), & y_2(0) &= 3,\n",
    "\\end{align*}\n",
    "$$"
   ]
  },
  {
   "cell_type": "markdown",
   "metadata": {},
   "source": [
    "where $a$ is some positive parameter. The exact solution, which is independent of the\n",
    "parameter, is"
   ]
  },
  {
   "cell_type": "markdown",
   "metadata": {},
   "source": [
    "$$\n",
    "y_1(x) = 2 e^{-x} + \\sin(x), \\qquad y_2(x) = 2e^{-x} + \\cos(x).\n",
    "$$"
   ]
  },
  {
   "cell_type": "markdown",
   "metadata": {},
   "source": [
    "Solve this problem now with some adaptive ODE solver, for\n",
    "instance the Heun-Euler scheme. \n",
    "\n",
    "Now try the tolerances $\\text{Tol}=10^{-2}, \\, 10^{-4}, \\, 10^{-6}$,\n",
    "and perform the experiment with\n",
    "two different values of the parameters, $a=2$ and $a=999$."
   ]
  },
  {
   "cell_type": "code",
   "execution_count": 4,
   "metadata": {
    "collapsed": false
   },
   "outputs": [],
   "source": [
    "# Numerical example 1s\n",
    "# Define the function\n",
    "def f(x, y):\n",
    "    a = 2\n",
    "    dy = array([-2*y[0]+y[1]+2*sin(x),\n",
    "                (a-1)*y[0]-a*y[1]+a*(cos(x)-sin(x))])\n",
    "    return dy\n",
    "\n",
    "# Initial values and integration interval \n",
    "y0 = array([2, 3])\n",
    "x0, xend = 0, 10\n",
    "h0 = 0.1\n",
    "\n",
    "tol = 1.e-2\n",
    "# Solve the ODE using different tolerances \n",
    "for n in range(3):\n",
    "    print('\\nTol = {:.1e}'.format(tol)) \n",
    "    x_num, y_num = ode_adaptive(f, x0, xend, y0, h0, tol, method=heun_euler)\n",
    "    \n",
    "    if n==0:\n",
    "        # Plot the solution\n",
    "        subplot(2,1,1)\n",
    "        plot(x_num, y_num)\n",
    "        ylabel('y')\n",
    "        subplot(2,1,2)\n",
    "\n",
    "    # Plot the step size control\n",
    "    semilogy(x_num[0:-1], diff(x_num), label='Tol={:.1e}'.format(tol));\n",
    "    \n",
    "    tol = 1.e-2*tol         # Reduce the tolerance by a factor 0.01.\n",
    "xlabel('x')\n",
    "ylabel('h')\n",
    "legend(loc='center left', bbox_to_anchor=(1, 0.5));"
   ]
  },
  {
   "cell_type": "markdown",
   "metadata": {},
   "source": [
    "For $a=2$ the expected behaviour is observed. But the example $a=999$ requires much more steps, and \n",
    "the step size seems almost independent of the tolerance, at least for $\\text{Tol}=10^{-2}, \\, 10^{-4}$. \n",
    "\n",
    "\n",
    "The example above with $a=999$ is a typically example of a *stiff ODE*.\n",
    "What defines these types of ODEs is that there are (at least)\n",
    "two different time scales at play at the same time: a slow time scale\n",
    "that dominates the time evolution of the solution of the ODE,\n",
    "and a fast time scale at which small perturbations of the solution may occur.\n",
    "In physical systems, this might be due to very\n",
    "strong damping of selected components of the system.\n",
    "\n",
    "If we consider for instance the ODE in the numerical example above,\n",
    "then we obtain, after some computation, that the general solution is"
   ]
  },
  {
   "cell_type": "markdown",
   "metadata": {},
   "source": [
    "$$\n",
    "\\mb{y}(x) = c_1 \\left(\\begin{array}{c} 1 \\\\ 1 \\end{array}\\right) e^{-x}\n",
    "             + c_2 \\left(\\begin{array}{c} -1 \\\\ a-1 \\end{array}\\right) e^{-(a+1)x}\n",
    "             + \\left(\\begin{array}{c} \\sin(x) \\\\ \\cos(x) \\end{array}\\right)\n",
    "$$"
   ]
  },
  {
   "cell_type": "markdown",
   "metadata": {},
   "source": [
    "for some constants $c_1$, $c_2$.\n",
    "The terms $e^{-x}$, $\\sin(x)$, and $\\cos(x)$ evolve at a time scale of\n",
    "order $1$.\n",
    "In contrast, the term $e^{-(a+1)x}$ reverts back to being\n",
    "essentially equal to zero at a time scale of order $1/(a+1)$.\n",
    "\n",
    "When a stiff ODE is solved by some explicit adaptive method\n",
    "like the Heun-Euler scheme,\n",
    "an unreasonably large number of steps is required,\n",
    "and this number seems independent of the tolerance.\n",
    "The problem is that, for explicit methods, the local\n",
    "error is dominated by what is happening at the fast time scale,\n",
    "and the step length will be adapted to that time scale as well.\n",
    "Even worse, any larger step size will lead to instabilities\n",
    "and exponentially increasing oscillations in the numerical solution.\n",
    "\n",
    "In the remaining part of this note we will explain why this happens,\n",
    "and how we can overcome the problem. \n",
    "For simplicity, the discussion is restricted to\n",
    "linear problems, but also nonlinear ODEs can be stiff, and often will be.\n",
    "\n",
    "**Exercise 1:**\n",
    "Repeat the experiment on the Van der Pol equation"
   ]
  },
  {
   "cell_type": "markdown",
   "metadata": {},
   "source": [
    "$$\n",
    "\\begin{align*}\n",
    "    y_1' &= y_2, & y_1(0) &= 2,  \\\\ \n",
    "    y_2' &= \\mu(1-y_1^2)y_2 - y_1, & y_2(0) &= 0.\n",
    "   \\end{align*}\n",
    "$$"
   ]
  },
  {
   "cell_type": "markdown",
   "metadata": {},
   "source": [
    "Use $\\mu=2$, $\\mu=5$ and $\\mu=50$.\n",
    "\n",
    "\n",
    "\n",
    "## Linear stability analysis\n",
    "\n",
    "### Motivation\n",
    "\n",
    "We are given a system of $m$ differential equation of the form"
   ]
  },
  {
   "cell_type": "markdown",
   "metadata": {},
   "source": [
    "$$\n",
    "\\mb{y}' = A \\mb{y} + \\mb{g}(x). \\tag{*}\n",
    "$$"
   ]
  },
  {
   "cell_type": "markdown",
   "metadata": {},
   "source": [
    "Such systems have been discussed in Mathematics 3, and the technique for finding the exact solution will shortly be repeated here:\n",
    "\n",
    "Solve the homogenous system $\\mb{y}' = A \\mb{y}$, that is, find the eigenvalues $\\lambda_i$ and the corresponding eigenvectors $\\mb{v}_i$ satisfying"
   ]
  },
  {
   "cell_type": "markdown",
   "metadata": {},
   "source": [
    "$$\n",
    "A\\mb{v}_i = \\lambda_i \\mb{v}_i, \\qquad i=1,2,\\dotsc,m. \\tag{**}\n",
    "$$"
   ]
  },
  {
   "cell_type": "markdown",
   "metadata": {},
   "source": [
    "Assume that $A$ has a full set of linearly independent (complex) eigenvectors\n",
    "$\\mb{v}_i$ with corresponding (complex) eigenvalues $\\lambda_i$.\n",
    "Let $V=[\\mb{v}_1,\\dots,\\mb{v}_m]$, and\n",
    "$\\Lambda = \\text{diag}\\{\\lambda_1,\\dotsc,\\lambda_m\\}$.\n",
    "Then $V$ is invertible and"
   ]
  },
  {
   "cell_type": "markdown",
   "metadata": {},
   "source": [
    "$$\n",
    "AV = V\\Lambda\n",
    "\\qquad\\text{ and therefore }\\qquad V^{-1}AV = \\Lambda.\n",
    "$$"
   ]
  },
  {
   "cell_type": "markdown",
   "metadata": {},
   "source": [
    "The ODE (*) can thus be rewritten as"
   ]
  },
  {
   "cell_type": "markdown",
   "metadata": {},
   "source": [
    "$$\n",
    "V^{-1} \\mb y' = V^{-1}A V V^{-1} \\mb{y}+ V^{-1}\\mb{g}(x).\n",
    "$$"
   ]
  },
  {
   "cell_type": "markdown",
   "metadata": {},
   "source": [
    "Let $\\mb{z} = V^{-1}\\mb{y}$ and $\\mb{q}(x)=V^{-1}\\mb{g}(x)$ such that the equation can be decoupled into a set of independent scalar differential equations"
   ]
  },
  {
   "cell_type": "markdown",
   "metadata": {},
   "source": [
    "$$\n",
    "\\mb{z}' = \\Lambda \\mb{z} + \\mb{q}(x) \\qquad \\text{ or, equivalently } \\qquad\n",
    "  z_i' = \\lambda_i z_i + q_i(x), \\quad i=1,\\dotsc, m.\n",
    "$$"
   ]
  },
  {
   "cell_type": "markdown",
   "metadata": {},
   "source": [
    "The solution of such equations has been discussed in [Mathematics 1](https://wiki.math.ntnu.no/tma4100/tema/differentialequations). When these solutions are found, the exact solution is given by"
   ]
  },
  {
   "cell_type": "markdown",
   "metadata": {},
   "source": [
    "$$\n",
    "\\mb{y}(x) = V \\mb{z}(x),\n",
    "$$"
   ]
  },
  {
   "cell_type": "markdown",
   "metadata": {},
   "source": [
    "and possible integration constants are given by the initial values. \n",
    "\n",
    "As it turns out, the eigenvalues $\\lambda_i \\in \\mathbb{C}$ are the key to understanding\n",
    "the behaviour of the adaptive integrators.\n",
    "So we will discuss the stability properties of the very simplified, though complex,\n",
    "linear test equation"
   ]
  },
  {
   "cell_type": "markdown",
   "metadata": {},
   "source": [
    "$$\n",
    "y' = \\lambda y.\n",
    "$$"
   ]
  },
  {
   "cell_type": "markdown",
   "metadata": {},
   "source": [
    "The discussion below is also relevant for nonlinear ODEs $\\mb{y}'(x)=\\mb{f}(x,\\mb{y}(x))$, in which case we have to consider the eigenvalues of the Jacobian $\\mb{f}_{\\mb{y}}$ of $\\mb{f}$ with respect to $\\mb{y}$.  \n",
    "\n",
    "**Example 1:**\n",
    "We now return to the introductory example. There, the ODE can be written as"
   ]
  },
  {
   "cell_type": "markdown",
   "metadata": {},
   "source": [
    "$$\n",
    "\\mb{y}' = A \\mb{y} + \\mb{g}(x),\n",
    "$$"
   ]
  },
  {
   "cell_type": "markdown",
   "metadata": {},
   "source": [
    "with"
   ]
  },
  {
   "cell_type": "markdown",
   "metadata": {},
   "source": [
    "$$\n",
    "A = \\left(\\begin{array}{cc} -2 & 1 \\\\ a-1 & -a \\end{array}\\right), \\qquad\n",
    "\\mb{g}(x) = \\left(\\begin{array}{c}\\sin(x) \\\\ a(\\cos(x)-\\sin(x)) \\end{array}\\right).\n",
    "$$"
   ]
  },
  {
   "cell_type": "markdown",
   "metadata": {},
   "source": [
    "The eigenvalues of the matrix $A$ are $\\lambda_1 = -1$ and $\\lambda_2 = -(a+1)$.\n",
    "The general solution is given by"
   ]
  },
  {
   "cell_type": "markdown",
   "metadata": {},
   "source": [
    "$$\n",
    "\\mb{y}(x) = c_1 \\left(\\begin{array}{c} 1 \\\\ 1 \\end{array}\\right) e^{-x}\n",
    "             + c_2 \\left(\\begin{array}{c} -1 \\\\ a-1 \\end{array}\\right) e^{-(a+1)x}\n",
    "             + \\left(\\begin{array}{c} \\sin(x) \\\\ \\cos(x) \\end{array}\\right).\n",
    "$$"
   ]
  },
  {
   "cell_type": "markdown",
   "metadata": {},
   "source": [
    "In the introductory example, the initial values were chosen such that $c_1=2$ and $c_2=0$. \n",
    "However, for large values of $a$, the term $e^{-(a+1)x}$ will still go to 0 almost immediately, even if $c_2\\not=0$. \n",
    "It is this term that creates problems for the numerical solution.\n",
    "\n",
    "### Stability functions and stability regions.\n",
    "\n",
    "We consider the linear test equation"
   ]
  },
  {
   "cell_type": "markdown",
   "metadata": {},
   "source": [
    "$$\n",
    "y' = \\lambda y, \\qquad y(0)=y_0,\n",
    "$$"
   ]
  },
  {
   "cell_type": "markdown",
   "metadata": {},
   "source": [
    "where the parameter $\\lambda \\in \\mathbb{C}$ satisfies"
   ]
  },
  {
   "cell_type": "markdown",
   "metadata": {},
   "source": [
    "$$\n",
    "\\Re\\lambda < 0.\n",
    "$$"
   ]
  },
  {
   "cell_type": "markdown",
   "metadata": {},
   "source": [
    "Here, and in the following, $\\Re \\lambda$ will denote the real part of $\\lambda$,\n",
    "and $\\Im\\lambda$ will denote the imaginary part.\n",
    "The analytic solution of this problem is"
   ]
  },
  {
   "cell_type": "markdown",
   "metadata": {},
   "source": [
    "$$\n",
    "y(x) = y_0\\,e^{\\lambda x}\n",
    "= y_0 \\, e^{\\Re \\lambda\\, x} \\bigl(\\cos(\\Im \\lambda\\, x) + i \\sin(\\Im \\lambda \\, x)\\bigr).\n",
    "$$"
   ]
  },
  {
   "cell_type": "markdown",
   "metadata": {},
   "source": [
    "Since $\\Re\\lambda < 0$, the solution $y(x)$ tends to zero\n",
    "as $x\\rightarrow \\infty$.\n",
    "We want a similar behaviour for the numerical solution, that is \n",
    "$ |y_{n}| \\rightarrow 0$ when $n\\rightarrow \\infty$.\n",
    "\n",
    "One step of some Runge - Kutta method applied to the linear test equation can always be written as"
   ]
  },
  {
   "cell_type": "markdown",
   "metadata": {},
   "source": [
    "$$\n",
    "y_{n+1} = R(z)y_n, \\qquad z=\\lambda h.\n",
    "$$"
   ]
  },
  {
   "cell_type": "markdown",
   "metadata": {},
   "source": [
    "The function $R(z) \\colon \\mathbb{C} \\to \\mathbb{C}$\n",
    "is called the *stability function* of the method.\n",
    "\n",
    "**Example 2:**\n",
    "The application of Euler's method for the linear test equation results in the iteration"
   ]
  },
  {
   "cell_type": "markdown",
   "metadata": {},
   "source": [
    "$$\n",
    "y_{n+1} = y_n + h \\lambda y_n = (1+h\\lambda) y_n\n",
    "= (1+z) y_n \\qquad\\text{ with } z = h\\lambda.\n",
    "$$"
   ]
  },
  {
   "cell_type": "markdown",
   "metadata": {},
   "source": [
    "The stability function of Euler's method is therefore the function"
   ]
  },
  {
   "cell_type": "markdown",
   "metadata": {},
   "source": [
    "$$\n",
    "R(z) = 1+z.\n",
    "$$"
   ]
  },
  {
   "cell_type": "markdown",
   "metadata": {},
   "source": [
    "For a comparison, Heun's method for this test equation is"
   ]
  },
  {
   "cell_type": "markdown",
   "metadata": {},
   "source": [
    "$$\n",
    "\\begin{align*}\n",
    "k_1 &= \\lambda y_n,\\\\ \n",
    "k_2 &= \\lambda (y_n + h k_1),\\\\ \n",
    "y_{n+1} &= y_n + \\frac{h}{2}(k_1 + k_2),\n",
    "\\end{align*}\n",
    "$$"
   ]
  },
  {
   "cell_type": "markdown",
   "metadata": {},
   "source": [
    "which can be rewritten as"
   ]
  },
  {
   "cell_type": "markdown",
   "metadata": {},
   "source": [
    "$$\n",
    "y_{n+1} = y_n + \\frac{h}{2}(\\lambda y_n + \\lambda(y_n+h\\lambda y_n)\n",
    "= y_n + h\\lambda y_n + \\frac{(h\\lambda)^2}{2} y_n.\n",
    "$$"
   ]
  },
  {
   "cell_type": "markdown",
   "metadata": {},
   "source": [
    "As a consequence, the stability function for Heun's method is"
   ]
  },
  {
   "cell_type": "markdown",
   "metadata": {},
   "source": [
    "$$\n",
    "R(z) = 1 + z + \\frac{z^2}{2}.\n",
    "$$"
   ]
  },
  {
   "cell_type": "markdown",
   "metadata": {},
   "source": [
    "We now return back to the analysis of the behaviour of an arbitrary\n",
    "Runge-Kutta method with stability function $R$.\n",
    "Taking the absolute value on each side of the expression"
   ]
  },
  {
   "cell_type": "markdown",
   "metadata": {},
   "source": [
    "$$\n",
    "y_{n+1} = R(z) y_n,\n",
    "$$"
   ]
  },
  {
   "cell_type": "markdown",
   "metadata": {},
   "source": [
    "we see that there are three possible outcomes:"
   ]
  },
  {
   "cell_type": "markdown",
   "metadata": {},
   "source": [
    "$$\n",
    "\\begin{align*}\n",
    "|R(z)| & < 1 \\quad \\Rightarrow  & |y_{n+1}| & < |y_n| \\quad \\Rightarrow && y_n \\rightarrow 0 &&\\text{(stable)} \\\\ \n",
    "|R(z)| &= 1  \\quad \\Rightarrow   & |y_{n+1}| & = |y_n| \\\\ \n",
    "|R(z)| &> 1  \\quad \\Rightarrow   & |y_{n+1}| &> |y_n| \\quad \\Rightarrow  && |y_n| \\rightarrow \\infty && (\\text{unstable})\n",
    "\\end{align*}\n",
    "$$"
   ]
  },
  {
   "cell_type": "markdown",
   "metadata": {},
   "source": [
    "The *stability region* of a method is defined by"
   ]
  },
  {
   "cell_type": "markdown",
   "metadata": {},
   "source": [
    "$$\n",
    "\\mathcal{S} = \\{ z \\in \\mathbb{C} \\; :\\; |R(z)| \\leq 1 \\}.\n",
    "$$"
   ]
  },
  {
   "cell_type": "markdown",
   "metadata": {},
   "source": [
    "To get a stable numerical solution, we have to choose the step size $h$ such that $z=\\lambda h\\in \\mathcal{S}$.\n",
    "\n",
    "**Example 2, continued:**\n",
    "In the case of Euler's method, we have obtained the stability function"
   ]
  },
  {
   "cell_type": "markdown",
   "metadata": {},
   "source": [
    "$$\n",
    "R(z) = 1+z.\n",
    "$$"
   ]
  },
  {
   "cell_type": "markdown",
   "metadata": {},
   "source": [
    "As a consequence, the stability region for Euler's method is"
   ]
  },
  {
   "cell_type": "markdown",
   "metadata": {},
   "source": [
    "$$\n",
    "\\mathcal{S} = \\{ z \\in \\mathbb{C}\\; :\\; \\lvert 1+z \\rvert \\leq 1\\}.\n",
    "$$"
   ]
  },
  {
   "cell_type": "markdown",
   "metadata": {},
   "source": [
    "This is a ball in the complex plane, which is centered at $-1$\n",
    "and has a radius of $1$.\n",
    "\n",
    "\n",
    "\n",
    "**Numerical example 2:**\n",
    "We have already discussed the stability function and stability\n",
    "region for Euler's method in the example above.\n",
    "We now solve the introductory problem"
   ]
  },
  {
   "cell_type": "markdown",
   "metadata": {},
   "source": [
    "$$\n",
    "\\mb{y}' = \\left(\\begin{array}{cc} -2 & 1 \\\\ a-1 & -a \\end{array}\\right) \\mb{y} +\n",
    "\\left(\\begin{array}{c}\\sin(x) \\\\ a(\\cos(x)-\\sin(x)) \\end{array}\\right),\n",
    "\\qquad \\mb{y}(0) = \\left(\\begin{array}{c} 2 \\\\ 3 \\end{array}\\right), \\qquad a>0.\n",
    "$$"
   ]
  },
  {
   "cell_type": "markdown",
   "metadata": {},
   "source": [
    "by Euler's method. We know that the eigenvalues of the matrix $A$ are\n",
    "$\\lambda_1 = -1$ and $\\lambda_2 = -(1+a)$.\n",
    "\n",
    "For the numerical solution to be stable for both eigenvalues, we have to require that\n",
    "the step length $h$ satisfies"
   ]
  },
  {
   "cell_type": "markdown",
   "metadata": {},
   "source": [
    "$$\n",
    "\\lvert 1 + \\lambda_1 h \\lvert \\le 1\n",
    "\\qquad\\text{ and }\\qquad\n",
    "\\lvert 1 + \\lambda_2 h \\lvert \\le 1.\n",
    "$$"
   ]
  },
  {
   "cell_type": "markdown",
   "metadata": {},
   "source": [
    "Since both eigenvalues in this case are real and negative,\n",
    "we see after a short computation that this results in the requirement that"
   ]
  },
  {
   "cell_type": "markdown",
   "metadata": {},
   "source": [
    "$$\n",
    "h \\leq \\frac{2}{1+a}.\n",
    "$$"
   ]
  },
  {
   "cell_type": "markdown",
   "metadata": {},
   "source": [
    "Try $a=9$ and $a=999$. Choose step sizes a little bit over and under the stability boundary, and you can experience that the result is sharp. If $h$ is just a tiny bit above, you may have to increase the interval of integration to see the unstable solution."
   ]
  },
  {
   "cell_type": "code",
   "execution_count": 5,
   "metadata": {
    "collapsed": false
   },
   "outputs": [],
   "source": [
    "# Numerical example 2s\n",
    "def f(x, y):\n",
    "    # y' = f(x,y) = A*y+g(x)\n",
    "    a = 9\n",
    "    dy = array([-2*y[0]+y[1]+2*sin(x),\n",
    "                (a-1)*y[0]-a*y[1]+a*(cos(x)-sin(x))])\n",
    "    return dy\n",
    "\n",
    "# Initial value and integration interval\n",
    "y0 = array([2, 3])\n",
    "x0, xend = 0, 10\n",
    "h = 0.19\n",
    "\n",
    "x_num, y_num = ode_solver(f, x0, xend, y0, h, method=euler)\n",
    "plot(x_num, y_num);"
   ]
  },
  {
   "cell_type": "markdown",
   "metadata": {},
   "source": [
    "It is the term corresponding to the eigenvalue $\\lambda_2=-(a+1)$ which makes the solution unstable. And the solution oscillate since $R(z)<-1$ for $h>2/(1+a)$.\n",
    "\n",
    "\n",
    "**Exercise 2:**\n",
    "1. Find the stability region for Heun's method.\n",
    "\n",
    "2. Repeat the experiment in Example 2 using Heun's mehod.\n",
    "\n",
    "**NB!** Usually the error estimation in adaptive methods will detect the unstability and force the step size to stay inside or near the stability interval. This explains the behaviour of the experiment in the introduction of this note. \n",
    "\n",
    "# $A(0)$-stable methods.\n",
    "\n",
    "In an ideal world, we would prefer the stability interval to satisfy"
   ]
  },
  {
   "cell_type": "markdown",
   "metadata": {},
   "source": [
    "$$\n",
    "\\mathcal S \\supset \\mathbb{C}^- := \\{ z \\in \\mathbb{C}\\;:\\; \\Re z \\le 0\\},\n",
    "$$"
   ]
  },
  {
   "cell_type": "markdown",
   "metadata": {},
   "source": [
    "such that the method \n",
    "is stable for all $\\lambda \\in \\mathbb{C}$ with $\\Re \\lambda \\le 0$ and for all $h$.\n",
    "Such methods are called $A(0)$-stable. For all explicit methods, like Euler's\n",
    " and Heun's, the stability function will be a polynomial, and $|R(z)|\\rightarrow \\infty$ as $\\Re z\\rightarrow -\\infty$.\n",
    " Explicit methods can never be $A(0)$-stable, and we therefore have to search among implicit methods. The simplest of those is the implicit, \n",
    "or backward, Euler's method, given by"
   ]
  },
  {
   "cell_type": "markdown",
   "metadata": {},
   "source": [
    "$$\n",
    "y_{n+1} = y_n + hf(x_{n+1}, y_{n+1}).\n",
    "$$"
   ]
  },
  {
   "cell_type": "markdown",
   "metadata": {},
   "source": [
    "Applied to the linear test equation $y'=\\lambda y$, this results in the update"
   ]
  },
  {
   "cell_type": "markdown",
   "metadata": {},
   "source": [
    "$$\n",
    "y_{n+1} = y_n + h\\lambda y_{n+1} \\qquad \\text{ or } \\qquad\n",
    "y_{n+1} = \\frac{1}{1-h\\lambda}y_n.\n",
    "$$"
   ]
  },
  {
   "cell_type": "markdown",
   "metadata": {},
   "source": [
    "We therefore see that we have the stability function"
   ]
  },
  {
   "cell_type": "markdown",
   "metadata": {},
   "source": [
    "$$\n",
    "R(z) = \\frac{1}{1-z}.\n",
    "$$"
   ]
  },
  {
   "cell_type": "markdown",
   "metadata": {},
   "source": [
    "The stability region for the implicit Euler function is thus"
   ]
  },
  {
   "cell_type": "markdown",
   "metadata": {},
   "source": [
    "$$\n",
    "\\mathcal{S} = \\Bigl\\{ z \\in \\mathbb{C} \\;:\\; \\Bigl\\lvert \\frac{1}{1-z}\\Bigr\\rvert \\le 1\\Bigr\\}\n",
    "= \\{ z \\in \\mathbb{C}\\;:\\; \\lvert 1-z \\rvert \\ge 1\\}.\n",
    "$$"
   ]
  },
  {
   "cell_type": "markdown",
   "metadata": {},
   "source": [
    "This is the whole complex plan apart from an open ball with center $+1$ and radius $1$.\n",
    "Thus the method is $A(0)$-stable, as every complex number $z$ with\n",
    "$\\Re z \\le 0$ is contained in $\\mathcal{S}$.\n",
    "\n",
    "\n",
    "## Implementation of implicit Euler's method\n",
    "For simplicity, we will only discuss the implementation of implicit Euler's method for linear systems of the form"
   ]
  },
  {
   "cell_type": "markdown",
   "metadata": {},
   "source": [
    "$$\n",
    "\\mb{y}' = A\\mb{y} + \\mb{g}(x),\n",
    "$$"
   ]
  },
  {
   "cell_type": "markdown",
   "metadata": {},
   "source": [
    "where $A$ is a constant matrix. In this case, one step of implicit Euler is given by"
   ]
  },
  {
   "cell_type": "markdown",
   "metadata": {},
   "source": [
    "$$\n",
    "\\mb{y}_{n+1} = \\mb{y}_n + hA\\mb{y}_{n+1} + h\\mb{g}(x_{n+1}).\n",
    "$$"
   ]
  },
  {
   "cell_type": "markdown",
   "metadata": {},
   "source": [
    "Thus a linear system"
   ]
  },
  {
   "cell_type": "markdown",
   "metadata": {},
   "source": [
    "$$\n",
    "(I - hA)\\mb{y}_{n+1} = \\mb{y}_n + h \\mb{g}(x_{n+1})\n",
    "$$"
   ]
  },
  {
   "cell_type": "markdown",
   "metadata": {},
   "source": [
    "has to be solved with respect to $\\mb{y}_{n+1}$ for each step. \n",
    "\n",
    "In the implementation below, the right hand side of the ODE is implemented as a\n",
    "function `rhs`, returning the matrix $A$ and the vector $\\mb{g}(x)$ for each\n",
    "step. The function `implicit_euler` does one step with implicit Euler. It has\n",
    "the same interface as the explicit method, so that the function `ode_solve` can be used as before."
   ]
  },
  {
   "cell_type": "code",
   "execution_count": 6,
   "metadata": {
    "collapsed": false
   },
   "outputs": [],
   "source": [
    "def implicit_euler(rhs, x, y, h):\n",
    "    '''\n",
    "    One step of the implicit Euler's method on the problem \n",
    "                 y' = Ay + g(x)\n",
    "    The function rhs should return A and g for each x \n",
    "        A, gx = rhs(x)\n",
    "    '''\n",
    "    \n",
    "    A, gx = rhs(x+h)\n",
    "    d = len(gx)                  # The dimension of the system\n",
    "    M = eye(d)-h*A               # M = I-hA\n",
    "    b = y + h*gx                 # b = y + hf(x)\n",
    "    y_next = solve(M, b)         # Solve M y_next = b\n",
    "    x_next = x+h\n",
    "    return x_next, y_next"
   ]
  },
  {
   "cell_type": "markdown",
   "metadata": {},
   "source": [
    "**Numerical example 3:**\n",
    "Solve the test equation with"
   ]
  },
  {
   "cell_type": "markdown",
   "metadata": {},
   "source": [
    "$$\n",
    "A = \\left(\\begin{array}{cc} -2 & 1 \\\\ a-1 & -a \\end{array}\\right), \\qquad\n",
    "\\mb{g}(x) = \\left(\\begin{array}{c}\\sin(x) \\\\ a(\\cos(x)-\\sin(x)) \\end{array}\\right),\n",
    "$$"
   ]
  },
  {
   "cell_type": "markdown",
   "metadata": {},
   "source": [
    "by the implicit Euler method. Choose $a=2$ and  $a=999$, and try different stepsizes like $h=0.1$ and $h=0.01$. Are there any stability issues in this case?"
   ]
  },
  {
   "cell_type": "code",
   "execution_count": 7,
   "metadata": {
    "collapsed": false
   },
   "outputs": [],
   "source": [
    "# Numerical example 3s\n",
    "def rhs(x):\n",
    "    # The right hand side (rhs) of y' = Ay + g(x)\n",
    "    a = 9\n",
    "    A = array([[-2, 1],[a-1, -a]])\n",
    "    gx = array([2*sin(x), a*(cos(x)-sin(x))])\n",
    "    return A, gx\n",
    "\n",
    "# Initial values and integration interval \n",
    "y0 = array([2, 3])\n",
    "x0, xend = 0, 10\n",
    "h = 0.2             # Initial stepsize\n",
    "\n",
    "x_num, y_num = ode_solver(rhs, x0, xend, y0, h, method=implicit_euler)\n",
    "plot(x_num, y_num);"
   ]
  },
  {
   "cell_type": "markdown",
   "metadata": {},
   "source": [
    "**Exercise 2:**\n",
    "The trapezoidal rule is an implicit method which for a general ODE $\\mb{y}'(x)=f(x,\\mb{y}(x))$ is given by"
   ]
  },
  {
   "cell_type": "markdown",
   "metadata": {},
   "source": [
    "$$\n",
    "\\mb{y}_{n+1} = \\mb{y}_{n} + \\frac{h}{2}\\bigg( \\mb{f}(x_n,\\mb{y}_n) + \\mb{f}(x_{n+1},\\mb{y}_{n+1})\\bigg).\n",
    "$$"
   ]
  },
  {
   "cell_type": "markdown",
   "metadata": {},
   "source": [
    "1. Find the stability function to the trapezoidal rule, and prove that it is $A(0)$-stable. \n",
    "\n",
    "2. Implement the method, and repeat the experiment above. \n",
    "\n",
    "## Adaptive methods.\n",
    "Implicit Euler is a method of order 1, and the trapezoidal rule of order 2. Thus, these can be used for error estimation:\n",
    "Perform one step with each of the methods, use the difference between the solutions as an error estimate, and use the solution \n",
    "from the trapezoidal rule to advance the solution. This has been implemented in the function `trapezoidal_ieuler`. \n",
    "The interface is as for the embedded pair `heun_euler`, so the adaptive solver `ode_adaptive` can be used as before."
   ]
  },
  {
   "cell_type": "code",
   "execution_count": 8,
   "metadata": {
    "collapsed": false
   },
   "outputs": [],
   "source": [
    "def trapezoidal_ieuler(rhs, x, y, h):\n",
    "    '''\n",
    "    One step with the combination of implicit Euler and the trapezoidal rule\n",
    "    for ODEs on the form\n",
    "                 y' = Ay + f(x)\n",
    "    The function rhs should return A and g for each x:\n",
    "        A, fx = rhs(x)\n",
    "    '''\n",
    "    \n",
    "    A, gx1 = rhs(x+h)\n",
    "    A, gx0 = rhs(x)\n",
    "    d = len(gx1)\n",
    "    \n",
    "    # One step with implicit Euler\n",
    "    M = eye(d)-h*A\n",
    "    b = y + h*gx1\n",
    "    y_ie = solve(M, b)\n",
    "    \n",
    "    # One step with the trapezoidal rule\n",
    "    M = eye(d)-0.5*h*A\n",
    "    b = y + 0.5*h*dot(A,y) + 0.5*h*(gx0+gx1)\n",
    "    y_next = solve(M, b)                       # The solution in the next step\n",
    "    \n",
    "    error_estimate = norm(y_next-y_ie)\n",
    "    x_next = x + h\n",
    "    p = 1                                       # The order\n",
    "    return x_next, y_next, error_estimate, p"
   ]
  },
  {
   "cell_type": "markdown",
   "metadata": {},
   "source": [
    "**Numerical example 4:**\n",
    "Repeat the experiment from the introduction, using `trapezoidal_euler`."
   ]
  },
  {
   "cell_type": "code",
   "execution_count": 9,
   "metadata": {
    "collapsed": false
   },
   "outputs": [],
   "source": [
    "# Numerical example 4s\n",
    "def rhs(x):\n",
    "    # The right hand side of the ODE y' = Ay+g(x)\n",
    "    a = 9\n",
    "    A = array([[-2, 1],[a-1, -a]])\n",
    "    gx = array([2*sin(x), a*(cos(x)-sin(x))])\n",
    "    return A, gx\n",
    "\n",
    "# Initial values and integration interval\n",
    "y0 = array([2, 3])\n",
    "x0, xend  = 0, 10\n",
    "h0 = 0.1                    # Initial stepsize\n",
    "\n",
    "tol = 1.e-2                 # Tolerance\n",
    "\n",
    "rcParams['figure.figsize'] = 8, 8\n",
    "# Solve the equation by different stepsizes. \n",
    "for n in range(3):\n",
    "    print('\\nTol = {:.1e}'.format(tol)) \n",
    "    x_num, y_num = ode_adaptive(rhs, x0, xend, y0, h0, tol, method=trapezoidal_ieuler)\n",
    "    \n",
    "    if n==0:\n",
    "        # Plot the solution\n",
    "        subplot(2,1,1)\n",
    "        plot(x_num, y_num)\n",
    "        ylabel('y')\n",
    "        subplot(2,1,2)\n",
    "\n",
    "    # Plot the step size sequence\n",
    "    semilogy(x_num[0:-1], diff(x_num), label='Tol={:.1e}'.format(tol));\n",
    "    \n",
    "    tol = 1.e-2*tol         # Reduce the tolerance by a factor 1/100\n",
    "\n",
    "# Decorations\n",
    "xlabel('x')\n",
    "ylabel('h')\n",
    "legend(loc='center left', bbox_to_anchor=(1, 0.5));"
   ]
  },
  {
   "cell_type": "markdown",
   "metadata": {},
   "source": [
    "We observe that there are no longer any step size restriction because of\n",
    "stability. The algorithm behaves as expected.\n",
    "\n",
    "**Comment:**\n",
    "Implicit methods can of course also be applied for nonlinear ODEs. Implicit Euler's method will be"
   ]
  },
  {
   "cell_type": "markdown",
   "metadata": {},
   "source": [
    "$$\n",
    "\\mb{y}_{n+1} = \\mb{y}_n + h\\mb{f}(x,\\mb{y}_{n+1}),\n",
    "$$"
   ]
  },
  {
   "cell_type": "markdown",
   "metadata": {},
   "source": [
    "which is a nonlinear system which has to be solved for each step. Similar for the trapezoidal rule. \n",
    "Usually these equations are solved by Newton's method or some simplification of it.  \n",
    "\n",
    "\n",
    "**Summary.**\n",
    "\n",
    "Linear test equation:"
   ]
  },
  {
   "cell_type": "markdown",
   "metadata": {},
   "source": [
    "$$\n",
    "y' = \\lambda y, \\qquad \\lambda <0.\n",
    "$$"
   ]
  },
  {
   "cell_type": "markdown",
   "metadata": {},
   "source": [
    "Stability function $R(z)$, given by the method applied to the test problem:"
   ]
  },
  {
   "cell_type": "markdown",
   "metadata": {},
   "source": [
    "$$\n",
    "y_{n+1} = R(z)y_n, \\qquad z=\\lambda h.\n",
    "$$"
   ]
  },
  {
   "cell_type": "markdown",
   "metadata": {},
   "source": [
    "Stability region $\\mathcal{S}$:"
   ]
  },
  {
   "cell_type": "markdown",
   "metadata": {},
   "source": [
    "$$\n",
    "\\mathcal{S} = \\{z\\in \\mathbb{C}, \\quad |R(z)| \\leq 1\\}.\n",
    "$$"
   ]
  },
  {
   "cell_type": "markdown",
   "metadata": {},
   "source": [
    "$A(0)$-stability:"
   ]
  },
  {
   "cell_type": "markdown",
   "metadata": {},
   "source": [
    "$$\n",
    "\\mathcal{S} \\supset \\mathbb{C}^{-} = \\{z \\in \\mathbb{C}\\;:\\; \\Re z \\le 0\\},\n",
    "$$"
   ]
  },
  {
   "cell_type": "markdown",
   "metadata": {},
   "source": [
    "which is the same as the requirement that"
   ]
  },
  {
   "cell_type": "markdown",
   "metadata": {},
   "source": [
    "$$\n",
    "|R(z)| \\leq 1 \\qquad \\text{for all } z \\text{ with } \\Re z \\leq 0.\n",
    "$$"
   ]
  }
 ],
 "metadata": {},
 "nbformat": 4,
 "nbformat_minor": 4
}
