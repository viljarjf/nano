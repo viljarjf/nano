{
 "cells": [
  {
   "cell_type": "markdown",
   "metadata": {},
   "source": [
    "<!-- dom:TITLE: Numerical solution of nonlinear equations -->\n",
    "# Numerical solution of nonlinear equations\n",
    "<!-- dom:AUTHOR: Anne Kværnø (modified by André Massing) -->\n",
    "<!-- Author: -->  \n",
    "**Anne Kværnø (modified by André Massing and Markus Grasmair)**\n",
    "\n",
    "Date: **May 27, 2020** <br>\n",
    "Revision: **Oct 11, 2020**\n",
    "\n",
    "If you want to have a nicer theme for your jupyter notebook,\n",
    "download the [cascade stylesheet file tma4125.css](https://www.math.ntnu.no/emner/TMA4125/2020v/part_II/notebooks/tma4125.css)\n",
    "and execute the next cell:"
   ]
  },
  {
   "cell_type": "code",
   "execution_count": 4,
   "metadata": {},
   "outputs": [
    {
     "data": {
      "text/html": [
       "<link href='http://fonts.googleapis.com/css?family=Alegreya+Sans:100,300,400,500,700,800,900,100italic,300italic,400italic,500italic,700italic,800italic,900italic' rel='stylesheet' type='text/css'> <link href='http://fonts.googleapis.com/css?family=Arvo:400,700,400italic' rel='stylesheet' type='text/css'> <link href=\"https://fonts.googleapis.com/css?family=News+Cycle\" rel=\"stylesheet\"> <link href='http://fonts.googleapis.com/css?family=Nixie+One' rel='stylesheet' type='text/css'> <link href='http://fonts.googleapis.com/css?family=PT+Mono' rel='stylesheet' type='text/css'> <link href='http://fonts.googleapis.com/css?family=Shadows+Into+Light' rel='stylesheet' type='text/css'> <link href=\"https://fonts.googleapis.com/css?family=Source+Code+Pro\" rel=\"stylesheet\"> <style> @font-face {\n",
       "    /*font-family: \"Computer Modern\";*/\n",
       "    /*src: url('http://mirrors.ctan.org/fonts/cm-unicode/fonts/otf/cmunss.otf');*/\n",
       "    font-family: 'News Cycle', sans-serif;\n",
       "}\n",
       "\n",
       "\n",
       "/* main background */\n",
       "\n",
       "\n",
       "/*#notebook_panel { \n",
       "        background: #C9D4E2;\n",
       "    }*/\n",
       "\n",
       "div.cell {\n",
       "    /*max-width:600px;*/\n",
       "    /*margin-left:16% !important;*/\n",
       "    /*margin-right:auto;*/\n",
       "}\n",
       "\n",
       "div.text_cell {\n",
       "    max-width: 120ex;\n",
       "    /* instead of 100%, */\n",
       "}\n",
       "\n",
       "div.text_cell_render {\n",
       "    font-family: 'Alegreya Sans', Computer Modern, \"Helvetica Neue\", Arial, Helvetica, Geneva,   sans-serif;\n",
       "    line-height: 135%;\n",
       "    /*font-size:    45pt;*/\n",
       "    font-size: 130%;\n",
       "    /*width:600px;*/\n",
       "    /*margin-left:auto;*/\n",
       "    /*margin-right:auto;*/\n",
       "}\n",
       "\n",
       ".CodeMirror {\n",
       "    /*font-family: 'Source Code Pro', monospace;*/\n",
       "    /*font-style: italic;*/\n",
       "    /*font-weight: bold;*/\n",
       "    /*font-size: 120%;*/\n",
       "}\n",
       "\n",
       "\n",
       "/*.prompt{\n",
       "        display: None;\n",
       "    }*/\n",
       "\n",
       ".text_cell_render h1 {\n",
       "    font-family: 'Nixie One', serifV;\n",
       "    font-style: regular;\n",
       "    font-weight: 400;\n",
       "    font-size: 45pt;\n",
       "    line-height: 100%;\n",
       "        color: #497BB9;    \n",
       "    /*color: #5889C5;*/\n",
       "    /*color: rgb(0, 51, 102);*/\n",
       "    /*font-weight: 200;*/\n",
       "    /*font-size: 50pt;*/\n",
       "    margin-bottom: 0.5em;\n",
       "    margin-top: 0.5em;\n",
       "    display: block;\n",
       "}\n",
       "\n",
       ".text_cell_render h2 {\n",
       "    font-family: 'Nixie One', serif;\n",
       "    font-weight: 400;\n",
       "    font-size: 30pt;\n",
       "    line-height: 100%;\n",
       "    /*color: rgb(0,51,102);*/\n",
       "    color: #497BB9;    \n",
       "    margin-bottom: 0.1em;\n",
       "    margin-top: 0.3em;\n",
       "    display: block;\n",
       "}\t\n",
       "\n",
       ".text_cell_render h3 {\n",
       "    font-family: 'Nixie One', serif;\n",
       "    margin-top:16px;\n",
       "    font-size: 22pt;\n",
       "    font-weight: 600;\n",
       "    margin-bottom: 3px;\n",
       "    font-style: regular;\n",
       "    color: rgb(102,102,0);\n",
       "}\n",
       "\n",
       ".text_cell_render h4 {    /*Use this for captions*/\n",
       "    font-family: 'Nixie One', serif;\n",
       "    font-size: 14pt;\n",
       "/*    text-align: center;*/\n",
       "    margin-top: 0em;\n",
       "    margin-bottom: 2em;\n",
       "    font-style: regular;\n",
       "}\n",
       "\n",
       ".text_cell_render h5 {  /*Use this for small titles*/\n",
       "    font-family: 'Nixie One', sans-serif;\n",
       "    font-weight: 400;\n",
       "    font-size: 16pt;\n",
       "    color: rgb(163,0,0);\n",
       "    /*color: #5889C5;*/\n",
       "    /*margin-bottom: .5em;\n",
       "    margin-top: 0.5em;*/\n",
       "    font-style: italic;\n",
       "    margin-bottom: .1em;\n",
       "    margin-top: 0.8em;\n",
       "    display: block;\n",
       "}\n",
       "\n",
       ".warning {\n",
       "    color: rgb( 240, 20, 20)\n",
       "}\n",
       "\n",
       "</style> \n",
       "<script>\n",
       " MathJax.Hub.Config( {\n",
       "    TeX: {\n",
       "        Macros: {\n",
       "            NN: \"{\\\\bf N}\",\n",
       "            RR: \"{\\\\mathbb{R}}\",\n",
       "            mcO: \"{\\\\mathcal{O}}\"\n",
       "        },\n",
       "        equationNumbers: { autoNumber: \"AMS\" },\n",
       "        extensions: [\"AMSmath.js\", \"begingroup.js\"] \n",
       "    },\n",
       "    tex2jax: {\n",
       "        inlineMath: [ ['$', '$'], [\"\\\\(\", \"\\\\)\"]], displayMath: [ ['$$', '$$'], [\"\\\\[\", \"\\\\]\"]]\n",
       "    },\n",
       "    displayAlign: 'center', // Change this to 'center' to center equations.\n",
       "    \"HTML-CSS\": {\n",
       "        styles: {\n",
       "            '.MathJax_Display': {\n",
       "                \"margin\": 4\n",
       "            }\n",
       "        }\n",
       "    }\n",
       "}\n",
       ");\n",
       "</script>\n"
      ],
      "text/plain": [
       "<IPython.core.display.HTML object>"
      ]
     },
     "execution_count": 4,
     "metadata": {},
     "output_type": "execute_result"
    }
   ],
   "source": [
    "from IPython.core.display import HTML\n",
    "def css_styling():\n",
    "    styles = open(\"tma4125.css\", \"r\").read()\n",
    "    return HTML(styles)\n",
    "\n",
    "# Comment out next line and execute this cell to restore the default notebook style \n",
    "css_styling()"
   ]
  },
  {
   "cell_type": "markdown",
   "metadata": {},
   "source": [
    "# Introduction\n",
    "We know that the quadratic equations of the form"
   ]
  },
  {
   "cell_type": "markdown",
   "metadata": {},
   "source": [
    "$$\n",
    "ax^2 + bx + cx = 0\n",
    "$$"
   ]
  },
  {
   "cell_type": "markdown",
   "metadata": {},
   "source": [
    "has the roots"
   ]
  },
  {
   "cell_type": "markdown",
   "metadata": {},
   "source": [
    "$$\n",
    "r^{\\pm} = \\dfrac{-b \\pm \\sqrt{b^2 - 4ac}}{2a}.\n",
    "$$"
   ]
  },
  {
   "cell_type": "markdown",
   "metadata": {},
   "source": [
    "More generally, for a given function $f$,\n",
    "a number $r$ satisfying $f(r) = 0$\n",
    "is called a *root* (or *solution*) to the equation"
   ]
  },
  {
   "cell_type": "markdown",
   "metadata": {},
   "source": [
    "$$\n",
    "f(x) \\overset{!}{=} 0.\n",
    "$$"
   ]
  },
  {
   "cell_type": "markdown",
   "metadata": {},
   "source": [
    "In many applications, we encounter such equations\n",
    "for which we do not have a simple solution formula\n",
    "as for quadratic functions.\n",
    "In fact, an analytical solution formula might not even exist!\n",
    "Thus the goal of the chapter is to develop some numerical techniques for solving nonlinear\n",
    "scalar equations (one equation, one unknown), such as, for example"
   ]
  },
  {
   "cell_type": "markdown",
   "metadata": {},
   "source": [
    "$$\n",
    "x^3+x^2-3x=3.\n",
    "$$"
   ]
  },
  {
   "cell_type": "markdown",
   "metadata": {},
   "source": [
    "or systems of equations, such as, for example"
   ]
  },
  {
   "cell_type": "markdown",
   "metadata": {},
   "source": [
    "$$\n",
    "\\begin{align*}\n",
    "xe^y &= 1,    \\\\ \n",
    "-x^2+y &= 1.\n",
    "\\end{align*}\n",
    "$$"
   ]
  },
  {
   "cell_type": "markdown",
   "metadata": {},
   "source": [
    "**NB!**\n",
    "* We refer to section 3.1 in *Preliminaries* for some general comments on convergence. \n",
    "\n",
    "* There are no examples of numerical calculations done by hand in this\n",
    "  note. If you would like some, you can easily generate them\n",
    "  yourself. Take one of the computer exercises, do your calculations\n",
    "  by hand, if needed modify the code so that you get the output you\n",
    "  want, run the code, and compare with the results you got by your\n",
    "  pencil and paper calculation.\n",
    "\n",
    "# Scalar equations\n",
    "In this section we discuss the solution of scalar equations. The\n",
    "techniques we will use are known from previous courses. When they are\n",
    "repeated here, it is because the techniques used to develop and\n",
    "analyse these methods can, at least in principle, be extended to\n",
    "systems of equations. We will also emphasise the error analysis of the\n",
    "methods.\n",
    "\n",
    "A scalar equation is given by"
   ]
  },
  {
   "cell_type": "markdown",
   "metadata": {},
   "source": [
    "<!-- Equation labels as ordinary links -->\n",
    "<div id=\"_auto1\"></div>\n",
    "\n",
    "$$\n",
    "\\begin{equation}\n",
    "f(x) = 0,\n",
    "\\label{_auto1} \\tag{1}\n",
    "\\end{equation}\n",
    "$$"
   ]
  },
  {
   "cell_type": "markdown",
   "metadata": {},
   "source": [
    "where $f$ is a continuous function defined on some interval $[a,b]$. A\n",
    "solution $r$ of the equation is called a *zero* or a *root* of $f$. A\n",
    "nonlinear equation may have one, more than one, or no roots.\n",
    "\n",
    "\n",
    "**Example 1:**\n",
    "Given the function $f(x)=x^3+x^2-3x-3$ on the interval $[-2,2]$.  Plot\n",
    "the function on the interval, and locate possible roots."
   ]
  },
  {
   "cell_type": "code",
   "execution_count": 5,
   "metadata": {
    "collapsed": true
   },
   "outputs": [],
   "source": [
    "%matplotlib inline\n",
    "\n",
    "import numpy as np\n",
    "from numpy import pi\n",
    "from numpy.linalg import solve, norm    # Solve linear systems and compute norms\n",
    "import matplotlib.pyplot as plt\n",
    "\n",
    "newparams = {'figure.figsize': (8.0, 4.0), 'axes.grid': True,\n",
    "             'lines.markersize': 8, 'lines.linewidth': 2,\n",
    "             'font.size': 14}\n",
    "plt.rcParams.update(newparams)"
   ]
  },
  {
   "cell_type": "code",
   "execution_count": 6,
   "metadata": {},
   "outputs": [
    {
     "data": {
      "image/png": "[encoded data removed]",
      "text/plain": [
       "<matplotlib.figure.Figure at 0x7f575af62630>"
      ]
     },
     "metadata": {},
     "output_type": "display_data"
    }
   ],
   "source": [
    "def f(x):                   # Define the function\n",
    "    return x**3+x**2-3*x-3\n",
    "\n",
    "# Plot the function on an interval \n",
    "x = np.linspace(-2, 2, 101)    # x-values (evaluation points)\n",
    "plt.plot(x, f(x))               # Plot the function\n",
    "plt.plot(x, 0*x, 'r')           # Plot the x-axis\n",
    "plt.xlabel('x')\n",
    "plt.grid(True)\n",
    "plt.ylabel('f(x)');"
   ]
  },
  {
   "cell_type": "markdown",
   "metadata": {},
   "source": [
    "According to the plot, the function $f$ has three real roots in the interval\n",
    "$[-2, 2]$. \n",
    "\n",
    "The function can be rewritten as"
   ]
  },
  {
   "cell_type": "markdown",
   "metadata": {},
   "source": [
    "$$\n",
    "f(x) = x^3+x^2-3x-3 = (x+1)(x^2-3).\n",
    "$$"
   ]
  },
  {
   "cell_type": "markdown",
   "metadata": {},
   "source": [
    "Thus the roots of $f$ are $-1$ and $\\pm \\sqrt{3}$. We will use this\n",
    "example as a test problem later on.\n",
    "\n",
    "## Existence and uniqueness of solutions\n",
    "The following theorem is well known:\n",
    "\n",
    "**Theorem 1: Existence and uniqueness of a solution.**\n",
    "\n",
    "* If $f\\in C[a,b]$ with $f(a)$ and $f(b)$ of opposite sign, then there exist at least one $r\\in (a,b)$ such that $f(r)=0$. \n",
    "\n",
    "* The solution is unique if $f\\in C^1[a,b]$ and $f'(x)>0$ or $f'(x)<0$ for all $x\\in (a,b)$.\n",
    "\n",
    "\n",
    "\n",
    "The first condition guarantees that the graph of $f$ will pass the\n",
    "$x$-axis at some point $r$, the second guarantees that the function is\n",
    "either strictly increasing or strictly decreasing.\n",
    "\n",
    "We note that the condition that $f(a)$ and $f(b)$ are of opposite sign can be\n",
    "summarised in the condition that $f(a)\\cdot f(b) < 0$.\n",
    "\n",
    "\n",
    "## Bisection method\n",
    "The first part of the theorem can be used to construct the first,\n",
    "quite intuitive algorithm for solving scalar equations. Given an\n",
    "interval, check if $f$ has a root in the interval (by comparing the signs\n",
    "of the function values at the end-points), divide it in two,\n",
    "check in which of the two halfs the root is, and continue until a root\n",
    "is located with sufficient accuracy.\n",
    "\n",
    "**Bisection method.**\n",
    "\n",
    "  * Given the function $f$ and the interval $I_0 := [a,b]$, such that $f(a)\\cdot f(b)<0$.\n",
    "\n",
    "  * Set $a_0=a$, $b_0=b$.\n",
    "\n",
    "  * For $k=0,1,2,3,\\ldots$\n",
    "\n",
    "   * $\\displaystyle  c_k =\\frac{a_k+b_k}{2}$\n",
    "\n",
    "   * $\\displaystyle I_{k+1} := [a_{k+1},b_{k+1}] = \\begin{cases} [a_k,c_k] & \\text{if } f(a_k)\\cdot f(c_k) \\leq 0 \\\\ [c_k,b_k] & \\text{if } f(b_k)\\cdot f(c_k) \\leq 0 \\end{cases}$\n",
    "\n",
    "\n",
    "\n",
    "Use $c_k$ as the approximation to the root. Since $c_k$ is the\n",
    "midpoint of the interval $[a_k,b_k]$, the error satisfies\n",
    "$|c_k-r|\\leqslant (b_k-a_k)/2$.\n",
    "The loop is terminated when $(b_k-a_k)/2$ is smaller than some user\n",
    "specified tolerance. Since the length of interval $I_k$ satisfies\n",
    "$(b_k - a_k) = 2^{-k} (b-a)$, we  also have an a priori estimate of the error\n",
    "after $k$ bisections,"
   ]
  },
  {
   "cell_type": "markdown",
   "metadata": {},
   "source": [
    "$$\n",
    "|c_k-r|\n",
    "\\leqslant\n",
    "\\dfrac{1}{2}(b_k-a_k)\n",
    "\\leqslant\n",
    "\\dfrac{1}{2^{k+1}}(b-a)\n",
    "$$"
   ]
  },
  {
   "cell_type": "markdown",
   "metadata": {},
   "source": [
    "Consequently, we can estimate how many bisections we have to perform to\n",
    "compute a root up to a given tolerance $\\texttt{tol}$ by simply requiring that"
   ]
  },
  {
   "cell_type": "markdown",
   "metadata": {},
   "source": [
    "$$\n",
    "\\begin{align*}\n",
    " \\dfrac{1}{2^{k+1}}(b-a) \\leqslant \\texttt{tol}\n",
    "\\Leftrightarrow\n",
    "\\dfrac{b-a}{2\\;\\texttt{tol}} \\leqslant 2^k\n",
    "\\Leftrightarrow\n",
    "\\dfrac{\n",
    "\\log\n",
    "\\Bigl(\n",
    "\\dfrac{b-a}{2\\;\\texttt{tol}}\n",
    "\\Bigr)\n",
    "}{\\log 2}\n",
    "\\leqslant k.\n",
    "\\end{align*}\n",
    "$$"
   ]
  },
  {
   "cell_type": "markdown",
   "metadata": {},
   "source": [
    "We will of course also terminate\n",
    "the loop if $f(c_k)$ is very close to 0.\n",
    "\n",
    "\n",
    "### Implementation\n",
    "\n",
    "The algorithm is implemented in the function `bisection()`."
   ]
  },
  {
   "cell_type": "code",
   "execution_count": 7,
   "metadata": {
    "collapsed": true
   },
   "outputs": [],
   "source": [
    "def bisection(f, a, b, tol=1.e-6, max_iter = 100):\n",
    "    # Solve the scalar equation f(x)=0 by bisection \n",
    "    # The result of each iteration is printed\n",
    "    # Input:\n",
    "    #   f:        The function. \n",
    "    #   a, b:     Interval: \n",
    "    #   tol :     Tolerance\n",
    "    #   max_iter: Maximum number of iterations\n",
    "    # Output:\n",
    "    #   the root and the number of iterations.\n",
    "\n",
    "    fa = f(a)\n",
    "    fb = f(b)\n",
    "    if fa*fb > 0:\n",
    "        print('Error: f(a)*f(b)>0, there may be no root in the interval.')\n",
    "        return 0, 0\n",
    "    for k in range(max_iter):\n",
    "        c = 0.5*(a+b)               # The midpoint\n",
    "        fc = f(c)                   \n",
    "        print('k ={:3d}, a = {:.6f}, b = {:.6f}, c = {:10.6f}, f(c) = {:10.3e}'\n",
    "              .format(k, a, b, c, fc)) \n",
    "        if abs(f(c)) < 1.e-14 or (b-a) < 2*tol:     # The zero is found!\n",
    "            break \n",
    "        elif fa*fc <= 0:               \n",
    "            b = c                     # There is a root in [a, c]\n",
    "        else:\n",
    "            a = c                     # There is a root in [c, b]  \n",
    "    return c, k"
   ]
  },
  {
   "cell_type": "markdown",
   "metadata": {},
   "source": [
    "**Example 2:**\n",
    "Use the code above to find the root of"
   ]
  },
  {
   "cell_type": "markdown",
   "metadata": {},
   "source": [
    "$$\n",
    "f(x)=x^3+x^2-3x-3\n",
    "$$"
   ]
  },
  {
   "cell_type": "markdown",
   "metadata": {},
   "source": [
    "in the\n",
    "interval $[1.5,2]$. Use $10^{-6}$ as the tolerance."
   ]
  },
  {
   "cell_type": "code",
   "execution_count": 8,
   "metadata": {},
   "outputs": [
    {
     "name": "stdout",
     "output_type": "stream",
     "text": [
      "k =  0, a = 1.500000, b = 2.000000, c =   1.750000, f(c) =  1.719e-01\n",
      "k =  1, a = 1.500000, b = 1.750000, c =   1.625000, f(c) = -9.434e-01\n",
      "k =  2, a = 1.625000, b = 1.750000, c =   1.687500, f(c) = -4.094e-01\n",
      "k =  3, a = 1.687500, b = 1.750000, c =   1.718750, f(c) = -1.248e-01\n",
      "k =  4, a = 1.718750, b = 1.750000, c =   1.734375, f(c) =  2.203e-02\n",
      "k =  5, a = 1.718750, b = 1.734375, c =   1.726562, f(c) = -5.176e-02\n",
      "k =  6, a = 1.726562, b = 1.734375, c =   1.730469, f(c) = -1.496e-02\n",
      "k =  7, a = 1.730469, b = 1.734375, c =   1.732422, f(c) =  3.513e-03\n",
      "k =  8, a = 1.730469, b = 1.732422, c =   1.731445, f(c) = -5.728e-03\n",
      "k =  9, a = 1.731445, b = 1.732422, c =   1.731934, f(c) = -1.109e-03\n",
      "k = 10, a = 1.731934, b = 1.732422, c =   1.732178, f(c) =  1.201e-03\n",
      "k = 11, a = 1.731934, b = 1.732178, c =   1.732056, f(c) =  4.596e-05\n",
      "k = 12, a = 1.731934, b = 1.732056, c =   1.731995, f(c) = -5.317e-04\n",
      "k = 13, a = 1.731995, b = 1.732056, c =   1.732025, f(c) = -2.429e-04\n",
      "k = 14, a = 1.732025, b = 1.732056, c =   1.732040, f(c) = -9.845e-05\n",
      "k = 15, a = 1.732040, b = 1.732056, c =   1.732048, f(c) = -2.624e-05\n",
      "k = 16, a = 1.732048, b = 1.732056, c =   1.732052, f(c) =  9.860e-06\n",
      "k = 17, a = 1.732048, b = 1.732052, c =   1.732050, f(c) = -8.192e-06\n",
      "k = 18, a = 1.732050, b = 1.732052, c =   1.732051, f(c) =  8.340e-07\n"
     ]
    }
   ],
   "source": [
    "# Example 2\n",
    "def f(x):                   # Define the function\n",
    "    return x**3+x**2-3*x-3\n",
    "a, b = 1.5, 2               # The interval\n",
    "c, nit = bisection(f, a, b, tol=1.e-6) # Apply the bisection method"
   ]
  },
  {
   "cell_type": "markdown",
   "metadata": {},
   "source": [
    "Control that the numerical result is within the error tolerance:"
   ]
  },
  {
   "cell_type": "code",
   "execution_count": 9,
   "metadata": {},
   "outputs": [
    {
     "name": "stdout",
     "output_type": "stream",
     "text": [
      "The error: |c_k-r|=8.81e-08\n"
     ]
    }
   ],
   "source": [
    "r = np.sqrt(3)                  \n",
    "print('The error: |c_k-r|={:.2e}'.format(abs(r-c)))"
   ]
  },
  {
   "cell_type": "markdown",
   "metadata": {},
   "source": [
    "<!-- --- begin exercise --- -->\n",
    "\n",
    "## Exercise 1: Bisection method\n",
    "<div id=\"ex:bisection\"></div>\n",
    "\n",
    "\n",
    "**a)**\n",
    "Compute the solution(s) of $x^2+\\sin(x)-0.5=0$ by the bisection method.\n",
    "\n",
    "**b)**\n",
    "Compute the solution(s) of $x^2+\\sin(x)-0.5=0$ by the bisection method.\n",
    "\n",
    "**c)**\n",
    "Given a root in the interval $[1.5, 2]$. How many iterations are required to guarantee that the error is less than $10^{-4}$.\n",
    "\n",
    "\n",
    "<!-- --- end exercise --- -->\n",
    "\n",
    "\n",
    "## Fixed point iterations\n",
    "The bisection method is very robust, but not particular fast. In addition, the bisection method in that form can only be used for the solution of equations in a single variable, and it is difficult to use similar methods for systems of equations in several variables.\n",
    "\n",
    "We will therefore discuss a major class of iteration schemes, namely the so-called fixed point iterations. The idea is: \n",
    "\n",
    "* Given a scalar equation $f(x)=0$ with a root $r$. \n",
    "\n",
    "* Rewrite the equation in *fixed point form* $x=g(x)$ such that the root $r$ of $f$ is a *fixed point* of $g$, that is, $r$ satisfies $r=g(r)$. \n",
    "\n",
    "The fixed point iterations are then given by\n",
    "\n",
    "**Fixed point iterations.**\n",
    "\n",
    "  * Given $g$ and a starting value $x_0$. \n",
    "\n",
    "  * For $k=0,1,2,3,\\dotsc$\n",
    "\n",
    "    * $x_{k+1}=g(x_k)$\n",
    "\n",
    "\n",
    "\n",
    "\n",
    "### Implementation\n",
    "\n",
    "The fixed point scheme is implemented in the function `fixedpoint`. \n",
    "The iterations are terminated when either the error estimate $|x_{k+1}-x_k|$ is less than a given tolerance `tol`, or the number of iterations reaches some maximal number `max_iter`."
   ]
  },
  {
   "cell_type": "code",
   "execution_count": 10,
   "metadata": {
    "collapsed": true
   },
   "outputs": [],
   "source": [
    "def fixedpoint(g, x0, tol=1.e-8, max_iter=30):\n",
    "    # Solve x=g(x) by fixed point iterations\n",
    "    # The output of each iteration is printed\n",
    "    # Input:\n",
    "    #   g:   The function g(x)\n",
    "    #   x0:  Initial values\n",
    "    #   tol: The tolerance\n",
    "    # Output:\n",
    "    #   The root, the number of iterations\n",
    "    x = x0\n",
    "    print('k ={:3d}, x = {:14.10f}'.format(0, x))  \n",
    "    for k in range(max_iter):        \n",
    "        x_old = x                        # Store old values for error estimation \n",
    "        x = g(x)                         # The iteration\n",
    "        err = abs(x-x_old)               # Error estimate\n",
    "        print('k ={:3d}, x = {:14.10f}'.format(k+1, x))\n",
    "        if err < tol:          # The solution is accepted \n",
    "            break\n",
    "    return x, k+1"
   ]
  },
  {
   "cell_type": "markdown",
   "metadata": {},
   "source": [
    "**Example 3:**\n",
    "The equation"
   ]
  },
  {
   "cell_type": "markdown",
   "metadata": {},
   "source": [
    "$$\n",
    "x^3+x^2-3x-3=0 \\qquad \\text{can be rewritten as} \\qquad x=\\frac{x^3+x^2-3}{3}.\n",
    "$$"
   ]
  },
  {
   "cell_type": "markdown",
   "metadata": {},
   "source": [
    "The fixed points are the intersections of the two graphs $y=x$ and $y=\\frac{x^3+x^2-3}{3}$, as can be demonstrated by the following script:"
   ]
  },
  {
   "cell_type": "code",
   "execution_count": 11,
   "metadata": {},
   "outputs": [
    {
     "data": {
      "image/png": "[encoded data removed]",
      "text/plain": [
       "<matplotlib.figure.Figure at 0x7f57530f5d30>"
      ]
     },
     "metadata": {},
     "output_type": "display_data"
    }
   ],
   "source": [
    "# Example 3\n",
    "x = np.linspace(-2, 2, 101)\n",
    "plt.plot(x, (x**3+x**2-3)/3,'b', x, x, '--r' )\n",
    "plt.axis([-2, 3, -2, 2])\n",
    "plt.xlabel('x')\n",
    "plt.grid('True')\n",
    "plt.legend(['g(x)','x']);"
   ]
  },
  {
   "cell_type": "markdown",
   "metadata": {},
   "source": [
    "We observe that the fixed points of $g$ are the same as the zeros of $f$. \n",
    "\n",
    "Apply fixed point iterations on $g(x)$. Aim for the fixed point between 1 and 2, so choose $x_0=1.5$.\n",
    "Do the iterations converge to the root $r=\\sqrt{3}$?"
   ]
  },
  {
   "cell_type": "code",
   "execution_count": 12,
   "metadata": {},
   "outputs": [
    {
     "name": "stdout",
     "output_type": "stream",
     "text": [
      "k =  0, x =   1.5000000000\n",
      "k =  1, x =   0.8750000000\n",
      "k =  2, x =  -0.5214843750\n",
      "k =  3, x =  -0.9566232041\n",
      "k =  4, x =  -0.9867682272\n",
      "k =  5, x =  -0.9957053567\n",
      "k =  6, x =  -0.9985807218\n",
      "k =  7, x =  -0.9995282492\n",
      "k =  8, x =  -0.9998428981\n",
      "k =  9, x =  -0.9999476491\n",
      "k = 10, x =  -0.9999825515\n",
      "k = 11, x =  -0.9999941841\n",
      "k = 12, x =  -0.9999980614\n",
      "k = 13, x =  -0.9999993538\n",
      "k = 14, x =  -0.9999997846\n",
      "\n",
      "\n",
      "Resultat:\n",
      "x = -0.9999997845980656, antall iterasjoner=14\n"
     ]
    }
   ],
   "source": [
    "# Solve the equation from example 3 by fixed point iterations.\n",
    "\n",
    "# Define the function\n",
    "def g(x):       \n",
    "    return (x**3+x**2-3)/3\n",
    "\n",
    "# Apply the fixed point scheme\n",
    "x, nit = fixedpoint(g, x0=1.5, tol=1.e-6, max_iter=30)\n",
    "\n",
    "print('\\n\\nResultat:\\nx = {}, antall iterasjoner={}'.format(x, nit))"
   ]
  },
  {
   "cell_type": "markdown",
   "metadata": {},
   "source": [
    "<!-- --- begin exercise --- -->\n",
    "\n",
    "## Exercise 2: Fixed point method part I\n",
    "\n",
    "Repeat the experiment with the following reformulations of $f(x)=0$:"
   ]
  },
  {
   "cell_type": "markdown",
   "metadata": {},
   "source": [
    "$$\n",
    "\\begin{align*}\n",
    "   x &= g_2(x) = \\frac{-x^2+3x+3}{x^2}, \\\\ \n",
    "   x &= g_3(x) = \\sqrt[3]{3+3x-x^2}, \\\\ \n",
    "   x &= g_4(x) = \\sqrt{\\frac{3+3x-x^2}{x}}\n",
    "   \\end{align*}\n",
    "$$"
   ]
  },
  {
   "cell_type": "markdown",
   "metadata": {},
   "source": [
    "Use $x_0=1.5$ in your experiments, you may well experiment with other values as well.\n",
    "\n",
    "<!-- --- end exercise --- -->\n",
    "\n",
    "\n",
    "## Theory\n",
    "Let us first state some existence and uniqueness results. Apply\n",
    "Theorem 1 in this note on the equation $f(x) = x-g(x)=0$. The\n",
    "following is then given (the details are left to the reader):\n",
    "* If $g\\in C[a,b]$ and $a < g(x) < b$ for all $x\\in [a,b]$ then $g$ has at\n",
    "  least one fixed point $r\\in (a,b)$.\n",
    "\n",
    "* If in addition $g\\in C^1[a,b]$ and $|g'(x)|<1$ for all $x\\in [a,b]$\n",
    "  then the fixed point is unique.\n",
    "\n",
    "In the following, we will write the assumption $a<g(x)<b$ for all\n",
    "$x\\in [a,b]$ as $g([a,b])\\subset (a,b)$.\n",
    "\n",
    "In this section we will discuss the convergence properties of the\n",
    "fixed point iterations, under the conditions for existence and\n",
    "uniqueness given above.\n",
    "\n",
    "The error after $k$ iterations is given by $e_k = r-x_k$. The\n",
    "iterations converge when $e_k \\rightarrow 0$ as $k\\rightarrow\n",
    "\\infty$. Under which conditions is this the case?\n",
    "\n",
    "This is the trick: \n",
    "For every $k$ we have"
   ]
  },
  {
   "cell_type": "markdown",
   "metadata": {},
   "source": [
    "$$\n",
    "\\begin{align*}\n",
    "x_{k+1}&=g(x_k),  && \\text{the iterations}\\\\ \n",
    "r &= g(r).        && \\text{the fixed point}\n",
    "\\end{align*}\n",
    "$$"
   ]
  },
  {
   "cell_type": "markdown",
   "metadata": {},
   "source": [
    "Take the difference between those and use the mean value theorem\n",
    "(Result 3 in section 5 in *Preliminaries*), and finally take the\n",
    "absolute value of each expression in the sequence of equalities:"
   ]
  },
  {
   "cell_type": "markdown",
   "metadata": {},
   "source": [
    "<!-- Equation labels as ordinary links -->\n",
    "<div id=\"_auto2\"></div>\n",
    "\n",
    "$$\n",
    "\\begin{equation}\n",
    "|e_{k+1}| = |r-x_{k+1}| = |g(r)-g(x_k)| = |g'(\\xi_k)|\\cdot|r-x_k| = |g'(\\xi_k)|\\cdot |e_k|.  \n",
    "\\label{_auto2} \\tag{2}\n",
    "\\end{equation}\n",
    "$$"
   ]
  },
  {
   "cell_type": "markdown",
   "metadata": {},
   "source": [
    "Here $\\xi_k$ is some unknown value between $x_k$ (known) and $r$\n",
    "(unknown). We can now use the assumptions from the existence and\n",
    "uniqueness result.\n",
    "* The condition $g([a,b])\\subset(a,b)$ guarantees that if $x_0\\in\n",
    "  [a,b]$ then $x_k \\in (a,b)$ for $k=1,2,3,\\dotsc$.\n",
    "\n",
    "* The condition $|g'(x)|\\leq L < 1$ guarantees convergence towards the\n",
    "  unique fixed point $r$, since"
   ]
  },
  {
   "cell_type": "markdown",
   "metadata": {},
   "source": [
    "$$\n",
    "|e_{k+1}| \\leq L \\,|e_k| \\qquad \\Rightarrow \\qquad |e_k| \\leq L^k \\,\n",
    "   |e_0| \\rightarrow 0\\quad \\text{as $k\\rightarrow \\infty$},\n",
    "$$"
   ]
  },
  {
   "cell_type": "markdown",
   "metadata": {},
   "source": [
    "and $L^k \\rightarrow 0$ as $k\\rightarrow\\infty$ when $L<1$.\n",
    "\n",
    "In addition, we have that\n",
    "$$\n",
    "\\lvert x_{k+1} - x_{k}\\rvert = \\lvert g(x_{k}) - g(x_{k-1})\\rvert\n",
    "= \\lvert g'(\\xi_{k})\\rvert \\cdot \\lvert x_{k}-x_{k-1}\\rvert\n",
    "$$\n",
    "for some $\\xi_k$ between $x_{k-1}$ and $x_{k}$, which shows that\n",
    "$$\n",
    "\\lvert x_{k+1} - x_{k} \\rvert \\le L \\lvert x_{k}-x_{k-1}\\rvert.\n",
    "$$\n",
    "Repeating this argumentation $k$-times yields the estimate\n",
    "$$\n",
    "\\lvert x_{k+1} - x_k\\rvert \\le L^k \\lvert x_1 - x_0 \\rvert.\n",
    "$$\n",
    "As a consequence, since $r = \\lim_{k\\to\\infty} x_k$,\n",
    "we obtain that\n",
    "$$\n",
    "\\lvert x_1 - r \\rvert = \\Bigl\\lvert \\sum_{k=0}^\\infty (x_{k+1}-x_{k+2})\\Bigr\\rvert\n",
    "\\le \\sum_{k=0}^\\infty \\lvert x_{k+1}-x_{k+2}\\rvert\n",
    "\\le \\sum_{k=0}^\\infty L^{k+1} \\lvert x_1 - x_0\\rvert\n",
    "= \\frac{L}{1-L} \\lvert x_1 - x_0 \\rvert.\n",
    "$$\n",
    "A similar argumentation (but now starting at $x_k$ instead of $x_1$)\n",
    "yields that\n",
    "$$\n",
    "\\lvert x_{k+1} - r \\rvert \\le \\frac{L}{1-L}\\lvert x_{k+1}-x_k\\rvert\n",
    "\\le \\frac{L^{k+1}}{1-L} \\lvert x_1 - x_0\\rvert.\n",
    "$$\n",
    "\n",
    "In summary we have\n",
    "\n",
    "**The fixed point theorem.**\n",
    "\n",
    "If there is an interval $[a,b]$ such that $g\\in C^1[a,b]$,\n",
    "$g([a,b])\\subset (a,b)$ and there exist a positive constant $L<1$ such\n",
    "that $|g'(x)|\\leq L <1$ for all $x\\in[a,b]$ then the following hold:\n",
    "* $g$ has a unique fixed point $r$ in $(a,b)$.\n",
    "\n",
    "* The fixed point iterations $x_{k+1}=g(x_k)$ converges towards $r$\n",
    "  for all starting values $x_0 \\in [a,b]$.\n",
    "\n",
    "* The error $e_{k+1} = r-x_{k+1}$ after iteration $k+1$ satisfies the estimates\n",
    "\n",
    "  * $|e_{k+1}| \\leqslant L |e_k|$ $\\quad\\ldots$ error reduction rate,\n",
    "\n",
    "  * $|e_{k+1}| \\leqslant \\dfrac{L^{k+1}}{1 - L} |x_1 - x_0|$ $\\quad\\ldots$ a-priori error estimate.\n",
    "\n",
    "  * $|e_{k+1}| \\leqslant \\dfrac{L}{L-1} |x_{k+1}-x_k|$ $\\quad\\ldots$ a-posteriori error estimate.\n",
    "\n",
    "From the discussion above, we can draw some conclusions: \n",
    "* The smaller the constant $L$, the faster the convergence.\n",
    "\n",
    "* If $|g'(r)|<1$ then there will always be an interval\n",
    "  $(r-\\delta, r+\\delta)$ around $r$ for some $\\delta > 0$ on which all the conditions\n",
    "  are satisfied. Meaning that the iterations will always converge if\n",
    "  $x_0$ is sufficiently close to $r$.\n",
    "\n",
    "* If $|g'(r)|>1$, a similar argumentation shows that the fixed point iterates\n",
    "  move away from the point $r$. In practice, this means that the fixed point\n",
    "  iteration in this case will never converge towards $r$.\n",
    "    \n",
    "* If the constant $L$ is known, the a-priori error estimate can be used in order\n",
    "  to estimate the number of steps it takes in order to obtain an error that is\n",
    "  smaller than some specified tolerance $\\texttt{tol}$. To that end, we simply have\n",
    "  to solve the inequality\n",
    "  $$\n",
    "  \\frac{L^{k+1}}{1-L} \\lvert x_1 - x_0\\rvert \\le \\texttt{tol}\n",
    "  $$\n",
    "  for $k$.\n",
    "  \n",
    "* The a-posteriori estimate can be used to estimate the actual error\n",
    "  based on the size of the last update $\\lvert x_{k+1}-x_k\\rvert$.\n",
    "  \n",
    "* If the constant $L$ is *not* known, one can estimate it using the\n",
    "  ideas found in $\\texttt{preliminaries.ipynb}$. Then one can use this\n",
    "  estimate of $L$ in the a-posteriori error estimate in order to estimate\n",
    "  the actual error.\n",
    "\n",
    "**Example 3 revisited:**\n",
    "Use the theory above to analyse the iteration scheme from Example 3, where"
   ]
  },
  {
   "cell_type": "markdown",
   "metadata": {},
   "source": [
    "$$\n",
    "g(x)=\\frac{x^3+x^2-3}{3}, \\qquad g'(x) = \\frac{3x^2+2x}{3}\n",
    "$$"
   ]
  },
  {
   "cell_type": "markdown",
   "metadata": {},
   "source": [
    "It is clear that $g$ is differentiable. We already know that $g$ has three\n",
    "fixed points, $r=\\pm\\sqrt{3}$ and $r=-1$. For the first two, we have that\n",
    "$g'(\\sqrt{3}) = 3+\\frac{2}{3}\\sqrt{3} = 4.15$ and\n",
    "$g'(-\\sqrt{3})=3-\\frac{2}{3}\\sqrt{3}=1.85$, so the fixed point iterations will\n",
    "never converges towards those roots. But $g'(-1)=1/3$, so we get convergence towards\n",
    "this root, given sufficiently good starting values. The figure below demonstrates\n",
    "that the assumptions of the theorem are satisfied in some region around $x=-1$, for example\n",
    "$[-1.3, -0.7]$."
   ]
  },
  {
   "cell_type": "code",
   "execution_count": 13,
   "metadata": {
    "collapsed": true
   },
   "outputs": [],
   "source": [
    "plt.rcParams['figure.figsize'] = 10, 5   # Resize the figure for a nicer plot"
   ]
  },
  {
   "cell_type": "code",
   "execution_count": 14,
   "metadata": {},
   "outputs": [
    {
     "data": {
      "image/png": "[encoded data removed]",
      "text/plain": [
       "<matplotlib.figure.Figure at 0x7f57530a6eb8>"
      ]
     },
     "metadata": {},
     "output_type": "display_data"
    }
   ],
   "source": [
    "# Demonstrate the assumptions of the fixed point theorem\n",
    "\n",
    "def g(x):                           # The function g(x)\n",
    "    return (x**3+x**2-3)/3\n",
    "\n",
    "def dg(x):                          # The derivative g'(x)\n",
    "    return (3*x**2+2*x)/3\n",
    "\n",
    "a, b = -4/3, -2/3                   # The interval [a,b] around r.\n",
    "x = np.linspace(a, b, 101)             # x-values on [a,b]\n",
    "y_is_1 = np.ones(101)                  # For plotting the  for g' \n",
    "\n",
    "\n",
    "plt.rcParams['figure.figsize'] = 10, 5   # Resize the figure\n",
    "# Plot x and g(x) around the $r=-1$.\n",
    "plt.subplot(1,2,1)\n",
    "plt.plot(x, g(x), x, x, 'r--')\n",
    "plt.xlabel('x')\n",
    "plt.axis([a,b,a,b])\n",
    "plt.grid(True)\n",
    "plt.legend(['g(x)','x'])\n",
    "\n",
    "# Plot g'(x), and the limits -1 and +1\n",
    "plt.subplot(1,2,2)\n",
    "plt.plot(x, dg(x), x, y_is_1, 'r--', x, -y_is_1, 'r--');\n",
    "plt.xlabel('x')\n",
    "plt.grid(True)\n",
    "plt.title('dg/dx');"
   ]
  },
  {
   "cell_type": "code",
   "execution_count": 15,
   "metadata": {},
   "outputs": [
    {
     "name": "stdout",
     "output_type": "stream",
     "text": [
      "k =  0, x =  -0.6666666667\n",
      "k =  1, x =  -0.9506172840\n",
      "k =  2, x =  -0.9851247206\n",
      "k =  3, x =  -0.9951879923\n",
      "k =  4, x =  -0.9984113972\n",
      "k =  5, x =  -0.9994721469\n",
      "k =  6, x =  -0.9998242347\n",
      "k =  7, x =  -0.9999414321\n",
      "k =  8, x =  -0.9999804797\n",
      "k =  9, x =  -0.9999934935\n",
      "k = 10, x =  -0.9999978312\n",
      "k = 11, x =  -0.9999992771\n",
      "k = 12, x =  -0.9999997590\n",
      "\n",
      "\n",
      "Resultat:\n",
      "x = -0.9999997590221911, antall iterasjoner=12\n"
     ]
    }
   ],
   "source": [
    "# run the fixed point iteration starting at x_0 = -4/3\n",
    "x, nit = fixedpoint(g, x0=-2/3, tol=1.e-6, max_iter=30)\n",
    "\n",
    "print('\\n\\nResultat:\\nx = {}, antall iterasjoner={}'.format(x, nit))"
   ]
  },
  {
   "cell_type": "markdown",
   "metadata": {},
   "source": [
    "The plot to the left demonstrates the assumption $g([a,b])\\subset(a,b)$, as  the graph $y=g(x)$ \n",
    "enters at the left boundary and exits at the right and does not leave the region $[a,b]$ anywhere in between. \n",
    "The plot to the right shows that $|g'(x)|\\leq |g'(a)| = L < 1$ is satisfied in the interval. \n",
    "\n",
    "\n",
    "\n",
    "<!-- --- begin exercise --- -->\n",
    "\n",
    "## Exercise 3: Fixed point method part II\n",
    "\n",
    "\n",
    "**a)**\n",
    "See how far the interval $[a,b]$ can be stretched, still with convergence guaranteed.\n",
    "\n",
    "**b)**\n",
    "Do a similar analysis on the three other iteration schemes suggested above, and confirm the results numerically. The schemes are:"
   ]
  },
  {
   "cell_type": "markdown",
   "metadata": {},
   "source": [
    "$$\n",
    "\\begin{align*}\n",
    "   x = g_2(x) = \\frac{-x^2+3x+3}{x^2}, \\\\ \n",
    "   x = g_3(x) = \\sqrt[3]{3+3x-x^2}, \\\\ \n",
    "   x = g_4(x) = \\sqrt{\\frac{3+3x-x^2}{x}}\n",
    "\\end{align*}\n",
    "$$"
   ]
  },
  {
   "cell_type": "code",
   "execution_count": 16,
   "metadata": {
    "collapsed": true
   },
   "outputs": [],
   "source": [
    "# Insert your code here."
   ]
  },
  {
   "cell_type": "markdown",
   "metadata": {},
   "source": [
    "\n",
    "\n",
    "**Example 3 revisited:**\n",
    "The fixed point theorem stated that $|e_{k+1}| \\leqslant L |e_k|$\n",
    "with $L < 1$ and thus the fixed point iteration is *linearly convergent*."
   ]
  },
  {
   "cell_type": "code",
   "execution_count": 17,
   "metadata": {
    "collapsed": true
   },
   "outputs": [],
   "source": [
    "def eocs(errs):\n",
    "    # Computes the experimentally observed convergence rates for a\n",
    "    # list of iterates\n",
    "    #   errs:    list of computed errors\n",
    "    # Output:\n",
    "    #   list of computed eocs\n",
    "\n",
    "    if (len(errs) < 3):\n",
    "        print('Error: Need at least 3 iterates to compute EOCs')\n",
    "\n",
    "    # (Recall list indexing and slicing in Python if you trouble\n",
    "    # to understand the next line)\n",
    "    ps = np.log(errs[2:]/errs[1:-1])/np.log(errs[1:-1]/errs[:-2])\n",
    "\n",
    "    # Print \n",
    "    for k in range(len(ps)):\n",
    "        print(\"k = {:3d}, eoc(k) = {:3.3f}\".format(k+2, ps[k]))\n",
    "\n",
    "    return ps"
   ]
  },
  {
   "cell_type": "markdown",
   "metadata": {},
   "source": [
    "We will also modify the `fixedpoint()` function so that it returns\n",
    "not only the last iteration, but all iterations, so that we can\n",
    "compute the estimated order of convergence."
   ]
  },
  {
   "cell_type": "code",
   "execution_count": 18,
   "metadata": {
    "collapsed": true
   },
   "outputs": [],
   "source": [
    "def fixedpoint_v2(g, x0, tol=1.e-8, max_iter=30):\n",
    "    # Solve x=g(x) by fixed point iterations\n",
    "    # The output of each iteration is printed\n",
    "    # Input:\n",
    "    #   g:   The function g(x)\n",
    "    #   x0:  Initial values\n",
    "    #   tol: The tolerance\n",
    "    # Output:\n",
    "    #   List of iterations\n",
    "    x = [x0]\n",
    "    print('k ={:3d}, x = {:14.10f}'.format(0, x[-1]))  \n",
    "    for k in range(max_iter):        \n",
    "        x.append(g(x[-1]))\n",
    "        err = abs(x[-1]-x[-2])               # Error estimate\n",
    "        print('k ={:3d}, x = {:14.10f}'.format(k+1, x[-1]))\n",
    "        if err < tol:          # The solution is accepted \n",
    "            break\n",
    "    # Return as numpy array\n",
    "    return np.array(x)"
   ]
  },
  {
   "cell_type": "markdown",
   "metadata": {},
   "source": [
    "Now we can rerun example 3 with $g(x) = (x^3+x^2-3)/3$ and\n",
    "compute the estimated order of convergence:"
   ]
  },
  {
   "cell_type": "code",
   "execution_count": 19,
   "metadata": {},
   "outputs": [
    {
     "name": "stdout",
     "output_type": "stream",
     "text": [
      "k =  0, x =  -0.6666666667\n",
      "k =  1, x =  -0.9506172840\n",
      "k =  2, x =  -0.9851247206\n",
      "k =  3, x =  -0.9951879923\n",
      "k =  4, x =  -0.9984113972\n",
      "k =  5, x =  -0.9994721469\n",
      "k =  6, x =  -0.9998242347\n",
      "k =  7, x =  -0.9999414321\n",
      "k =  8, x =  -0.9999804797\n",
      "k =  9, x =  -0.9999934935\n",
      "k = 10, x =  -0.9999978312\n",
      "k = 11, x =  -0.9999992771\n",
      "k = 12, x =  -0.9999997590\n",
      "\n",
      "The order p and the error constant C\n",
      "k =  0,  p = 0.63,  C = 0.0985\n",
      "k =  1,  p = 0.94,  C = 0.2519\n",
      "k =  2,  p = 0.98,  C = 0.2999\n",
      "k =  3,  p = 0.99,  C = 0.3200\n",
      "k =  4,  p = 1.00,  C = 0.3282\n",
      "k =  5,  p = 1.00,  C = 0.3314\n",
      "k =  6,  p = 1.00,  C = 0.3326\n",
      "k =  7,  p = 1.00,  C = 0.3331\n",
      "k =  8,  p = 1.00,  C = 0.3332\n",
      "k =  9,  p = 1.00,  C = 0.3333\n",
      "k = 10,  p = 1.00,  C = 0.3333\n"
     ]
    }
   ],
   "source": [
    "## Compute the eoc for the fixed point method when solving example 3.\n",
    "\n",
    "# Define the function\n",
    "def g(x):       \n",
    "    return (x**3+x**2-3)/3\n",
    "\n",
    "# Apply the fixed point scheme\n",
    "x = fixedpoint_v2(g, x0=-2/3, tol=1.e-6, max_iter=30)\n",
    "\n",
    "# Compute x_k - r,\n",
    "r = -1 # exact solution\n",
    "errs = x - r # error for each iterate\n",
    "\n",
    "# Find the order and the error constant C\n",
    "print('\\nThe order p and the error constant C')\n",
    "for k in range(len(errs)-2):\n",
    "    p = np.log(np.abs(errs[k+2]/errs[k+1]))/np.log(np.abs(errs[k+1]/errs[k]))\n",
    "    C = np.abs(errs[k+2])/np.abs(errs[k+1])**p\n",
    "    print('k = {:2d},  p = {:4.2f},  C = {:6.4f}'.format(k, p, C))"
   ]
  },
  {
   "cell_type": "markdown",
   "metadata": {},
   "source": [
    "## Newton's method\n",
    "Based on the previous discussion, it is clear that fast convergence\n",
    "can be achieved if $g'(r)$ is as small as possible, preferably\n",
    "$g'(r)=0$. Can this be achieved for a general problem?\n",
    "\n",
    "We have that $x_k=r-e_k$ where $e_k$ is the error in iteration $k$. Do\n",
    "a Taylor expansion (*Preliminaries*, section 4) of $g(x_k)$ around\n",
    "$r$:"
   ]
  },
  {
   "cell_type": "markdown",
   "metadata": {},
   "source": [
    "$$\n",
    "   e_{k+1} = r-x_{k+1} = g(r)-g(x_k) = g(r)-g(r-e_k) = -g'(r)e_k + \\frac{1}{2}g''(\\xi_k)e_k^2.\n",
    "$$"
   ]
  },
  {
   "cell_type": "markdown",
   "metadata": {},
   "source": [
    "If  $g'(r)=0$ and there is a constant $M$ such that $|g''(x)|/2 \\leq M$,\n",
    "then"
   ]
  },
  {
   "cell_type": "markdown",
   "metadata": {},
   "source": [
    "$$\n",
    "|e_{k+1}| \\leq M |e_k|^2\n",
    "$$"
   ]
  },
  {
   "cell_type": "markdown",
   "metadata": {},
   "source": [
    "and *quadratic convergence* has been achieved, see *Preliminaries*, section 3.1 on \"Convergence of an iterative process\".  \n",
    "\n",
    "*Question*: Given the equation $f(x)=0$ with an unknown solution\n",
    " $r$. Can we find a $g$ with $r$ as a fixed point, satisfying\n",
    " $g'(r)=0$?\n",
    "\n",
    "*Idea*: Let"
   ]
  },
  {
   "cell_type": "markdown",
   "metadata": {},
   "source": [
    "$$\n",
    "g(x)=x-h(x)f(x).\n",
    "$$"
   ]
  },
  {
   "cell_type": "markdown",
   "metadata": {},
   "source": [
    "for some function $h(x)$. Independent of the choice of $h(x)$, $r$ will be a fixed point of $g$. \n",
    "Choose $h(x)$ such that $g'(r)=0$, that is"
   ]
  },
  {
   "cell_type": "markdown",
   "metadata": {},
   "source": [
    "$$\n",
    "g'(x) = 1 - h'(x)f(x) - h(x)f'(x) \\qquad \\Rightarrow \\qquad\n",
    "g'(r) = 1 - h(r)f'(r)\n",
    "$$"
   ]
  },
  {
   "cell_type": "markdown",
   "metadata": {},
   "source": [
    "That is, we have to choose $h(x)$ in such a way that $h(r) = 1/f'(r)$. There are\n",
    "several choices for $h$ with this property, but the most obvious one is the\n",
    "choose $h(x)=1/f'(x)$.\n",
    "The result is \n",
    "\n",
    "**Newton's method.**\n",
    "\n",
    "  * Given $f$ and $f'$, and a starting value $x_0$. \n",
    "\n",
    "  * For $k=0,1,2,3,\\dotsc$\n",
    "\n",
    "    * $\\displaystyle x_{k+1} = x_k - \\frac{f(x_k)}{f'(x_k)}$\n",
    "\n",
    "\n",
    "\n",
    "### Implementation\n",
    "\n",
    "The method is implemented in the function `newton()`. The iterations are terminated when \n",
    "$|f(x_k)|$ is less than a given tolerance."
   ]
  },
  {
   "cell_type": "code",
   "execution_count": 20,
   "metadata": {
    "collapsed": true
   },
   "outputs": [],
   "source": [
    "def newton(f, df, x0, tol=1.e-8, max_iter=30):\n",
    "    # Solve f(x)=0 by Newtons method\n",
    "    # The output of each iteration is printed\n",
    "    # Input:\n",
    "    #   f, df:   The function f and its derivate f'.\n",
    "    #   x0:  Initial values\n",
    "    #   tol: The tolerance\n",
    "    # Output:\n",
    "    #   The root and the number of iterations\n",
    "    x = x0\n",
    "    print('k ={:3d}, x = {:18.15f}, f(x) = {:10.3e}'.format(0, x, f(x)))\n",
    "    for k in range(max_iter):\n",
    "        fx = f(x)\n",
    "        if abs(fx) < tol:           # Accept the solution \n",
    "            break \n",
    "        x = x - fx/df(x)            # Newton-iteration\n",
    "        print('k ={:3d}, x = {:18.15f}, f(x) = {:10.3e}'.format(k+1, x, f(x)))\n",
    "    return x, k+1"
   ]
  },
  {
   "cell_type": "markdown",
   "metadata": {},
   "source": [
    "**Example 4:**\n",
    "Solve $f(x)=x^3+x^2-3x-3=0$ by Newton's method. Choose $x_0=1.5$. \n",
    "The derivative of $f$ is $f'(x)=3x^2+2x-3$."
   ]
  },
  {
   "cell_type": "code",
   "execution_count": 28,
   "metadata": {},
   "outputs": [
    {
     "name": "stdout",
     "output_type": "stream",
     "text": [
      "k =  0, x = -1.333333333333333, f(x) =  4.074e-01\n",
      "k =  1, x = -0.111111111111110, f(x) = -2.656e+00\n",
      "k =  2, x = -0.944875107665806, f(x) = -1.162e-01\n",
      "k =  3, x = -0.997403215651661, f(x) = -5.207e-03\n",
      "k =  4, x = -0.999993308904898, f(x) = -1.338e-05\n",
      "k =  5, x = -0.999999999955230, f(x) = -8.954e-11\n",
      "k =  6, x = -1.000000000000000, f(x) =  0.000e+00\n",
      "\n",
      "\n",
      "Result:\n",
      "x=-1.0, number of iterations=7\n"
     ]
    }
   ],
   "source": [
    "# Example 4\n",
    "def f(x):                   # The function f\n",
    "    return x**3+x**2-3*x-3\n",
    "\n",
    "def df(x):                  # The derivative f'\n",
    "    return 3*x**2+2*x-3\n",
    "\n",
    "x0 = -4/3                      # Starting value\n",
    "x, nit = newton(f, df, x0, tol=1.e-14, max_iter=30)  # Apply Newton\n",
    "print('\\n\\nResult:\\nx={}, number of iterations={}'.format(x, nit))"
   ]
  },
  {
   "cell_type": "markdown",
   "metadata": {},
   "source": [
    "### Error analysis\n",
    "\n",
    "The method was constructed to give quadratic convergence, that is"
   ]
  },
  {
   "cell_type": "markdown",
   "metadata": {},
   "source": [
    "$$\n",
    "|e_{k+1}| \\leq M |e_k|^2,\n",
    "$$"
   ]
  },
  {
   "cell_type": "markdown",
   "metadata": {},
   "source": [
    "where  $e_k=r-x_k$ is the error after $k$ iterations. But under which conditions is this true, and can we say something about the size of the constant $M$?\n",
    "\n",
    "By a Taylor expansion of $f(r)$ around $x_k$, we get:"
   ]
  },
  {
   "cell_type": "markdown",
   "metadata": {},
   "source": [
    "$$\n",
    "\\begin{align*}\n",
    "  0 = f(r) &= f(x_k) + f'(x_k)(r-x_k) + \\frac{1}{2}f''(\\xi_k)(r-x_k)^2\n",
    "&& \\text{(Taylor series)} \\\\ \n",
    "   0 &= f(x_k) + f'(x_k)(x_{k+1}-x_k) && \\text{(Newton's method)}\n",
    "\\end{align*}\n",
    "$$"
   ]
  },
  {
   "cell_type": "markdown",
   "metadata": {},
   "source": [
    "where $\\xi_k$ is between $r$ and $x_k$.\n",
    "\n",
    "Subtract the two equations to get"
   ]
  },
  {
   "cell_type": "markdown",
   "metadata": {},
   "source": [
    "$$\n",
    "f'(x_k)(r-x_{k+1}) + \\frac{1}{2}f''(\\xi_{k})(r-x_k)^2 = 0\n",
    "\\qquad \\Rightarrow \\qquad\n",
    "e_{k+1} = - \\frac{1}{2} \\frac{f''(\\xi_k)}{f'(x_k)} e_k^2\n",
    "$$"
   ]
  },
  {
   "cell_type": "markdown",
   "metadata": {},
   "source": [
    "So we obtain quadratic convergence if $f$ is twice differentiable around $r$, $f'(x_k)\\not=0$, and $x_0$ is chosen sufficiently close to $r$. More precisely:\n",
    "\n",
    "**Theorem: Convergence of Newton iterations.**\n",
    "\n",
    "Assume that the function $f$ has a root $r$, and let $I_\\delta=[r-\\delta, r+\\delta]$ for some $\\delta > 0$. Assume further that\n",
    "* $f\\in C^2(I_\\delta)$. \n",
    "\n",
    "* There is a positive constant $M$ such that \n",
    "\n",
    "  * $\\displaystyle \\left| \\frac{f''(y)}{f'(x)} \\right| \\leq 2M, \\qquad \\text{for all $x,y \\in I_{\\delta}$}$. \n",
    "\n",
    "\n",
    "In this case, Newton's iterations converge quadratically with"
   ]
  },
  {
   "cell_type": "markdown",
   "metadata": {},
   "source": [
    "$$\n",
    "|e_{k+1}| \\leq M |e_k|^2\n",
    "$$"
   ]
  },
  {
   "cell_type": "markdown",
   "metadata": {},
   "source": [
    "for all starting values satisfying $|x_0-r| < \\min\\{1/M, \\delta\\}$.\n",
    "\n",
    "Here the condition $\\lvert x_0 - r \\rvert \\leq 1/M$ guarantees that\n",
    "the error actually decreases in each step, since we have this condition\n",
    "that $\\lvert e_{k+1}\\rvert \\le M \\lvert e_k \\rvert^2 < \\lvert e_k \\rvert$.\n",
    "\n",
    "\n",
    "\n",
    "<!-- --- begin exercise --- -->\n",
    "\n",
    "## Exercise 4: Newton's method for a scalar equation\n",
    "\n",
    "\n",
    "**a)**\n",
    "Repeat Example 4 using different starting values $x_0$. Find the two other roots.\n",
    "\n",
    "**b)**\n",
    "Verify quadratic convergence numerically. How to do so is explained in *Preliminaries*, section 3.1.\n",
    "\n",
    "**c)**\n",
    "Solve the equation $x(1-\\cos(x))=0$, both by the bisection method and\n",
    "by Newton's method with $x_0=1$. Comment on the result.\n",
    "\n",
    "<!-- --- end exercise --- -->\n",
    "\n",
    "\n",
    "# System of nonlinear equations\n",
    "In this section we will discuss how to solve systems of non-linear equations, given by"
   ]
  },
  {
   "cell_type": "markdown",
   "metadata": {},
   "source": [
    "$$\n",
    "\\begin{align*}\n",
    "   f_1(x_1, x_2, \\dotsc, x_n) &= 0 \\\\ \n",
    "   f_2(x_1, x_2, \\dotsc, x_n) &= 0 \\\\ \n",
    "                              & \\vdots  \\\\ \n",
    "   f_n(x_1, x_2, \\dotsc, x_n) &= 0 \\\\ \n",
    "\\end{align*}\n",
    "$$"
   ]
  },
  {
   "cell_type": "markdown",
   "metadata": {},
   "source": [
    "or short by"
   ]
  },
  {
   "cell_type": "markdown",
   "metadata": {},
   "source": [
    "$$\n",
    "\\mathbf{f}(\\mathbf{x}) = \\mathbf{0}.\n",
    "$$"
   ]
  },
  {
   "cell_type": "markdown",
   "metadata": {},
   "source": [
    "where $\\mathbf{f}:\\mathbb{R}^n \\rightarrow \\mathbb{R}^n$.\n",
    "\n",
    "\n",
    "**Example 5:**\n",
    "We are given the two equations"
   ]
  },
  {
   "cell_type": "markdown",
   "metadata": {},
   "source": [
    "$$\n",
    "\\begin{align*}\n",
    "x_1^3-x_2 + \\frac{1}{4} &= 0,  \\\\ \n",
    "x_1^2+x_2^2 - 1  &= 0. \\nonumber\n",
    "\\end{align*}\n",
    "$$"
   ]
  },
  {
   "cell_type": "markdown",
   "metadata": {},
   "source": [
    "This is illustrated in the following figure."
   ]
  },
  {
   "cell_type": "code",
   "execution_count": 22,
   "metadata": {
    "collapsed": true
   },
   "outputs": [],
   "source": [
    "plt.rcParams['figure.figsize'] = 6, 6   # Resize the figure for a nicer plot"
   ]
  },
  {
   "cell_type": "code",
   "execution_count": 23,
   "metadata": {},
   "outputs": [
    {
     "data": {
      "image/png": "[encoded data removed]",
      "text/plain": [
       "<matplotlib.figure.Figure at 0x7f5753050eb8>"
      ]
     },
     "metadata": {},
     "output_type": "display_data"
    }
   ],
   "source": [
    "# Example 5 with graphs\n",
    "x = np.linspace(-1.0, 1.0, 101)\n",
    "plt.plot(x, x**3+0.25);\n",
    "t = np.linspace(0,2*pi,101)\n",
    "plt.plot(np.cos(t), np.sin(t)); \n",
    "plt.axis('equal');\n",
    "plt.xlabel('x1')\n",
    "plt.ylabel('x2')\n",
    "plt.grid(True)\n",
    "plt.legend(['$x_1^3-x_2+1/4=0$','$x_1^2+x_2^2-1=0$']);"
   ]
  },
  {
   "cell_type": "markdown",
   "metadata": {},
   "source": [
    "The solutions of the two equations are the intersections of the two\n",
    "graphs. So there are two solutions, one in the first and one in the\n",
    "third quadrant. We will use this as a test example in the sequel.\n",
    "\n",
    "## Newton's method for systems of equations\n",
    "The idea of fixed point iterations can be extended to systems of equations. But it is in general hard to find convergent schemes. So we will concentrate on the extension of Newton's method to systems of equations. And for the sake of illustration, we only discuss systems of two equations and two unknowns written as"
   ]
  },
  {
   "cell_type": "markdown",
   "metadata": {},
   "source": [
    "$$\n",
    "\\begin{align*}\n",
    "f(x, y) &= 0, \\\\ \n",
    "g(x, y) &= 0,\n",
    "\\end{align*}\n",
    "$$"
   ]
  },
  {
   "cell_type": "markdown",
   "metadata": {},
   "source": [
    "to avoid getting completely lost in indices. \n",
    "\n",
    "Let  $\\mathbf{r}= [r_x, r_y]^T$ be a solution to these equations and some $\\hat{\\mathbf{x}}=[\\hat{x},\\hat{y}]^T$ a known approximation to $\\mathbf{r}$. We search for a better approximation. This can be done by replacing the nonlinear equation $\\mathbf{f}(\\mathbf{x})=\\mathbf{0}$ by its linear approximation. This can be found by a multidimensional Taylor expansion around $\\hat{\\mathbf{x}}$:"
   ]
  },
  {
   "cell_type": "markdown",
   "metadata": {},
   "source": [
    "$$\n",
    "\\begin{align*}\n",
    "   f(x, y) &= f(\\hat{x}, \\hat{y})\n",
    "   + \\frac{\\partial f}{\\partial x}(\\hat{x}, \\hat{y})(x - \\hat{x})\n",
    "   + \\frac{\\partial f}{\\partial y}(\\hat{x}, \\hat{y})(y - \\hat{y}) + \\dotsc \\\\ \n",
    "   g(x,y) &= g(\\hat{x}, \\hat{y})\n",
    "   + \\frac{\\partial g}{\\partial x}(\\hat{x}, \\hat{y})(x - \\hat{x})\n",
    "   + \\frac{\\partial g}{\\partial y}(\\hat{x}, \\hat{y})(y - \\hat{y}) + \\dotsc \n",
    "\\end{align*}\n",
    "$$"
   ]
  },
  {
   "cell_type": "markdown",
   "metadata": {},
   "source": [
    "where the $\\dotsc$ represent higher order terms, which are small if $\\hat{\\mathbf{x}}\\approx \\mathbf{x}$. \n",
    "By ignoring these terms we get a *linear approximation* to $\\mathbf{f}(\\mathbf{x})$, and rather than solving the nonlinear original system, we can solve its linear approximation:"
   ]
  },
  {
   "cell_type": "markdown",
   "metadata": {},
   "source": [
    "$$\n",
    "\\begin{align*}\n",
    "   f(\\hat{x}, \\hat{y})\n",
    "   + \\frac{\\partial f}{\\partial x}(\\hat{x}, \\hat{y})(x - \\hat{x})\n",
    "   + \\frac{\\partial f}{\\partial y}(\\hat{x}, \\hat{y})(y - \\hat{y}) &= 0\\\\ \n",
    "   g(\\hat{x}, \\hat{y})\n",
    "   + \\frac{\\partial g}{\\partial x}(\\hat{x}, \\hat{y})(x - \\hat{x})\n",
    "   + \\frac{\\partial g}{\\partial y}(\\hat{x}, \\hat{y})(y - \\hat{y}) &= 0\n",
    "\\end{align*}\n",
    "$$"
   ]
  },
  {
   "cell_type": "markdown",
   "metadata": {},
   "source": [
    "or more compact"
   ]
  },
  {
   "cell_type": "markdown",
   "metadata": {},
   "source": [
    "$$\n",
    "\\mathbf{f}(\\hat{\\mathbf{x}}) + J(\\hat{\\mathbf{x}})(\\mathbf{x}-\\hat{\\mathbf{x}}) = 0,\n",
    "$$"
   ]
  },
  {
   "cell_type": "markdown",
   "metadata": {},
   "source": [
    "where the Jacobian  $J(\\mathbf{x})$ is given by"
   ]
  },
  {
   "cell_type": "markdown",
   "metadata": {},
   "source": [
    "$$\n",
    "J(\\mathbf{x}) =\\left(\\begin{array}{cc}\n",
    "\\frac{\\partial f}{\\partial x}(x, y) & \\frac{\\partial f}{\\partial y}(x, y) \\\\ \n",
    "\\frac{\\partial g}{\\partial x}(x, y) & \\frac{\\partial g}{\\partial y}(x, y)\n",
    "\\end{array} \\right)\n",
    "$$"
   ]
  },
  {
   "cell_type": "markdown",
   "metadata": {},
   "source": [
    "It is to be hoped that the solution of the linear equation $\\mathbf{x}$ provides a better approximation to $\\mathbf{r}$ than our initial guess $\\hat{\\mathbf{x}}$, so the process can be repeated, resulting in\n",
    "\n",
    "**Newton's method for system of equations.**\n",
    "\n",
    "* Given a function $\\mathbf{f}(\\mathbf{x})$, its Jacobian $J(\\mathbf{x})$ and a starting value $\\mathbf{x}_0$. \n",
    "\n",
    "* For $k=0,1,2,3,\\dotsc$\n",
    "\n",
    "  * Solve the system $J(\\mathbf{x}_k)\\Delta_k = - \\mathbf{f}(\\mathbf{x}_k)$. \n",
    "\n",
    "  * Let $\\mathbf{x}_{k+1} = \\mathbf{x}_k + \\Delta_k$.\n",
    "\n",
    " \n",
    "\n",
    "The strategy can be generalized to systems of $n$ equations in $n$ unknowns, in which case the Jacobian is given by:"
   ]
  },
  {
   "cell_type": "markdown",
   "metadata": {},
   "source": [
    "$$\n",
    "J(\\mathbf{x}) = \\left(\\begin{array}{cccc}\n",
    "\\frac{\\partial f_1}{\\partial x_1}(\\mathbf{x}) &\n",
    "\\frac{\\partial f_1}{\\partial x_2}(\\mathbf{x}) & \\dotsm &\n",
    "\\frac{\\partial f_1}{\\partial x_n}(\\mathbf{x}) \\\\ \n",
    "\\frac{\\partial f_2}{\\partial x_1}(\\mathbf{x}) &\n",
    "\\frac{\\partial f_2}{\\partial x_2}(\\mathbf{x}) & \\dotsm &\n",
    "\\frac{\\partial f_2}{\\partial x_n}(\\mathbf{x}) \\\\ \n",
    "\\vdots & \\vdots & & \\vdots \\\\ \n",
    "\\frac{\\partial f_n}{\\partial x_1}(\\mathbf{x}) &\n",
    "\\frac{\\partial f_n}{\\partial x_2}(\\mathbf{x}) & \\dotsm &\n",
    "\\frac{\\partial f_n}{\\partial x_n}(\\mathbf{x})\n",
    "\\end{array} \\right).\n",
    "$$\n"
   ]
  },
  {
   "cell_type": "markdown",
   "metadata": {},
   "source": [
    "### Implementation\n",
    "\n",
    "Newton's method for system of equations is implemented in the function `newton_system`. The numerical solution is accepted when all components of $\\mathbf{f}(\\mathbf{x}_k)$ are smaller than a tolerance in absolute value, that means when $\\|\\mathbf{f}(\\mathbf{x}_k)\\|_{\\infty} < $ `tol`. See *Preliminaries*, section 1 for a description of norms."
   ]
  },
  {
   "cell_type": "code",
   "execution_count": 24,
   "metadata": {
    "collapsed": true
   },
   "outputs": [],
   "source": [
    "np.set_printoptions(precision=15)          # Output with high accuracy"
   ]
  },
  {
   "cell_type": "code",
   "execution_count": 25,
   "metadata": {
    "collapsed": true
   },
   "outputs": [],
   "source": [
    "def newton_system(f, jac, x0, tol = 1.e-10, max_iter=20):\n",
    "    x = x0\n",
    "    print('k ={:3d}, x = '.format(0), x)\n",
    "    for k in range(max_iter):\n",
    "        fx = f(x)\n",
    "        if norm(fx, np.inf) < tol:          # The solution is accepted. \n",
    "            break\n",
    "        Jx = jac(x)\n",
    "        try:\n",
    "            delta = solve(Jx, -fx)\n",
    "        except:\n",
    "            print(\"Error in solving the Newton system\")\n",
    "            k = -1                          # return -1 as iteration number\n",
    "            break\n",
    "        x = x + delta            \n",
    "        print('k ={:3d}, x = '.format(k+1), x)\n",
    "    return x, k"
   ]
  },
  {
   "cell_type": "markdown",
   "metadata": {},
   "source": [
    "**Example 6:**\n",
    "Solve the equations from Example 5\n",
    "by Newton's method, that is, the system\n",
    "$$\n",
    "\\begin{align*}\n",
    "x_1^3-x_2 + \\frac{1}{4} &= 0,  \\\\ \n",
    "x_1^2+x_2^2 - 1  &= 0. \\nonumber\n",
    "\\end{align*}\n",
    "$$\n",
    "The vector valued function $\\mathbf{f}$ and the Jacobian $J$ are in this case"
   ]
  },
  {
   "cell_type": "markdown",
   "metadata": {},
   "source": [
    "$$\n",
    "\\mathbf{f}(\\mathbf{x}) =\n",
    "\\left(\\begin{array}{c}\n",
    "x_1^3-x_2 + \\frac{1}{4} \\\\ \n",
    "x_1^2+x_2^2 - 1\n",
    "\\end{array} \\right) \\qquad \\text{and} \\qquad\n",
    "J(\\mathbf{x})  =\n",
    "\\left( \\begin{array}{cc}\n",
    "3x_1^2 & -1 \\\\ 2x_1 & 2x_2\n",
    "\\end{array} \\right)\n",
    "$$"
   ]
  },
  {
   "cell_type": "markdown",
   "metadata": {},
   "source": [
    "We already know that the system has 2 solutions, one in the first and one in the third quadrant. To find the first one, choose $\\mathbf{x}_0=[1,1]^T$ as starting value."
   ]
  },
  {
   "cell_type": "code",
   "execution_count": 33,
   "metadata": {},
   "outputs": [
    {
     "name": "stdout",
     "output_type": "stream",
     "text": [
      "k =  0, x =  [ 1.  1.]\n",
      "k =  1, x =  [ 0.8125  0.6875]\n",
      "k =  2, x =  [ 0.750687815833801  0.663959854014599]\n",
      "k =  3, x =  [ 0.746302675769953  0.665623251157924]\n",
      "k =  4, x =  [ 0.746281278080405  0.665630719318386]\n",
      "k =  5, x =  [ 0.746281277575054  0.665630719499142]\n",
      "\n",
      "Test: f(x)=[  1.110223024625157e-16   0.000000000000000e+00]\n"
     ]
    }
   ],
   "source": [
    "# Example 6\n",
    "\n",
    "# The vector valued function. Notice the indexing. \n",
    "def f(x):               \n",
    "    y = np.array([x[0]**3-x[1]+0.25, \n",
    "               x[0]**2+x[1]**2-1])\n",
    "    return y\n",
    "\n",
    "# The Jacobian\n",
    "def jac(x):\n",
    "    J = np.array([[3*x[0]**2, -1],\n",
    "         [2*x[0],    2*x[1]]])\n",
    "    return J\n",
    "\n",
    "x0 = np.array([1.0, 1.0])          # Starting values\n",
    "max_iter = 50\n",
    "x, nit = newton_system(f, jac, x0, tol = 1.e-12, max_iter = max_iter)  # Apply Newton's method\n",
    "  \n",
    "print('\\nTest: f(x)={}'.format(f(x)))\n",
    "if nit == max_iter-1:\n",
    "    print('Warning: Convergence has not been achieved')"
   ]
  },
  {
   "cell_type": "markdown",
   "metadata": {},
   "source": [
    "<!-- --- begin exercise --- -->\n",
    "\n",
    "## Exercise 5: Newton's method for a system\n",
    "\n",
    "\n",
    "**a)**\n",
    "Search for the solution of Example 5 in the third quadrant by changing the initial values.\n",
    "\n",
    "**b)**\n",
    "Apply Newton's method to the system"
   ]
  },
  {
   "cell_type": "markdown",
   "metadata": {},
   "source": [
    "$$\n",
    "\\begin{array}{rl}    x e^y &= 1, \\\\ -x^2 +y &= 1, \\end{array} \\qquad  \\text{using $x_0=y_0=-1$}.\n",
    "$$"
   ]
  },
  {
   "cell_type": "markdown",
   "metadata": {},
   "source": [
    "### Final remarks\n",
    "\n",
    "A complete error and convergence analysis of Newton's method for\n",
    "systems is far from trivial, and outside the scope of this course. But\n",
    "in summary:\n",
    "If $\\mathbf{f}$ is sufficiently differentiable, and there is a\n",
    "solution $\\mathbf{r}$ of the system $\\mathbf{f}(\\mathbf{x})=0$ and\n",
    "$J(\\mathbf{r})$ is nonsingular, then the Newton iterations will\n",
    "converge quadratically towards $\\mathbf{r}$ for all $\\mathbf{x}_0$\n",
    "sufficiently close to $\\mathbf{r}$.\n",
    "\n",
    "Finding solutions of nonlinear equations is difficult. Even if the\n",
    "Newton iterations in principle will converge, it can be very hard to\n",
    "find sufficient good starting values. Nonlinear equations can have\n",
    "none or many solutions. Even when there are solutions, there is no\n",
    "guarantee that the solution you find is the one you want.\n",
    "\n",
    "If $n$ is large, each iteration is computationally expensive since the\n",
    "Jacobian is evaluated in each iteration, and a linear system has to be solved.\n",
    "In practice, some modified\n",
    "and more efficient version of Newton's method will be used, maybe\n",
    "together with more robust but slow algorithms for finding sufficiently\n",
    "good starting values.\n",
    "<!-- --- end exercise --- -->"
   ]
  }
 ],
 "metadata": {
  "kernelspec": {
   "display_name": "Python 3",
   "language": "python",
   "name": "python3"
  },
  "language_info": {
   "codemirror_mode": {
    "name": "ipython",
    "version": 3
   },
   "file_extension": ".py",
   "mimetype": "text/x-python",
   "name": "python",
   "nbconvert_exporter": "python",
   "pygments_lexer": "ipython3",
   "version": "3.6.3"
  }
 },
 "nbformat": 4,
 "nbformat_minor": 4
}
