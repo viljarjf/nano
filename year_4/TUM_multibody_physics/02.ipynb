{
 "cells": [
  {
   "attachments": {},
   "cell_type": "markdown",
   "metadata": {},
   "source": [
    "# Exercise 2: Swendsen-Wang algorithm for the 2D Ising model\n",
    "\n",
    "The goal of this exercise is to implement the Swendsen-Wang algorithm for the 2D Ising\n",
    "model. Recall that the update of the Swendsen-Wang algorithm works as follows:\n",
    "\n",
    "- Assign to each bond $b$ a variable $w_b \\in \\{ 0, 1 \\}$, where 1 means “connected” and 0\n",
    "means “disconnected”. If the spins connected by the bond $b = (n, m)$ between index\n",
    "$n$ and $m$ are anti-parallel, always choose $w_b = 0$, If the spins are parallel, choose\n",
    "$w_b = 0$ with probability $e^{−2\\Beta J} , where $\\Beta = k_bT$. In terms of conditional probabilities:\n",
    "\n",
    "\\begin{align}\n",
    "p(w_b = 0 | \\sigma_n \\neq \\sigma_m) &= 1 \\\\\n",
    "p(w_b = 0 | \\sigma_n = \\sigma_m) &= e^{−2\\Beta J} \\\\\n",
    "p(w_b = 1 | \\sigma_n \\neq \\sigma_m) &= 0 \\\\\n",
    "p(w_b = 1 | \\sigma_n = \\sigma_m) &= 1 − e^{−2\\Beta J} \\\\\n",
    "\\end{align}\n",
    "\n",
    "- Interpreting the connected bonds as edges of a graph (where 0 means no edge) and\n",
    "the spins as node, find “clusters” of spins, i.e., connected components of the graph.\n",
    "- Flip each cluster (= connected component) with probability $p = 0.5$. Notice that a\n",
    "single spin is also a “cluster”.\n",
    "After the update, do a measurement (if the system is already thermalized) and continue\n",
    "with the next update"
   ]
  }
 ],
 "metadata": {
  "language_info": {
   "name": "python"
  }
 },
 "nbformat": 4,
 "nbformat_minor": 2
}
