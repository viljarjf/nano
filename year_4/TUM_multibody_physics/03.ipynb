{
 "cells": [
  {
   "attachments": {},
   "cell_type": "markdown",
   "metadata": {},
   "source": [
    "# Exercise 3: Finite size scaling\n",
    "\n",
    "In this exercise, we will determine the critical temperature and critical exponents of the\n",
    "Ising model.\n",
    "\n",
    "a) First, we need finite size data. Since generating the data takes some time, it is useful\n",
    "to save it to disk. Generate your own finite size data from last weeks program (which\n",
    "can take some time to get well converged results), and/or download finite size data\n",
    "provided on the GitLab page. Inspect generate_data.py to find out how the data\n",
    "is structured and how to load the data. Plot the specific heat CV and magnetic\n",
    "susceptibility χ."
   ]
  },
  {
   "attachments": {},
   "cell_type": "markdown",
   "metadata": {},
   "source": [
    "Recall: \n",
    "$$ C_v = \\frac{1}{k_BT^2} \\left(\\left<E^2\\right> - \\left<E\\right>^2\\right)  $$\n",
    "\n",
    "$$ \\chi = \\frac{1}{k_BT} \\left(\\left<M^2\\right> - \\left<M\\right>^2\\right) $$\n"
   ]
  },
  {
   "cell_type": "code",
   "execution_count": null,
   "metadata": {},
   "outputs": [],
   "source": [
    "%matplotlib qt5\n",
    "from ising_model import IsingModel\n",
    "import numpy as np\n",
    "from matplotlib import pyplot as plt\n"
   ]
  },
  {
   "cell_type": "code",
   "execution_count": null,
   "metadata": {},
   "outputs": [],
   "source": [
    "def calc_Cv(E: np.ndarray, T: float, kb: float = 1) -> float:\n",
    "    return 1/(kb*T**2) * np.var(E)\n",
    "\n",
    "calc_Cv_vectorized = np.vectorize(calc_Cv, excluded=[\"E\"], signature=\"(m),()->()\")\n",
    "\n",
    "def calc_chi(M: np.ndarray, kbT: float) -> float:\n",
    "    return 1/(kbT) * np.var(np.abs(M))\n",
    "\n",
    "calc_chi_vectorized = np.vectorize(calc_chi, excluded=[\"M\"], signature=\"(m),()->()\")\n"
   ]
  },
  {
   "cell_type": "code",
   "execution_count": null,
   "metadata": {},
   "outputs": [],
   "source": [
    "import os\n",
    "if not os.path.exists(\"ising_data\"):\n",
    "    os.mkdir(\"ising_data\")\n",
    "    \n",
    "def get_data(L: int, T0: float = 1, Tn: float = 3.5, N: int = 100) -> tuple[np.ndarray, np.ndarray, np.ndarray]:\n",
    "    filename = f\"ising_data/{L=}.npz\"\n",
    "    try:\n",
    "        file = np.load(filename)\n",
    "        return file[\"Es\"], file[\"Ms\"], file[\"Ts\"]\n",
    "    \n",
    "    except OSError:\n",
    "        system = IsingModel(1.0, L, L)\n",
    "        Ts = np.linspace(T0, Tn, N)\n",
    "\n",
    "        # do some thermalization\n",
    "        for _ in range(100):\n",
    "            system.iterate_swendsen_wang(Ts[0])\n",
    "\n",
    "        Es, Ms = system.sweep_swendsen_wang(Ts, 200)\n",
    "\n",
    "        np.savez(filename, Es=Es, Ms=Ms, Ts=Ts)\n",
    "\n",
    "        return Es, Ms, Ts"
   ]
  },
  {
   "cell_type": "code",
   "execution_count": null,
   "metadata": {},
   "outputs": [],
   "source": [
    "Es_20, Ms_20, Ts = get_data(20)\n",
    "# Es_100, Ms_100 = generate_data(100)"
   ]
  },
  {
   "cell_type": "code",
   "execution_count": null,
   "metadata": {},
   "outputs": [],
   "source": [
    "Cvs_20 = calc_Cv_vectorized(Es_20, Ts)\n",
    "chis_20 = calc_chi_vectorized(Ms_20, Ts)\n",
    "# Cvs_100 = calc_Cv_vectorized(Es_100, Ts)\n",
    "# chis_100 = calc_chi_vectorized(Ms_100, Ts)"
   ]
  },
  {
   "cell_type": "code",
   "execution_count": null,
   "metadata": {},
   "outputs": [],
   "source": [
    "plt.figure()\n",
    "plt.suptitle(\"Verification plot\")\n",
    "plt.subplot(1,2,1)\n",
    "plt.plot(Ts, Cvs_20 / 20**2, label=\"L=20\")\n",
    "# plt.plot(Ts, Cvs_100 / 100**2, label=\"L=100\")\n",
    "plt.xlabel(\"T\")\n",
    "plt.legend()\n",
    "plt.title(\"Cv\")\n",
    "plt.subplot(1,2,2)\n",
    "plt.plot(Ts, chis_20, label=\"L=20\")\n",
    "# plt.plot(Ts, chis_100, label=\"L=100\")\n",
    "plt.xlabel(\"T\")\n",
    "plt.title(\"$\\\\chi$\")\n",
    "plt.legend()\n",
    "plt.show()"
   ]
  },
  {
   "attachments": {},
   "cell_type": "markdown",
   "metadata": {},
   "source": [
    "b) The specific heat CV and magnetic susceptibility χ have maxima, which move with\n",
    "increasing system size L. Determine the temperature corresponding to the maxima\n",
    "for various system sizes and plot them versus $\\frac{1}{L}$. Extrapolate to L → ∞ to obtain\n",
    "an estimate for the critical temperature Tc.\n",
    "Hint: You can use the functions `np.argmax` and `np.polyfit`."
   ]
  },
  {
   "cell_type": "code",
   "execution_count": null,
   "metadata": {},
   "outputs": [],
   "source": [
    "Ls = np.array([5, 10, 15, 20, 40, 60])\n",
    "Tcs_Cv = []\n",
    "Tcs_chi = []\n",
    "for L in Ls:\n",
    "    Es, Ms, Ts = get_data(L)\n",
    "    Cvs = calc_Cv_vectorized(Es, Ts)\n",
    "    chis = calc_chi_vectorized(Ms, Ts)\n",
    "\n",
    "    Tc_Cv = Ts[np.argmax(Cvs)]\n",
    "    Tc_chi = Ts[np.argmax(chis)]\n",
    "\n",
    "    Tcs_Cv.append(Tcs_Cv)\n",
    "    Tcs_chi.append(Tcs_chi)\n",
    "\n",
    "plt.figure()\n",
    "plt.subplot(1,2,1)\n",
    "plt.plot(1/Ls, Tcs_Cv)\n",
    "plt.title(\"Tc from Cv\")\n",
    "plt.subplot(1,2,2)\n",
    "plt.plot(1/Ls, Tcs_chi)\n",
    "plt.title(\"Tc from $\\\\chi$\")\n",
    "plt.show()"
   ]
  }
 ],
 "metadata": {
  "kernelspec": {
   "display_name": ".venv",
   "language": "python",
   "name": "python3"
  },
  "language_info": {
   "codemirror_mode": {
    "name": "ipython",
    "version": 3
   },
   "file_extension": ".py",
   "mimetype": "text/x-python",
   "name": "python",
   "nbconvert_exporter": "python",
   "pygments_lexer": "ipython3",
   "version": "3.10.11"
  }
 },
 "nbformat": 4,
 "nbformat_minor": 2
}
