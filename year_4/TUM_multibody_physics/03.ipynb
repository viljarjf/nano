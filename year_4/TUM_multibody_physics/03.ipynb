{
 "cells": [
  {
   "attachments": {},
   "cell_type": "markdown",
   "metadata": {},
   "source": [
    "# Exercise 3: Finite size scaling\n",
    "\n",
    "In this exercise, we will determine the critical temperature and critical exponents of the\n",
    "Ising model.\n",
    "\n",
    "a) First, we need finite size data. Since generating the data takes some time, it is useful\n",
    "to save it to disk. Generate your own finite size data from last weeks program (which\n",
    "can take some time to get well converged results), and/or download finite size data\n",
    "provided on the GitLab page. Inspect generate_data.py to find out how the data\n",
    "is structured and how to load the data. Plot the specific heat CV and magnetic\n",
    "susceptibility χ."
   ]
  },
  {
   "attachments": {},
   "cell_type": "markdown",
   "metadata": {},
   "source": [
    "Recall: \n",
    "$$ C_v = \\frac{1}{k_BT^2} \\left(\\left<E^2\\right> - \\left<E\\right>^2\\right)  $$\n",
    "\n",
    "$$ \\chi = \\frac{1}{k_BT} \\left(\\left<M^2\\right> - \\left<M\\right>^2\\right) $$\n"
   ]
  },
  {
   "cell_type": "code",
   "execution_count": null,
   "metadata": {},
   "outputs": [],
   "source": [
    "%matplotlib qt5\n",
    "from ising_model import IsingModel\n",
    "import numpy as np\n",
    "from matplotlib import pyplot as plt\n"
   ]
  },
  {
   "cell_type": "code",
   "execution_count": null,
   "metadata": {},
   "outputs": [],
   "source": [
    "def calc_Cv(E: np.ndarray, T: float, kb: float = 1) -> float:\n",
    "    return 1/(kb*T**2) * np.var(E)\n",
    "\n",
    "calc_Cv_vectorized = np.vectorize(calc_Cv, excluded=[\"E\"], signature=\"(m),()->()\")\n",
    "\n",
    "def calc_chi(M: np.ndarray, kbT: float) -> float:\n",
    "    return 1/(kbT) * np.var(np.abs(M))\n",
    "\n",
    "calc_chi_vectorized = np.vectorize(calc_chi, excluded=[\"M\"], signature=\"(m),()->()\")\n"
   ]
  },
  {
   "cell_type": "code",
   "execution_count": null,
   "metadata": {},
   "outputs": [],
   "source": [
    "import os\n",
    "if not os.path.exists(\"ising_data\"):\n",
    "    os.mkdir(\"ising_data\")\n",
    "    \n",
    "def get_data(L: int, T0: float = 1, Tn: float = 3.5, N: int = 100) -> tuple[np.ndarray, np.ndarray, np.ndarray]:\n",
    "    filename = f\"ising_data/{L=}.npz\"\n",
    "    try:\n",
    "        file = np.load(filename)\n",
    "        return file[\"Es\"], file[\"Ms\"], file[\"Ts\"]\n",
    "    \n",
    "    except OSError:\n",
    "        system = IsingModel(1.0, L, L)\n",
    "        Ts = np.linspace(T0, Tn, N)\n",
    "\n",
    "        # do some thermalization\n",
    "        for _ in range(100):\n",
    "            system.iterate_swendsen_wang(Ts[0])\n",
    "\n",
    "        Es, Ms = system.sweep_swendsen_wang(Ts, 200)\n",
    "\n",
    "        np.savez(filename, Es=Es, Ms=Ms, Ts=Ts)\n",
    "\n",
    "        return Es, Ms, Ts"
   ]
  },
  {
   "cell_type": "code",
   "execution_count": null,
   "metadata": {},
   "outputs": [],
   "source": [
    "Es_20, Ms_20, Ts = get_data(20)\n",
    "# Es_100, Ms_100 = generate_data(100)"
   ]
  },
  {
   "cell_type": "code",
   "execution_count": null,
   "metadata": {},
   "outputs": [],
   "source": [
    "Cvs_20 = calc_Cv_vectorized(Es_20, Ts)\n",
    "chis_20 = calc_chi_vectorized(Ms_20, Ts)\n",
    "# Cvs_100 = calc_Cv_vectorized(Es_100, Ts)\n",
    "# chis_100 = calc_chi_vectorized(Ms_100, Ts)"
   ]
  },
  {
   "cell_type": "code",
   "execution_count": null,
   "metadata": {},
   "outputs": [],
   "source": [
    "plt.figure()\n",
    "plt.suptitle(\"Verification plot\")\n",
    "plt.subplot(1,2,1)\n",
    "plt.plot(Ts, Cvs_20 / 20**2, label=\"L=20\")\n",
    "# plt.plot(Ts, Cvs_100 / 100**2, label=\"L=100\")\n",
    "plt.xlabel(\"T\")\n",
    "plt.legend()\n",
    "plt.title(\"Cv\")\n",
    "plt.subplot(1,2,2)\n",
    "plt.plot(Ts, chis_20, label=\"L=20\")\n",
    "# plt.plot(Ts, chis_100, label=\"L=100\")\n",
    "plt.xlabel(\"T\")\n",
    "plt.title(\"$\\\\chi$\")\n",
    "plt.legend()\n",
    "plt.show()"
   ]
  },
  {
   "attachments": {},
   "cell_type": "markdown",
   "metadata": {},
   "source": [
    "b) The specific heat CV and magnetic susceptibility χ have maxima, which move with\n",
    "increasing system size L. Determine the temperature corresponding to the maxima\n",
    "for various system sizes and plot them versus $\\frac{1}{L}$. Extrapolate to L → ∞ to obtain\n",
    "an estimate for the critical temperature Tc.\n",
    "Hint: You can use the functions `np.argmax` and `np.polyfit`."
   ]
  },
  {
   "cell_type": "code",
   "execution_count": null,
   "metadata": {},
   "outputs": [],
   "source": [
    "Ls = np.unique(np.append(np.arange(5, 30), 2**np.arange(2, 8)))\n",
    "Tcs_Cv = []\n",
    "Tcs_chi = []\n",
    "for L in Ls:\n",
    "    Es, Ms, Ts = get_data(L)\n",
    "    Cvs = calc_Cv_vectorized(Es, Ts)\n",
    "    chis = calc_chi_vectorized(Ms, Ts)\n",
    "\n",
    "    Tc_Cv = Ts[np.argmax(Cvs)]\n",
    "    Tc_chi = Ts[np.argmax(chis)]\n",
    "\n",
    "    Tcs_Cv.append(Tc_Cv)\n",
    "    Tcs_chi.append(Tc_chi)\n"
   ]
  },
  {
   "cell_type": "code",
   "execution_count": null,
   "metadata": {},
   "outputs": [],
   "source": [
    "plt.figure()\n",
    "plt.subplot(1,3,1)\n",
    "plt.scatter(1/Ls, Tcs_Cv)\n",
    "plt.xlabel(\"1/L\")\n",
    "plt.title(\"Tc from Cv\")\n",
    "plt.subplot(1,3,2)\n",
    "plt.scatter(1/Ls, Tcs_chi)\n",
    "plt.xlabel(\"1/L\")\n",
    "plt.title(\"Tc from $\\\\chi$\")\n",
    "plt.subplot(1,3,3)\n",
    "plt.scatter([*1/Ls, *1/Ls], [*Tcs_Cv, *Tcs_chi])\n",
    "plt.xlabel(\"1/L\")\n",
    "plt.title(\"Tc\")\n",
    "plt.show()"
   ]
  },
  {
   "cell_type": "code",
   "execution_count": null,
   "metadata": {},
   "outputs": [],
   "source": [
    "# The Cv-data cannot really be extrapolated, as seen on the plot above\n",
    "print(\"== Tc estimates ==\")\n",
    "print(f\" chi  :     {np.polyval(np.polyfit(1/Ls, Tcs_chi, 1), 0) :.3f}\")\n",
    "print(f\" Cv   :     {np.polyval(np.polyfit(1/Ls, Tcs_Cv, 1), 0) :.3f}\")\n",
    "print(f\" both :     {np.polyval(np.polyfit([*1/Ls, *1/Ls], [*Tcs_Cv, *Tcs_chi], 1), 0) :.3f}\")\n",
    "print(f\" exact:     {2 / np.log(1 + np.sqrt(2)) :.3f}\")"
   ]
  },
  {
   "attachments": {},
   "cell_type": "markdown",
   "metadata": {},
   "source": [
    "c) Another quantity which is especially good to obtain the critical temperature is the\n",
    "so-called Binder cumulant, introduced by Binder in 1981 and defined as\n",
    "\n",
    "$$ U_B = \\frac{3}{2}\\left(1 - \\frac{\\left<M^4\\right>}{3\\left<M^2\\right>^2}\\right) $$\n",
    "\n",
    "Plot the Binder cumulant for various system sizes. Find the crossings of UB between\n",
    "curves corresponding to L and 2L, and include them into the previous plot from b)."
   ]
  },
  {
   "cell_type": "code",
   "execution_count": null,
   "metadata": {},
   "outputs": [],
   "source": [
    "def binder_cumulant(Ms: np.ndarray) -> float:\n",
    "    M4 = np.mean(Ms**4)\n",
    "    M22 = np.mean(Ms**2)**2\n",
    "    return 1.5 * (1 - M4 / (3*M22))"
   ]
  },
  {
   "cell_type": "code",
   "execution_count": null,
   "metadata": {},
   "outputs": [],
   "source": [
    "Ls_UB = 2**np.arange(2, 8)\n",
    "UBs = np.empty((Ls_UB.size, Ts.size))\n",
    "\n",
    "for i, L in enumerate(Ls_UB):\n",
    "    Es, Ms, Ts = get_data(L)\n",
    "    for j in range(Ts.size):\n",
    "        UB = binder_cumulant(Ms[j, :])\n",
    "        UBs[i, j] = UB"
   ]
  },
  {
   "cell_type": "code",
   "execution_count": null,
   "metadata": {},
   "outputs": [],
   "source": [
    "plt.figure()\n",
    "plt.title(\"Binder cumulant\")\n",
    "for i, L in enumerate(Ls_UB):\n",
    "    plt.plot(Ts, UBs[i], label=f\"{L = }\")\n",
    "plt.xlabel(\"T\")\n",
    "plt.legend()\n",
    "plt.show()\n"
   ]
  },
  {
   "cell_type": "code",
   "execution_count": null,
   "metadata": {},
   "outputs": [],
   "source": [
    "# Find intersection by inspection\n",
    "T_UB = 2.265"
   ]
  },
  {
   "attachments": {},
   "cell_type": "markdown",
   "metadata": {},
   "source": [
    "Right at the critical temperature TC , the (infinite) system becomes scale invariant. As\n",
    "one approaches the critical point, different macroscopic quantities scale with a power law\n",
    "in τ ≡ $\\frac{T - T_C}{T_C}$. The exponents of these power laws are universal, i.e., they can coincide for\n",
    "systems with different microscopic descriptions (which defines the “universality class”).\n",
    "For example, the correlation length diverges as ξ ∝ |τ |−ν , the specific heat as CV ∝ |τ |−α,\n",
    "the order parameter in the ordered phases as |M | ∝ (−τ )β , and the susceptibility as\n",
    "χ ∝ |τ |−γ . The correlation length of a finite system is bounded by the system size L.\n",
    "From that, one can derive a universal finite size scaling near the critical point.\n",
    "\n",
    "d) Instead of viewing finite-size effect as a nuisance in cutting off power laws, one\n",
    "can exploit the dependency of critical exponents on system size L to extract the\n",
    "exponents. Recall the maxima value of specific heat CV and magnetic susceptibility\n",
    "χ are cut off by\n",
    "\n",
    "$$ \\chi \\sim L^\\frac{\\gamma}{\\nu} $$\n",
    "\n",
    "$$ C_V \\sim L^\\frac{\\alpha}{\\nu} $$\n",
    "\n",
    "Find out the ratio $\\frac{\\gamma}{\\nu}$ and $\\frac{\\alpha}{\\nu}$.\n",
    "Hint: You can use the functions `plt.loglog` and `np.polyfit`."
   ]
  },
  {
   "cell_type": "code",
   "execution_count": null,
   "metadata": {},
   "outputs": [],
   "source": [
    "plt.figure()\n",
    "plt.loglog(1/Ls, Tcs_chi)\n",
    "plt.loglog(1/Ls, Tcs_Cv)\n",
    "plt.show()\n",
    "print(\"gamma / nu\", np.polyfit(1/Ls, np.log(Tcs_chi), 1)[1])\n",
    "print(\"alpha / nu\", np.polyfit(1/Ls, np.log(Tcs_Cv), 1)[1])"
   ]
  },
  {
   "attachments": {},
   "cell_type": "markdown",
   "metadata": {},
   "source": [
    "e) The binder cumulant has the finite size scaling\n",
    "\n",
    "$$ \\Phi_{U_B}\\left(\\tau L^\\frac{1}{\\nu}\\right) $$\n",
    "\n",
    "\n",
    "where ΦUB is an unknown, universal function. Plot UB versus $\\tau L^\\frac{1}{\\nu}$ for various L.\n",
    "Vary the unknown exponent ν until the curves all appear on a single line."
   ]
  },
  {
   "cell_type": "code",
   "execution_count": null,
   "metadata": {},
   "outputs": [],
   "source": [
    "# Animation to make finding nu easier\n",
    "from matplotlib.animation import FuncAnimation\n",
    "from matplotlib.widgets import Slider\n",
    "\n",
    "fig, (slider_ax, function_ax) = plt.subplots(1, 2)\n",
    "\n",
    "nu = [1]    # default 1, use list to make updating easier\n",
    "Tc = 2 / np.log(1 + np.sqrt(2)) # ad hoc\n",
    "tau = (Ts - Tc) / Tc\n",
    "\n",
    "nu_slider = Slider(slider_ax, '$\\\\nu$ ', valmin=0, valmax=5, \n",
    "            valinit=nu[0], valfmt='%.2f', facecolor='#cc7000')\n",
    "\n",
    "def update_nu(_nu):\n",
    "    nu[0] = _nu\n",
    "nu_slider.on_changed(update_nu)\n",
    "\n",
    "function_ax.set_xlabel(\"$\\\\tau L^\\\\frac{1}{\\\\nu}$\")\n",
    "function_ax.set_ylabel(\"$U_B$\")\n",
    "\n",
    "plots = []\n",
    "for i, L in enumerate(Ls_UB):\n",
    "\n",
    "    plot ,= function_ax.plot(tau * L**(1 / nu[0]), UBs[i])\n",
    "    plots.append(plot)\n",
    "\n",
    "def animation(_):\n",
    "    for i, L in enumerate(Ls_UB):\n",
    "        plots[i].set_data(tau * L**(1 / nu[0]), UBs[i])\n",
    "    function_ax.set_xlim(np.min(tau * Ls[-1]**(1 / nu[0]))*1.1, np.max(tau * Ls[-1]**(1 / nu[0]))*1.1)\n",
    "\n",
    "ani = FuncAnimation(fig, animation, blit=False, interval=50)\n",
    "\n",
    "fig.show()"
   ]
  },
  {
   "cell_type": "code",
   "execution_count": null,
   "metadata": {},
   "outputs": [],
   "source": [
    "# By inspection\n",
    "optimal_nu = nu[0]"
   ]
  }
 ],
 "metadata": {
  "kernelspec": {
   "display_name": ".venv",
   "language": "python",
   "name": "python3"
  },
  "language_info": {
   "codemirror_mode": {
    "name": "ipython",
    "version": 3
   },
   "file_extension": ".py",
   "mimetype": "text/x-python",
   "name": "python",
   "nbconvert_exporter": "python",
   "pygments_lexer": "ipython3",
   "version": "3.10.11"
  }
 },
 "nbformat": 4,
 "nbformat_minor": 2
}
