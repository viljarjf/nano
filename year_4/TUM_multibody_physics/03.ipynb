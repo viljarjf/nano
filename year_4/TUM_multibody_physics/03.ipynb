{
 "cells": [
  {
   "attachments": {},
   "cell_type": "markdown",
   "metadata": {},
   "source": [
    "# Exercise 3: Finite size scaling\n",
    "\n",
    "In this exercise, we will determine the critical temperature and critical exponents of the\n",
    "Ising model.\n",
    "\n",
    "a) First, we need finite size data. Since generating the data takes some time, it is useful\n",
    "to save it to disk. Generate your own finite size data from last weeks program (which\n",
    "can take some time to get well converged results), and/or download finite size data\n",
    "provided on the GitLab page. Inspect generate_data.py to find out how the data\n",
    "is structured and how to load the data. Plot the specific heat CV and magnetic\n",
    "susceptibility χ."
   ]
  },
  {
   "attachments": {},
   "cell_type": "markdown",
   "metadata": {},
   "source": [
    "Recall: \n",
    "$$ C_v = \\frac{1}{k_BT^2} \\left(\\left<E^2\\right> - \\left<E\\right>^2\\right)  $$\n",
    "\n",
    "$$ \\chi = \\frac{1}{k_BT} \\left(\\left<M^2\\right> - \\left<M\\right>^2\\right) $$\n"
   ]
  },
  {
   "cell_type": "code",
   "execution_count": null,
   "metadata": {},
   "outputs": [],
   "source": [
    "%matplotlib qt5\n",
    "from ising_model import IsingModel\n",
    "import numpy as np\n",
    "from matplotlib import pyplot as plt\n"
   ]
  },
  {
   "cell_type": "code",
   "execution_count": null,
   "metadata": {},
   "outputs": [],
   "source": [
    "def calc_Cv(E: np.ndarray, T: float, kb: float = 1) -> float:\n",
    "    mean_E = np.mean(E)\n",
    "    mean_E2 = np.mean(E**2)\n",
    "    return 1/(kb*T**2) * (mean_E2 - mean_E**2)\n",
    "\n",
    "def calc_chi(M: np.ndarray, kbT: float) -> float:\n",
    "    mean_M = np.mean(M)\n",
    "    mean_M2 = np.mean(M**2)\n",
    "    return 1/(kbT) * (mean_M2 - mean_M**2)\n"
   ]
  }
 ],
 "metadata": {
  "kernelspec": {
   "display_name": ".venv",
   "language": "python",
   "name": "python3"
  },
  "language_info": {
   "codemirror_mode": {
    "name": "ipython",
    "version": 3
   },
   "file_extension": ".py",
   "mimetype": "text/x-python",
   "name": "python",
   "nbconvert_exporter": "python",
   "pygments_lexer": "ipython3",
   "version": "3.10.11"
  }
 },
 "nbformat": 4,
 "nbformat_minor": 2
}
