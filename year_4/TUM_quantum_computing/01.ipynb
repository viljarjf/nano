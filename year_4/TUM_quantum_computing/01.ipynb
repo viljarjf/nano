{
 "cells": [
  {
   "cell_type": "code",
   "execution_count": null,
   "metadata": {},
   "outputs": [],
   "source": [
    "# I have no idea what I'm doing\n",
    "\n",
    "from qiskit.quantum_info import Statevector\n",
    "from numpy import exp, sin, cos, pi, array\n",
    "\n",
    "zero = Statevector.from_int(0, 2)\n",
    "one = Statevector.from_int(1, 2)\n",
    "\n",
    "a = one\n",
    "b = 1 / 2**0.5 * (zero - one)\n",
    "c = sin(3*pi / 8) * one - cos(3*pi / 8) * zero\n",
    "d = exp(1j * pi / 4) * sin(3*pi / 8) * one - cos(3*pi / 8) * zero"
   ]
  },
  {
   "cell_type": "code",
   "execution_count": null,
   "metadata": {},
   "outputs": [],
   "source": [
    "a.draw('bloch')"
   ]
  },
  {
   "cell_type": "code",
   "execution_count": null,
   "metadata": {},
   "outputs": [],
   "source": [
    "b.draw('bloch')"
   ]
  },
  {
   "cell_type": "code",
   "execution_count": null,
   "metadata": {},
   "outputs": [],
   "source": [
    "c.draw('bloch')"
   ]
  },
  {
   "cell_type": "code",
   "execution_count": null,
   "metadata": {},
   "outputs": [],
   "source": [
    "d.draw('bloch')"
   ]
  },
  {
   "cell_type": "code",
   "execution_count": null,
   "metadata": {},
   "outputs": [],
   "source": [
    "import numpy as np\n",
    "from scipy.linalg import kron\n",
    "\n",
    "CNOT = np.array([\n",
    "    [1, 0, 0, 0],\n",
    "    [0, 0, 0, 1],\n",
    "    [0, 0, 1, 0],\n",
    "    [0, 1, 0, 0]\n",
    "])\n",
    "\n",
    "I = np.eye(2)\n",
    "\n",
    "H = np.array([\n",
    "    [1, 1],\n",
    "    [1, -1]\n",
    "]) / np.sqrt(2)\n",
    "\n",
    "\n",
    "A = kron(H, H) @ CNOT @ kron(H, I)\n",
    "\n",
    "B = kron(I, H) @ CNOT\n",
    "\n",
    "zero = np.array([[1, 0]])\n",
    "print(kron(kron(zero, zero), zero))\n",
    "\n",
    "from matplotlib import pyplot as plt\n",
    "plt.figure()\n",
    "plt.title(\"Equivalence check of quantum circuits\")\n",
    "plt.subplot(1,2,1)\n",
    "plt.imshow(A)\n",
    "plt.subplot(1,2,2)\n",
    "plt.imshow(B)\n",
    "plt.show()"
   ]
  }
 ],
 "metadata": {
  "kernelspec": {
   "display_name": ".venv",
   "language": "python",
   "name": "python3"
  },
  "language_info": {
   "codemirror_mode": {
    "name": "ipython",
    "version": 3
   },
   "file_extension": ".py",
   "mimetype": "text/x-python",
   "name": "python",
   "nbconvert_exporter": "python",
   "pygments_lexer": "ipython3",
   "version": "3.10.11"
  }
 },
 "nbformat": 4,
 "nbformat_minor": 2
}
