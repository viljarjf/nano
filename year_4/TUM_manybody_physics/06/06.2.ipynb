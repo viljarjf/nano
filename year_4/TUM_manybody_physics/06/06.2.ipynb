{
 "cells": [
  {
   "cell_type": "code",
   "execution_count": null,
   "metadata": {},
   "outputs": [],
   "source": [
    "from scipy import sparse as sp\n",
    "from matplotlib import pyplot as plt\n",
    "import numpy as np\n",
    "\n",
    "default_dtype = np.complex128"
   ]
  },
  {
   "cell_type": "code",
   "execution_count": null,
   "metadata": {},
   "outputs": [],
   "source": [
    "Id = sp.csr_matrix(np.eye(2), dtype=default_dtype)\n",
    "Sx = sp.csr_matrix([[0., 1.], [1., 0.]], dtype=default_dtype)\n",
    "Sz = sp.csr_matrix([[1., 0.], [0., -1.]], dtype=default_dtype)\n",
    "Splus = sp.csr_matrix([[0., 1.], [0., 0.]], dtype=default_dtype)\n",
    "Sminus = sp.csr_matrix([[0., 0.], [1., 0.]], dtype=default_dtype)\n",
    "\n",
    "\n",
    "def singlesite_to_full(op, i, L):\n",
    "    op_list = [Id]*L  # = [Id, Id, Id ...] with L entries\n",
    "    op_list[i] = op\n",
    "    full = op_list[0]\n",
    "    for op_i in op_list[1:]:\n",
    "        full = sp.kron(full, op_i, format=\"csr\")\n",
    "    return full\n",
    "\n",
    "\n",
    "def gen_sx_list(L):\n",
    "    return [singlesite_to_full(Sx, i, L) for i in range(L)]\n",
    "\n",
    "\n",
    "def gen_sz_list(L):\n",
    "    return [singlesite_to_full(Sz, i, L) for i in range(L)]\n",
    "\n",
    "\n",
    "def gen_hamiltonian(sx_list, sz_list, g, J=1.):\n",
    "    L = len(sx_list)\n",
    "    H = sp.csr_matrix((2**L, 2**L), dtype=default_dtype)\n",
    "    for j in range(L):\n",
    "        H = H - J *( sx_list[j] * sx_list[(j+1)%L])\n",
    "        H = H - g * sz_list[j]\n",
    "    return H\n",
    "\n",
    "def gen_hamiltonian_L(L: int, g: float, J: float = 1.0) -> sp.csr_matrix:\n",
    "    return gen_hamiltonian(gen_sx_list(L), gen_sz_list(L), g, J)"
   ]
  },
  {
   "cell_type": "code",
   "execution_count": null,
   "metadata": {},
   "outputs": [],
   "source": [
    "L = 14\n",
    "g = 1.5\n",
    "J = 1.0\n",
    "H = gen_hamiltonian_L(L=L, g=g, J=J)\n",
    "E0, psi_0 = sp.linalg.eigsh(H, k=1, which=\"SA\")\n",
    "psi_0 = psi_0.flatten()"
   ]
  },
  {
   "cell_type": "code",
   "execution_count": null,
   "metadata": {},
   "outputs": [],
   "source": [
    "assert np.allclose(np.linalg.norm(psi_0), [1.0])\n",
    "assert psi_0.shape == (2**L,)"
   ]
  },
  {
   "cell_type": "code",
   "execution_count": null,
   "metadata": {},
   "outputs": [],
   "source": [
    "def i_state(i: int, L: int) -> np.ndarray:\n",
    "    out = np.empty(L, dtype=bool)\n",
    "    for j in range(L):\n",
    "        out[j] = i & (1 << j)\n",
    "    return out.astype(default_dtype)[::-1]\n",
    "\n",
    "# test\n",
    "assert np.all(i_state(int(\"01011\", 2), 5) == np.array([0, 1, 0, 1, 1]))"
   ]
  },
  {
   "cell_type": "code",
   "execution_count": null,
   "metadata": {},
   "outputs": [],
   "source": [
    "psi = np.zeros(L, dtype=default_dtype)\n",
    "for i, psi_i in enumerate(psi_0):\n",
    "    psi += psi_i * i_state(i, L)\n",
    "print(psi)"
   ]
  },
  {
   "cell_type": "code",
   "execution_count": null,
   "metadata": {},
   "outputs": [],
   "source": [
    "psi_ab = np.reshape(psi_0, (2**(L//2), 2**(L//2)))\n",
    "\n",
    "# check if we can recreate the same psi\n",
    "psi_test = np.zeros(L, dtype=default_dtype)\n",
    "for a in range(2**(L//2)):\n",
    "    for b in range(2**(L//2)):\n",
    "        psi_test += psi_ab[a, b] * np.concatenate((i_state(a, L//2), i_state(b, L//2)), axis=0)\n",
    "\n",
    "assert np.allclose(psi, psi_test)\n",
    "del psi_test"
   ]
  },
  {
   "cell_type": "code",
   "execution_count": null,
   "metadata": {},
   "outputs": [],
   "source": [
    "u, lambdas, vh = np.linalg.svd(psi_ab)\n",
    "\n",
    "assert np.allclose(psi_ab, u @ np.diag(lambdas) @ vh)"
   ]
  },
  {
   "cell_type": "code",
   "execution_count": null,
   "metadata": {},
   "outputs": [],
   "source": [
    "def get_lambdas(psi: np.ndarray, L: int) -> np.ndarray:\n",
    "    _psi = psi.copy()\n",
    "    if len(_psi.shape) == 1:\n",
    "        _psi = _psi.reshape((2**(L//2), 2**(L//2))) \n",
    "    _, lambdas, _ = np.linalg.svd(_psi)\n",
    "    return lambdas"
   ]
  },
  {
   "cell_type": "code",
   "execution_count": null,
   "metadata": {},
   "outputs": [],
   "source": [
    "plt.figure()\n",
    "plt.plot(lambdas)\n",
    "plt.xlabel(\"$\\\\alpha$\")\n",
    "plt.ylabel(\"$\\\\lambda_\\\\alpha$\")\n",
    "plt.title(\"Schmidt values\")\n",
    "plt.yscale(\"log\")\n",
    "plt.show()"
   ]
  },
  {
   "cell_type": "code",
   "execution_count": null,
   "metadata": {},
   "outputs": [],
   "source": [
    "def get_random_state(L: int) -> np.ndarray:\n",
    "    state = np.random.normal(size=(2**L)) + 1j * np.random.normal(size=(2**L))\n",
    "    state /= np.linalg.norm(state)\n",
    "    return state"
   ]
  },
  {
   "cell_type": "code",
   "execution_count": null,
   "metadata": {},
   "outputs": [],
   "source": [
    "plt.figure()\n",
    "plt.plot(lambdas, label=\"$\\\\Psi_0$\")\n",
    "plt.plot(get_lambdas(get_random_state(L), L), label=\"$\\\\Psi_{rnd}$\")\n",
    "plt.xlabel(\"$\\\\alpha$\")\n",
    "plt.ylabel(\"$\\\\lambda_\\\\alpha$\")\n",
    "plt.title(\"Schmidt values\")\n",
    "plt.yscale(\"log\")\n",
    "plt.legend()\n",
    "plt.show()"
   ]
  },
  {
   "cell_type": "code",
   "execution_count": null,
   "metadata": {},
   "outputs": [],
   "source": [
    "def entanglement_entropy(lambdas: np.ndarray) -> float:\n",
    "    return - np.sum(lambdas**2 * np.log(lambdas**2))"
   ]
  },
  {
   "cell_type": "code",
   "execution_count": null,
   "metadata": {},
   "outputs": [],
   "source": [
    "def print_entropy(g: float, L: int, psi = None) -> float:\n",
    "    if psi is None:\n",
    "        H = gen_hamiltonian_L(L=L, g=g, J=J)\n",
    "        _, psi = sp.linalg.eigsh(H, k=1, which=\"SA\")\n",
    "        psi = psi.flatten()\n",
    "    lambdas = get_lambdas(psi, L)\n",
    "    S = entanglement_entropy(lambdas)\n",
    "    print(f\"{g = }, {L = }: {S = :.3f}, theoretical for random state: {L/2 * np.log(2) - 0.5}\")\n",
    "    return S"
   ]
  },
  {
   "cell_type": "code",
   "execution_count": null,
   "metadata": {},
   "outputs": [],
   "source": [
    "Ls = [6, 8, 10, 12, 14]\n",
    "for L in Ls:\n",
    "    print_entropy(g=1.5, L=L)\n",
    "    print_entropy(g=1.0, L=L)\n",
    "    print_entropy(g=0.5, L=L)\n",
    "    print_entropy(g=\"random\", L=L, psi=get_random_state(L))"
   ]
  }
 ],
 "metadata": {
  "kernelspec": {
   "display_name": ".venv",
   "language": "python",
   "name": "python3"
  },
  "language_info": {
   "name": "python",
   "version": "3.10.11"
  },
  "orig_nbformat": 4
 },
 "nbformat": 4,
 "nbformat_minor": 2
}
