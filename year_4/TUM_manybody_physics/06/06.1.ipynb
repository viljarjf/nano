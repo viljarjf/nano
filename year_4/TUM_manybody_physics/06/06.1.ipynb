{
 "cells": [
  {
   "cell_type": "code",
   "execution_count": null,
   "metadata": {},
   "outputs": [],
   "source": [
    "from scipy import sparse as sp\n",
    "from matplotlib import pyplot as plt\n",
    "import numpy as np\n",
    "import ed_conserve"
   ]
  },
  {
   "cell_type": "code",
   "execution_count": null,
   "metadata": {},
   "outputs": [],
   "source": [
    "H = ed_conserve.calc_H(N=10, J=1, g=0.1)"
   ]
  },
  {
   "cell_type": "code",
   "execution_count": null,
   "metadata": {},
   "outputs": [],
   "source": [
    "energy, _ = sp.linalg.eigsh(H[0], k=1, which=\"SA\")\n",
    "energy"
   ]
  },
  {
   "cell_type": "code",
   "execution_count": null,
   "metadata": {},
   "outputs": [],
   "source": [
    "Hs = ed_conserve.calc_H(N=14, J=1, g=0.5)"
   ]
  },
  {
   "cell_type": "code",
   "execution_count": null,
   "metadata": {},
   "outputs": [],
   "source": [
    "plt.figure()\n",
    "n_energies = 5\n",
    "E: dict[int, np.ndarray] = {}\n",
    "for k, H in Hs.items():\n",
    "    E[k], _ = sp.linalg.eigsh(H, k=n_energies, which=\"SA\")\n",
    "\n",
    "for i in range(n_energies):\n",
    "    Es = []\n",
    "    ks = []\n",
    "    for k, Ek in E.items():\n",
    "        Es.append(Ek[i])\n",
    "        ks.append(k)\n",
    "    plt.scatter(ks, Es, label=f\"$E_{i}$\")\n",
    "plt.xlabel(\"k\")\n",
    "plt.ylabel(\"E\")\n",
    "plt.title(\"Dispersion relation\")\n",
    "plt.legend()\n",
    "plt.show()"
   ]
  },
  {
   "cell_type": "code",
   "execution_count": null,
   "metadata": {},
   "outputs": [],
   "source": [
    "block_sizes = []\n",
    "Ns = range(5, 30)\n",
    "for N in Ns:\n",
    "    basis, _ = ed_conserve.calc_basis(N=14)\n",
    "    block_sizes_k = []\n",
    "    for _, states in basis.items():\n",
    "        for _, Ra in states:\n",
    "            block_sizes_k.append(Ra)\n",
    "    block_sizes.append(block_sizes_k)"
   ]
  },
  {
   "cell_type": "code",
   "execution_count": null,
   "metadata": {},
   "outputs": [],
   "source": [
    "plt.figure()\n",
    "for i, N in enumerate(Ns):\n",
    "    plt.scatter([N for _ in block_sizes[i]], block_sizes[i], c=\"tab:blue\")\n",
    "plt.xlabel(\"N\")\n",
    "plt.ylabel(\"Block size\")\n",
    "plt.yscale(\"log\")\n",
    "plt.show()"
   ]
  },
  {
   "cell_type": "code",
   "execution_count": null,
   "metadata": {},
   "outputs": [],
   "source": [
    "plt.figure()\n",
    "plt.imshow(ed_conserve.calc_H(9, 1, 1)[0].todense().real)\n",
    "plt.show()"
   ]
  },
  {
   "cell_type": "code",
   "execution_count": null,
   "metadata": {},
   "outputs": [],
   "source": [
    "# Test partity eigenvalue calculation\n",
    "even = [int(\"110000\", 2), int(\"000000\", 2), int(\"010010\", 2), int(\"111111\", 2)]\n",
    "odd =  [int(\"111000\", 2), int(\"101100\", 2), int(\"100101\", 2), int(\"000001\", 2)]\n",
    "\n",
    "print(\"Even:\", *(ed_conserve.parity_eigenvalue(i, 6) for i in even))\n",
    "print(\"Odd:\", *(ed_conserve.parity_eigenvalue(i, 6) for i in odd))"
   ]
  }
 ],
 "metadata": {
  "kernelspec": {
   "display_name": ".venv",
   "language": "python",
   "name": "python3"
  },
  "language_info": {
   "codemirror_mode": {
    "name": "ipython",
    "version": 3
   },
   "file_extension": ".py",
   "mimetype": "text/x-python",
   "name": "python",
   "nbconvert_exporter": "python",
   "pygments_lexer": "ipython3",
   "version": "3.10.11"
  }
 },
 "nbformat": 4,
 "nbformat_minor": 2
}
