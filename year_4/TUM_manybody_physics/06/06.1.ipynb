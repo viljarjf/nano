{
 "cells": [
  {
   "cell_type": "code",
   "execution_count": null,
   "metadata": {},
   "outputs": [],
   "source": [
    "from scipy import sparse as sp\n",
    "from matplotlib import pyplot as plt\n",
    "import numpy as np\n",
    "import ed_conserve"
   ]
  },
  {
   "cell_type": "code",
   "execution_count": null,
   "metadata": {},
   "outputs": [],
   "source": [
    "H = ed_conserve.calc_H(N=10, J=1, g=0.1)"
   ]
  },
  {
   "cell_type": "code",
   "execution_count": null,
   "metadata": {},
   "outputs": [],
   "source": [
    "energy, _ = sp.linalg.eigsh(H[0], k=1, which=\"SA\")\n",
    "energy"
   ]
  },
  {
   "cell_type": "code",
   "execution_count": null,
   "metadata": {},
   "outputs": [],
   "source": [
    "Hs = ed_conserve.calc_H(N=14, J=1, g=0.5)"
   ]
  },
  {
   "cell_type": "code",
   "execution_count": null,
   "metadata": {},
   "outputs": [],
   "source": [
    "plt.figure()\n",
    "n_energies = 5\n",
    "E: dict[int, np.ndarray] = {}\n",
    "for k, H in Hs.items():\n",
    "    E[k], _ = sp.linalg.eigsh(H, k=n_energies, which=\"SA\")\n",
    "\n",
    "for i in range(n_energies):\n",
    "    Es = []\n",
    "    ks = []\n",
    "    for k, Ek in E.items():\n",
    "        Es.append(Ek[i])\n",
    "        ks.append(k)\n",
    "    plt.scatter(ks, Es, label=f\"$E_{i}$\")\n",
    "plt.xlabel(\"k\")\n",
    "plt.ylabel(\"E\")\n",
    "plt.title(\"Dispersion relation\")\n",
    "plt.legend()\n",
    "plt.show()"
   ]
  },
  {
   "cell_type": "code",
   "execution_count": null,
   "metadata": {},
   "outputs": [],
   "source": [
    "block_sizes = []\n",
    "Ns = range(10, 20)\n",
    "for N in Ns:\n",
    "    basis, _ = ed_conserve.calc_basis(N=14)\n",
    "    block_sizes_k = []\n",
    "    for k, states in basis.items():\n",
    "        block_sizes_k.append(len(states))\n",
    "    block_sizes.append(block_sizes_k)"
   ]
  },
  {
   "cell_type": "code",
   "execution_count": null,
   "metadata": {},
   "outputs": [],
   "source": [
    "plt.figure()\n",
    "plt.plot(Ns, block_sizes, scaley=\"log\")\n",
    "plt.show()"
   ]
  }
 ],
 "metadata": {
  "kernelspec": {
   "display_name": ".venv",
   "language": "python",
   "name": "python3"
  },
  "language_info": {
   "codemirror_mode": {
    "name": "ipython",
    "version": 3
   },
   "file_extension": ".py",
   "mimetype": "text/x-python",
   "name": "python",
   "nbconvert_exporter": "python",
   "pygments_lexer": "ipython3",
   "version": "3.10.11"
  }
 },
 "nbformat": 4,
 "nbformat_minor": 2
}
