{
 "cells": [
  {
   "cell_type": "code",
   "execution_count": null,
   "metadata": {},
   "outputs": [],
   "source": [
    "from scipy import sparse as sp\n",
    "from matplotlib import pyplot as plt\n",
    "import numpy as np\n",
    "import ed_conserve"
   ]
  },
  {
   "cell_type": "code",
   "execution_count": null,
   "metadata": {},
   "outputs": [],
   "source": [
    "H = ed_conserve.calc_H(N=10, J=1, g=0.1)"
   ]
  },
  {
   "cell_type": "code",
   "execution_count": null,
   "metadata": {},
   "outputs": [],
   "source": [
    "energy, _ = sp.linalg.eigsh(H[(1, 0)], k=1, which=\"SA\")\n",
    "energy"
   ]
  },
  {
   "cell_type": "code",
   "execution_count": null,
   "metadata": {},
   "outputs": [],
   "source": [
    "Hs = ed_conserve.calc_H(N=14, J=1, g=0.5)"
   ]
  },
  {
   "cell_type": "code",
   "execution_count": null,
   "metadata": {},
   "outputs": [],
   "source": [
    "plt.figure()\n",
    "n_energies = 5\n",
    "E: dict[tuple[int, int], np.ndarray] = {}\n",
    "for qn, H in Hs.items():\n",
    "    E[qn], _ = sp.linalg.eigsh(H, k=n_energies, which=\"SA\")\n",
    "\n",
    "ks = sorted(list(set(k for _, k in E.keys())))\n",
    "k_scaled = [k / 14 * (3.1416) for k in ks]\n",
    "\n",
    "for i in range(n_energies):\n",
    "    Es = [[], []]\n",
    "    for k in ks:\n",
    "        Es[0].append(E[-1, k][i])\n",
    "        Es[1].append(E[1, k][i])\n",
    "    plt.plot(k_scaled, Es[0], label=f\"$E_{i}$, $p = -1$\")\n",
    "    plt.plot(k_scaled, Es[1], label=f\"$E_{i}$, $p = +1$\")\n",
    "\n",
    "\n",
    "plt.xlabel(\"k\")\n",
    "plt.ylabel(\"E\")\n",
    "plt.title(\"Dispersion relation\")\n",
    "plt.legend()\n",
    "plt.show()"
   ]
  },
  {
   "cell_type": "code",
   "execution_count": null,
   "metadata": {},
   "outputs": [],
   "source": [
    "block_sizes = []\n",
    "Ns = range(5, 30)\n",
    "for N in Ns:\n",
    "    basis, _ = ed_conserve.calc_basis(N=14)\n",
    "    block_sizes_k = []\n",
    "    for _, states in basis.items():\n",
    "        block_sizes_k.append(len(states))\n",
    "    block_sizes.append(block_sizes_k)\n",
    "print(_)"
   ]
  },
  {
   "cell_type": "code",
   "execution_count": null,
   "metadata": {},
   "outputs": [],
   "source": [
    "plt.figure()\n",
    "for i, N in enumerate(Ns):\n",
    "    plt.scatter([N for _ in block_sizes[i]], block_sizes[i], c=\"tab:blue\")\n",
    "plt.xlabel(\"N\")\n",
    "plt.ylabel(\"Block size\")\n",
    "plt.yscale(\"log\")\n",
    "plt.show()"
   ]
  },
  {
   "cell_type": "code",
   "execution_count": null,
   "metadata": {},
   "outputs": [],
   "source": [
    "plt.figure()\n",
    "_Hs = ed_conserve.calc_H(9, 1, 1)\n",
    "_Hp = _Hs[(1, 0)].todense().real\n",
    "_Hm = _Hs[(-1, 0)].todense().real\n",
    "plt.subplot(1, 2, 1)\n",
    "plt.imshow(_Hp)\n",
    "plt.subplot(1, 2, 2)\n",
    "plt.imshow(_Hm)\n",
    "plt.show()"
   ]
  },
  {
   "cell_type": "code",
   "execution_count": null,
   "metadata": {},
   "outputs": [],
   "source": [
    "# Test partity eigenvalue calculation\n",
    "even = [int(\"110000\", 2), int(\"000000\", 2), int(\"010010\", 2), int(\"111111\", 2)]\n",
    "odd =  [int(\"111000\", 2), int(\"101100\", 2), int(\"100101\", 2), int(\"000001\", 2)]\n",
    "\n",
    "def parity_LF(s, N):\n",
    "    return int((-1.)**(-N + bin(s).count('1')))\n",
    "\n",
    "def translate_LF(s, N):\n",
    "    \"\"\"Shift the bits of the state `s` one position to the right (cyclically for N bits).\"\"\"\n",
    "    bs = bin(s)[2:].zfill(N)\n",
    "    return int(bs[-1] + bs[:-1], base=2)\n",
    "\n",
    "\n",
    "print(\"Mine: \")\n",
    "print(\"Even:\", *(ed_conserve.parity_eigenvalue(i, 6) for i in even))\n",
    "print(\"Odd:\", *(ed_conserve.parity_eigenvalue(i, 6) for i in odd))\n",
    "\n",
    "print(\"LF:\")\n",
    "print(\"Even:\", *(parity_LF(i, 6) for i in even))\n",
    "print(\"Odd:\", *(parity_LF(i, 6) for i in odd))\n",
    "\n",
    "print(\"Should give the same result^\")\n",
    "\n",
    "import time\n",
    "n_iter = 1000000\n",
    "\n",
    "print(\"Time parity\")\n",
    "start = time.perf_counter()\n",
    "for _ in range(n_iter):\n",
    "    for i, j in zip(even, odd): \n",
    "        ed_conserve.parity_eigenvalue(i, 6)\n",
    "        ed_conserve.parity_eigenvalue(j, 6)\n",
    "print(f\"Mine took {time.perf_counter() - start :.3f} seconds\")\n",
    "\n",
    "start = time.perf_counter()\n",
    "for _ in range(n_iter):\n",
    "    for i, j in zip(even, odd): \n",
    "        parity_LF(i, 6)\n",
    "        parity_LF(j, 6)\n",
    "print(f\"Theirs took {time.perf_counter() - start :.3f} seconds\")\n",
    "\n",
    "print(\"Time translate\")\n",
    "start = time.perf_counter()\n",
    "for _ in range(n_iter):\n",
    "    for i, j in zip(even, odd): \n",
    "        ed_conserve.translate(i, 6)\n",
    "        ed_conserve.translate(j, 6)\n",
    "print(f\"Mine took {time.perf_counter() - start :.3f} seconds\")\n",
    "\n",
    "start = time.perf_counter()\n",
    "for _ in range(n_iter):\n",
    "    for i, j in zip(even, odd): \n",
    "        translate_LF(i, 6)\n",
    "        translate_LF(j, 6)\n",
    "print(f\"Theirs took {time.perf_counter() - start :.3f} seconds\")\n"
   ]
  },
  {
   "cell_type": "code",
   "execution_count": null,
   "metadata": {},
   "outputs": [],
   "source": [
    "%matplotlib qt5\n",
    "def generate_plot(Hs: dict[tuple[int, int], sp.csr_matrix]):\n",
    "    n_energies = 1\n",
    "    E: dict[tuple[int, int], np.ndarray] = {}\n",
    "    for qn, H in Hs.items():\n",
    "        E[qn], _ = sp.linalg.eigsh(H, k=n_energies, which=\"SA\")\n",
    "\n",
    "    ks = sorted(list(set(k for _, k in E.keys())))\n",
    "    k_scaled = [k / 14 * (3.1416) for k in ks]\n",
    "\n",
    "    for i in range(n_energies):\n",
    "        Es = [[], []]\n",
    "        for k in ks:\n",
    "            Es[0].append(E[(-1, k)][i].copy())\n",
    "            Es[1].append(E[(1, k)][i].copy())\n",
    "        plt.plot(k_scaled, Es[0], label=f\"$E_{i}$, $p = -1$\")\n",
    "        plt.plot(k_scaled, Es[1], label=f\"$E_{i}$, $p = +1$\")\n",
    "    plt.xlabel(\"k\")\n",
    "    plt.ylabel(\"E\")\n",
    "    # plt.legend()\n",
    "\n",
    "plt.figure()\n",
    "\n",
    "Js = [-1, 1]\n",
    "gs = [0.5, 1, 1.5]\n",
    "i = 1\n",
    "for J in Js:\n",
    "    for g in gs:\n",
    "        plt.subplot(2, 3, i)\n",
    "        Hs = ed_conserve.calc_H(N=14, J=J, g=g)\n",
    "        generate_plot(Hs)\n",
    "        plt.title(f\"{J = }, {g = }\")\n",
    "        i += 1\n",
    "\n",
    "plt.suptitle(\"Dispersion relation\")\n",
    "plt.show()"
   ]
  }
 ],
 "metadata": {
  "kernelspec": {
   "display_name": ".venv",
   "language": "python",
   "name": "python3"
  },
  "language_info": {
   "codemirror_mode": {
    "name": "ipython",
    "version": 3
   },
   "file_extension": ".py",
   "mimetype": "text/x-python",
   "name": "python",
   "nbconvert_exporter": "python",
   "pygments_lexer": "ipython3",
   "version": "3.10.11"
  }
 },
 "nbformat": 4,
 "nbformat_minor": 2
}
