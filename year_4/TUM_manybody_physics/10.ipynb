{
 "cells": [
  {
   "cell_type": "code",
   "execution_count": null,
   "metadata": {},
   "outputs": [],
   "source": [
    "%load_ext autoreload\n",
    "%autoreload 2\n",
    "\n",
    "import numpy as np\n",
    "from matplotlib import pyplot as plt\n",
    "from mps import a_mps as mps\n",
    "from mps import b_model as model\n",
    "from mps import d_dmrg as dmrg\n",
    "from mps import tfi_exact\n",
    "import tqdm"
   ]
  },
  {
   "cell_type": "code",
   "execution_count": null,
   "metadata": {},
   "outputs": [],
   "source": [
    "L = 14\n",
    "J = 1\n",
    "g = 1.5\n",
    "psi = mps.init_spinup_MPS(L)\n",
    "m = model.TFIModel(L, J, g)\n",
    "engine = dmrg.DMRGEngine(psi, m)\n",
    "\n",
    "assert engine.psi is psi\n",
    "print(f\"{m.energy(psi) = }\")\n",
    "\n",
    "i = 0\n",
    "while not engine.converged():\n",
    "    engine.sweep()\n",
    "    i += 1\n",
    "\n",
    "print(f\"{i = }\")\n",
    "\n",
    "print(f\"{m.energy(psi) = }\")\n",
    "print(f\"{tfi_exact.finite_gs_energy(L, J, g) = }\")\n"
   ]
  },
  {
   "cell_type": "code",
   "execution_count": null,
   "metadata": {},
   "outputs": [],
   "source": [
    "def get_ground_state(L: int, J: float, g: float) -> tuple[mps.MPS, model.TFIModel]:\n",
    "    psi = mps.init_spinup_MPS(L)\n",
    "    m = model.TFIModel(L, J, g)\n",
    "    engine = dmrg.DMRGEngine(psi, m)\n",
    "\n",
    "    while not engine.converged():\n",
    "        engine.sweep()\n",
    "\n",
    "    return psi, m"
   ]
  },
  {
   "cell_type": "code",
   "execution_count": null,
   "metadata": {},
   "outputs": [],
   "source": [
    "Ls = [8, 16, 32, 64,96, 128]\n",
    "gs = [1.5, 1.0, 0.5]\n",
    "Js = [1.0]\n",
    "\n",
    "# (L, J, g) -> entanglement entropy\n",
    "S: dict[tuple[int, float, float]] = {}\n",
    "\n",
    "for g in gs:\n",
    "    for J in Js:\n",
    "        for L in tqdm.tqdm(Ls):\n",
    "            psi, m = get_ground_state(L, J, g)\n",
    "            S[(L, J, g)] = psi.entanglement_entropy()[L//2]"
   ]
  },
  {
   "cell_type": "code",
   "execution_count": null,
   "metadata": {},
   "outputs": [],
   "source": [
    "plt.figure()\n",
    "for i, g in enumerate(gs):\n",
    "    for J in Js:\n",
    "        plt.scatter(Ls, [S[L, J, g] for L in Ls], label=f\"{g = }\")\n",
    "plt.xscale(\"log\")\n",
    "plt.xlabel(\"log L\")\n",
    "plt.ylabel(\"S\")\n",
    "plt.legend()\n",
    "plt.show()"
   ]
  },
  {
   "cell_type": "code",
   "execution_count": null,
   "metadata": {},
   "outputs": [],
   "source": [
    "ignore_n_first = 2\n",
    "c = np.polyfit(\n",
    "    np.log(Ls[ignore_n_first:]), \n",
    "    [S[(L, 1, 1)] for L in Ls[ignore_n_first:]], \n",
    "    deg=1\n",
    "    )[0] * 6\n",
    "print(f\"{c = }\")"
   ]
  },
  {
   "cell_type": "code",
   "execution_count": null,
   "metadata": {},
   "outputs": [],
   "source": [
    "def operator_correlation(psi: mps.MPS, X: np.ndarray, Y: np.ndarray, i: int) -> list[float]:\n",
    "    out = []\n",
    "    # j = i\n",
    "    out.append(psi.site_expectation_value(X @ Y)[i])\n",
    "\n",
    "    left = psi.Ss[i]**2 # vC\n",
    "    left = np.tensordot(np.diag(left), psi.Bs[i], axes=[0, 0]) # [vC] vC*, [vC] i vR\n",
    "    left = np.tensordot(left, X, axes=[1, 0]) # vC* [i] vR, [i] i*\n",
    "    left = np.tensordot(left, psi.Bs[i].conj(), axes=[[0, 2], [0, 1]]) # [vC*] vR [i*], [vC*] [i*] vR*\n",
    "    # j > i\n",
    "    for j in range(i + 1, psi.L):\n",
    "        Bj = psi.Bs[j]\n",
    "        right = np.tensordot(Bj, Y, axes=[1, 0]) # vL [i] vR, [i] i*\n",
    "        right = np.tensordot(right, Bj.conj(), axes=[[1, 2], [2, 1]]) # vL [vR] [i*], vL* [i*] [vR*]\n",
    "        res = np.tensordot(left, right, axes=[[0, 1], [0, 1]]) # vR vR*, vL vL*\n",
    "        out.append(res)\n",
    "        left = np.tensordot(left, Bj, axes=[0, 0]) # [vR] vR*, [vL] i vR\n",
    "        left = np.tensordot(left, Bj.conj(), axes=[[0, 1], [0, 1]]) # [vR*] [i] vR, [vL*] [i*] vR*\n",
    "    return out"
   ]
  },
  {
   "cell_type": "code",
   "execution_count": null,
   "metadata": {},
   "outputs": [],
   "source": [
    "L = 100\n",
    "plt.figure()\n",
    "for g in tqdm.tqdm([0.5, 1.0, 1.1, 1.2, 1.5]):\n",
    "    psi, m = get_ground_state(L, 1, g)\n",
    "    plt.plot(operator_correlation(psi, m.sigmax, m.sigmax, L // 4), label=f\"{g = }\")\n",
    "plt.yscale(\"log\")\n",
    "plt.legend()\n",
    "plt.show()"
   ]
  },
  {
   "cell_type": "code",
   "execution_count": null,
   "metadata": {},
   "outputs": [],
   "source": [
    "L = 100\n",
    "plt.figure()\n",
    "for g in tqdm.tqdm([0.5, 1.0, 1.1, 1.2, 1.5]):\n",
    "    psi, m = get_ground_state(L, 1, g)\n",
    "    plt.plot(operator_correlation(psi, m.sigmax, m.sigmax, L // 4), label=f\"{g = }\")\n",
    "plt.yscale(\"log\")\n",
    "plt.legend()\n",
    "plt.show()"
   ]
  }
 ],
 "metadata": {
  "kernelspec": {
   "display_name": ".venv",
   "language": "python",
   "name": "python3"
  },
  "language_info": {
   "codemirror_mode": {
    "name": "ipython",
    "version": 3
   },
   "file_extension": ".py",
   "mimetype": "text/x-python",
   "name": "python",
   "nbconvert_exporter": "python",
   "pygments_lexer": "ipython3",
   "version": "3.10.11"
  }
 },
 "nbformat": 4,
 "nbformat_minor": 2
}
