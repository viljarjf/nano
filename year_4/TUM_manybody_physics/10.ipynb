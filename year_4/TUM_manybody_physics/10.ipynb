{
 "cells": [
  {
   "cell_type": "code",
   "execution_count": null,
   "metadata": {},
   "outputs": [],
   "source": [
    "%load_ext autoreload\n",
    "%autoreload 2\n",
    "\n",
    "import numpy as np\n",
    "from matplotlib import pyplot as plt\n",
    "from mps import a_mps as mps\n",
    "from mps import b_model as model\n",
    "from mps import d_dmrg as dmrg\n",
    "from mps import tfi_exact"
   ]
  },
  {
   "cell_type": "code",
   "execution_count": null,
   "metadata": {},
   "outputs": [],
   "source": [
    "L = 14\n",
    "J = 1\n",
    "g = 1.5\n",
    "psi = mps.init_spinup_MPS(L)\n",
    "m = model.TFIModel(L, J, g)\n",
    "engine = dmrg.DMRGEngine(psi, m)\n",
    "\n",
    "assert engine.psi is psi\n",
    "print(f\"{m.energy(psi) = }\")\n",
    "\n",
    "i = 0\n",
    "while not engine.converged():\n",
    "    engine.sweep()\n",
    "    i += 1\n",
    "\n",
    "print(f\"{i = }\")\n",
    "\n",
    "print(f\"{m.energy(psi) = }\")\n",
    "print(f\"{tfi_exact.finite_gs_energy(L, J, g) = }\")\n"
   ]
  },
  {
   "cell_type": "code",
   "execution_count": null,
   "metadata": {},
   "outputs": [],
   "source": [
    "def get_ground_state(L: int, J: float, g: float) -> tuple[mps.MPS, model.TFIModel]:\n",
    "    psi = mps.init_spinup_MPS(L)\n",
    "    m = model.TFIModel(L, J, g)\n",
    "    engine = dmrg.DMRGEngine(psi, m)\n",
    "\n",
    "    while not engine.converged():\n",
    "        engine.sweep()\n",
    "    \n",
    "    return psi, m"
   ]
  }
 ],
 "metadata": {
  "kernelspec": {
   "display_name": ".venv",
   "language": "python",
   "name": "python3"
  },
  "language_info": {
   "codemirror_mode": {
    "name": "ipython",
    "version": 3
   },
   "file_extension": ".py",
   "mimetype": "text/x-python",
   "name": "python",
   "nbconvert_exporter": "python",
   "pygments_lexer": "ipython3",
   "version": "3.10.11"
  }
 },
 "nbformat": 4,
 "nbformat_minor": 2
}
