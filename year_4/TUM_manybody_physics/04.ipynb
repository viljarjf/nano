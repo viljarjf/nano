{
 "cells": [
  {
   "attachments": {},
   "cell_type": "markdown",
   "metadata": {},
   "source": [
    "# Exercise 4: Exact diagonalization\n",
    "\n"
   ]
  },
  {
   "cell_type": "code",
   "execution_count": null,
   "metadata": {},
   "outputs": [],
   "source": [
    "%matplotlib inline\n",
    "import numpy as np\n",
    "from scipy import sparse as sp\n",
    "from matplotlib import pyplot as plt\n",
    "from tqdm import tqdm"
   ]
  },
  {
   "cell_type": "code",
   "execution_count": null,
   "metadata": {},
   "outputs": [],
   "source": [
    "Id = sp.eye(2, format=\"csr\")\n",
    "Sx = sp.csr_matrix(np.array([[0, 1], [1,  0]]))\n",
    "Sz = sp.csr_matrix(np.array([[1, 0], [0, -1]]))\n"
   ]
  },
  {
   "cell_type": "code",
   "execution_count": null,
   "metadata": {},
   "outputs": [],
   "source": [
    "from functools import reduce\n",
    "\n",
    "def _sigma(j: int, L: int, op: sp.spmatrix) -> sp.spmatrix:\n",
    "    return reduce(lambda A, B: sp.kron(A, B, format=\"csr\"), [Id if i != j else op for i in range(L)])\n",
    "\n",
    "def sigma_z_j(j: int, L: int) -> sp.spmatrix:\n",
    "    return _sigma(j, L, Sz)\n",
    "\n",
    "def sigma_x_j(j: int, L: int) -> sp.spmatrix:\n",
    "    return _sigma(j, L, Sx)\n",
    "\n",
    "def sigma_z(L: int) -> list[sp.spmatrix]:\n",
    "    return [sigma_z_j(j, L) for j in range(L)]\n",
    "\n",
    "def sigma_x(L: int) -> list[sp.spmatrix]:\n",
    "    return [sigma_x_j(j, L) for j in range(L)]"
   ]
  },
  {
   "cell_type": "code",
   "execution_count": null,
   "metadata": {},
   "outputs": [],
   "source": [
    "def gen_hamiltonian(sx: list[sp.spmatrix], sz: list[sp.spmatrix], g: float, J: float) -> sp.spmatrix:\n",
    "    H = -g * sum(sz)\n",
    "    for j in range(len(sx)):\n",
    "        H += -J * sx[j - 1] * sx[j]\n",
    "    return H\n",
    "\n",
    "def gen_hamiltonian_L(L: int, g: float, J: float) -> sp.spmatrix:\n",
    "    sx = sigma_x(L)\n",
    "    sz = sigma_z(L)\n",
    "    return gen_hamiltonian(sx=sx, sz=sz, g=g, J=J)"
   ]
  },
  {
   "cell_type": "code",
   "execution_count": null,
   "metadata": {},
   "outputs": [],
   "source": [
    "assert (\n",
    "    gen_hamiltonian_L(L=2, g=0.1, J=1).todense() \n",
    "    == \n",
    "    np.array([\n",
    "        [-0.2,  0. ,  0. , -2.  ,],\n",
    "        [ 0. ,  0. , -2. ,  0.  ,],\n",
    "        [ 0. , -2. ,  0. ,  0.  ,],\n",
    "        [-2. ,  0. ,  0. ,  0.2 ,],\n",
    "    ])).all()"
   ]
  },
  {
   "cell_type": "code",
   "execution_count": null,
   "metadata": {},
   "outputs": [],
   "source": [
    "def get_ground_state(H: sp.spmatrix) -> np.ndarray:\n",
    "    vals, vecs = sp.linalg.eigsh(H, k=1, which=\"SA\")\n",
    "    return vecs.reshape(-1)\n",
    "\n",
    "def get_ground_state_L(L: int, g: float, J: float) -> np.ndarray:\n",
    "    H = gen_hamiltonian_L(L=L, g=g, J=J)\n",
    "    return get_ground_state(H)"
   ]
  },
  {
   "cell_type": "code",
   "execution_count": null,
   "metadata": {},
   "outputs": [],
   "source": [
    "def largest_distance_spin_spin_correlation_L(L: int, g: float, J: float) -> float:\n",
    "    sx = sigma_x(L)\n",
    "    sz = sigma_z(L)\n",
    "    return largest_distance_spin_spin_correlation(sx=sx, sz=sz, g=g, J=J)\n",
    "\n",
    "def largest_distance_spin_spin_correlation(sx: list[sp.spmatrix], sz: list[sp.spmatrix], g: float, \n",
    "                                           J: float) -> float:\n",
    "    L = len(sx)\n",
    "    H = gen_hamiltonian(sx=sx, sz=sz, g=g, J=J)\n",
    "    psi0 = get_ground_state(H)\n",
    "    op = sx[1] @ sx[L//2]\n",
    "    return np.inner(psi0, op * psi0)"
   ]
  },
  {
   "cell_type": "code",
   "execution_count": null,
   "metadata": {},
   "outputs": [],
   "source": [
    "# Profiling\n",
    "# %prun largest_distance_spin_spin_correlation_L(10, 0.2, 1)\n",
    "\n",
    "# Turns out, sp.kron returns BSR format by default.\n",
    "# That is around 20x slower with L=10 than CSR\n"
   ]
  },
  {
   "cell_type": "code",
   "execution_count": null,
   "metadata": {},
   "outputs": [],
   "source": [
    "# Correlation plot\n",
    "J = 1\n",
    "plt.figure()\n",
    "gs = np.linspace(0, 2, 20)\n",
    "for L in [6, 8, 10, 12, 14, 16, 18]:\n",
    "    Cs = []\n",
    "    sx = sigma_x(L)\n",
    "    sz = sigma_z(L)\n",
    "    for g in tqdm(gs, desc=f\"{L = }\", total=gs.size):\n",
    "        C = largest_distance_spin_spin_correlation(sx=sx, sz=sz, g=g, J=J)\n",
    "        Cs.append(C)\n",
    "    plt.plot(gs, Cs, label=f\"{L = }\")\n",
    "plt.xlabel(\"g\")\n",
    "plt.ylabel(\"C\")\n",
    "plt.title(\"Largest-distance spin-spin correlation\")\n",
    "plt.legend()\n",
    "plt.show()"
   ]
  },
  {
   "cell_type": "code",
   "execution_count": null,
   "metadata": {},
   "outputs": [],
   "source": [
    "# Exited states vs g\n",
    "# With large g, the system will be in a more disordered state.\n",
    "# As such, the energy required to exite the system should be lower with larger g\n",
    "J = 1\n",
    "fig, (ax1, ax2) = plt.subplots(1, 2)\n",
    "gs = np.linspace(0, 2, 20)\n",
    "for L in [8, 10, 12, 14, 16]:\n",
    "    E1 = []\n",
    "    E2 = []\n",
    "    for g in tqdm(gs, desc=f\"{L = }\", total=gs.size):\n",
    "        H = gen_hamiltonian_L(L=L, g=g, J=J)\n",
    "        eigenenergies, _ = sp.linalg.eigsh(H, k=3, which=\"SA\")\n",
    "        E1.append(eigenenergies[1] - eigenenergies[0])\n",
    "        E2.append(eigenenergies[2] - eigenenergies[0])\n",
    "    ax1.plot(gs, E1, label=f\"{L = }\")\n",
    "    ax2.plot(gs, E2, label=f\"{L = }\")\n",
    "ax1.set_xlabel(\"g\")\n",
    "ax1.set_ylabel(\"E\")\n",
    "ax1.set_title(\"First exited state\")\n",
    "ax1.legend()\n",
    "ax2.set_xlabel(\"g\")\n",
    "ax2.set_ylabel(\"E\")\n",
    "ax2.set_title(\"Second exited state\")\n",
    "ax2.legend()\n",
    "fig.tight_layout()\n",
    "fig.show()"
   ]
  }
 ],
 "metadata": {
  "kernelspec": {
   "display_name": ".venv",
   "language": "python",
   "name": "python3"
  },
  "language_info": {
   "codemirror_mode": {
    "name": "ipython",
    "version": 3
   },
   "file_extension": ".py",
   "mimetype": "text/x-python",
   "name": "python",
   "nbconvert_exporter": "python",
   "pygments_lexer": "ipython3",
   "version": "3.10.11"
  }
 },
 "nbformat": 4,
 "nbformat_minor": 2
}
