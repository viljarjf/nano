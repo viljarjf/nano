{
 "cells": [
  {
   "attachments": {},
   "cell_type": "markdown",
   "metadata": {},
   "source": [
    "# Exercise 05\n"
   ]
  },
  {
   "cell_type": "code",
   "execution_count": null,
   "metadata": {},
   "outputs": [],
   "source": [
    "%matplotlib inline\n",
    "import numpy as np\n",
    "from scipy import sparse as sp\n",
    "import lanczos\n",
    "from matplotlib import pyplot as plt"
   ]
  },
  {
   "cell_type": "code",
   "execution_count": null,
   "metadata": {},
   "outputs": [],
   "source": [
    "L = 14\n",
    "g = 1.5\n",
    "H = lanczos.gen_hamiltonian_L(L, g)\n",
    "# iteration_psi_0 = np.random.choice([0, 1], size=H.shape[0], replace=True)\n",
    "iteration_psi_0 = np.random.random(H.shape[0])\n",
    "iteration_psi_0 /= np.linalg.norm(iteration_psi_0)"
   ]
  },
  {
   "cell_type": "code",
   "execution_count": null,
   "metadata": {},
   "outputs": [],
   "source": [
    "# since g != 1, we do NOT expect ground state degeneracy\n",
    "T, V = lanczos.lanczos(iteration_psi_0, H, N=200, stabilize=True)\n",
    "T_unstable, V_unstable = lanczos.lanczos(iteration_psi_0, H, N=200, stabilize=False)"
   ]
  },
  {
   "cell_type": "code",
   "execution_count": null,
   "metadata": {},
   "outputs": [],
   "source": [
    "# Check if V is orthonormal\n",
    "# normal\n",
    "assert np.allclose([np.linalg.norm(v) for v in V], 1)\n",
    "# orthogonal\n",
    "for i, Vi in enumerate(V):\n",
    "    for j in range(i):\n",
    "        assert abs(np.inner(Vi, V[j])) < 1e-13"
   ]
  },
  {
   "cell_type": "code",
   "execution_count": null,
   "metadata": {},
   "outputs": [],
   "source": [
    "eigvals = np.linalg.eigvalsh(T)\n",
    "unstable_eigvals = np.linalg.eigvalsh(T_unstable)\n",
    "sp_eigvals, _ = sp.linalg.eigsh(T, k=10, which=\"SA\")"
   ]
  },
  {
   "cell_type": "code",
   "execution_count": null,
   "metadata": {},
   "outputs": [],
   "source": [
    "def eigenval_hist(vals: np.ndarray, method: str = \"\"):\n",
    "    plt.figure()\n",
    "    plt.hist(vals, bins=np.unique(vals).size)\n",
    "    plt.xlabel(\"Eigenvalues\")\n",
    "    plt.ylabel(\"Count\")\n",
    "    plt.title(f\"Eigenvalue degeneracy {method}\")\n",
    "    plt.show()\n",
    "eigenval_hist(eigvals[:10], \"lanczos\")\n",
    "eigenval_hist(unstable_eigvals[:10], \"lanczos (unstable)\")\n",
    "eigenval_hist(sp_eigvals, \"scipy\")"
   ]
  },
  {
   "attachments": {},
   "cell_type": "markdown",
   "metadata": {},
   "source": [
    "As can be seen in the above plots, the \"stabilize\"-option removes the discrepancy between the scipy (arpack) implementation and the homemade lanczos implementation. With the \"stabilize\"-parameter set to \"True\", the algorithm ensures the vectors are orthogonal, whereas with the option disabled the vectors are only normalized. Hence, orthonormality is not fulfilled and ground state degeneracy might not be fulfilled either."
   ]
  },
  {
   "cell_type": "code",
   "execution_count": null,
   "metadata": {},
   "outputs": [],
   "source": [
    "E, u = np.linalg.eigh(T)\n",
    "u0 = u[:, 0]\n",
    "psi0 = np.array(V).T @ u0\n",
    "\n",
    "E0 = np.inner(psi0.conj(), H @ psi0)\n",
    "assert np.allclose(E0, E[0])\n",
    "\n",
    "psi0_var = np.inner(psi0.conj(), (H @ H) @ psi0) - np.inner(psi0.conj(), H @ psi0)**2\n",
    "assert np.allclose(psi0_var, 0)"
   ]
  },
  {
   "cell_type": "code",
   "execution_count": null,
   "metadata": {},
   "outputs": [],
   "source": [
    "Splus_list = [lanczos.singlesite_to_full(lanczos.Splus, i, L) for i in range(L)]"
   ]
  },
  {
   "cell_type": "code",
   "execution_count": null,
   "metadata": {},
   "outputs": [],
   "source": [
    "def get_x0(z: complex, T: np.ndarray) -> complex:\n",
    "    alpha = T.diagonal(0)\n",
    "    beta = T.diagonal(1)\n",
    "    N = T.shape[0]\n",
    "\n",
    "    def continued_fraction(i: int) -> float:\n",
    "        if i == N - 1:\n",
    "            return 1 / (z - alpha[i])\n",
    "        return 1 / (z - alpha[i] - beta[i]**2 * continued_fraction(i + 1))\n",
    "    return continued_fraction(0)"
   ]
  },
  {
   "cell_type": "code",
   "execution_count": null,
   "metadata": {},
   "outputs": [],
   "source": [
    "def get_I(O, z: complex | np.ndarray) -> complex | np.ndarray:\n",
    "    phi0 = O @ psi0\n",
    "    T, V = lanczos.lanczos(phi0, H, N=200, stabilize=True)\n",
    "\n",
    "    x0s = get_x0(z, T)\n",
    "    return -1 / np.pi * x0s.imag"
   ]
  },
  {
   "cell_type": "code",
   "execution_count": null,
   "metadata": {},
   "outputs": [],
   "source": [
    "omegas = np.linspace(-1, 10, 1000)\n",
    "epsilon = 0.1\n",
    "zs = omegas + E0 + 1j * epsilon\n",
    "I_Splus = get_I(Splus_list[0], zs)"
   ]
  },
  {
   "cell_type": "code",
   "execution_count": null,
   "metadata": {},
   "outputs": [],
   "source": [
    "plt.figure()\n",
    "plt.plot(omegas, I_Splus)\n",
    "plt.xlabel(\"omega\")\n",
    "plt.ylabel(\"I(z)\")\n",
    "plt.title(\"$O = S_0^+$\")\n",
    "plt.show()"
   ]
  },
  {
   "cell_type": "code",
   "execution_count": null,
   "metadata": {},
   "outputs": [],
   "source": [
    "def get_Skplus(k: float) -> sp.csr_matrix:\n",
    "    exp = np.exp(1j * k * np.arange(L))\n",
    "    return L**-0.5 * np.sum(exp * np.array(Splus_list))"
   ]
  },
  {
   "cell_type": "code",
   "execution_count": null,
   "metadata": {},
   "outputs": [],
   "source": [
    "ks = np.linspace(-L/2, L/2, L+1, endpoint=True) * 2*np.pi / L\n",
    "Is = []\n",
    "for k in ks:\n",
    "    Is.append(get_I(get_Skplus(k), zs))"
   ]
  },
  {
   "cell_type": "code",
   "execution_count": null,
   "metadata": {},
   "outputs": [],
   "source": [
    "plt.figure()\n",
    "lanczos.colorplot(ks, omegas, Is)\n",
    "plt.xlabel(\"k\")\n",
    "plt.ylabel(\"omega\")\n",
    "plt.title(\"I(Sk, omega)\")\n",
    "plt.show()"
   ]
  }
 ],
 "metadata": {
  "kernelspec": {
   "display_name": ".venv",
   "language": "python",
   "name": "python3"
  },
  "language_info": {
   "codemirror_mode": {
    "name": "ipython",
    "version": 3
   },
   "file_extension": ".py",
   "mimetype": "text/x-python",
   "name": "python",
   "nbconvert_exporter": "python",
   "pygments_lexer": "ipython3",
   "version": "3.10.11"
  }
 },
 "nbformat": 4,
 "nbformat_minor": 2
}
