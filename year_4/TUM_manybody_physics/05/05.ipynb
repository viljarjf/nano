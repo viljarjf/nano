{
 "cells": [
  {
   "attachments": {},
   "cell_type": "markdown",
   "metadata": {},
   "source": [
    "# Exercise 05\n"
   ]
  },
  {
   "cell_type": "code",
   "execution_count": null,
   "metadata": {},
   "outputs": [],
   "source": [
    "%matplotlib qt5\n",
    "import numpy as np\n",
    "from scipy import sparse as sp\n",
    "import lanczos\n",
    "from matplotlib import pyplot as plt"
   ]
  },
  {
   "cell_type": "code",
   "execution_count": null,
   "metadata": {},
   "outputs": [],
   "source": [
    "L = 14\n",
    "g = 1.5\n",
    "H = lanczos.gen_hamiltonian_L(L, g)\n",
    "# psi_0 = np.random.choice([0, 1], size=H.shape[0], replace=True)\n",
    "psi_0 = np.random.random(H.shape[0])\n",
    "psi_0 /= np.linalg.norm(psi_0)"
   ]
  },
  {
   "cell_type": "code",
   "execution_count": null,
   "metadata": {},
   "outputs": [],
   "source": [
    "# since g != 1, we do NOT expect ground state degeneracy\n",
    "T, V = lanczos.lanczos(psi_0, H, N=200, stabilize=True)\n",
    "T_unstable, V_unstable = lanczos.lanczos(psi_0, H, N=200, stabilize=False)"
   ]
  },
  {
   "cell_type": "code",
   "execution_count": null,
   "metadata": {},
   "outputs": [],
   "source": [
    "# Check if V is orthonormal\n",
    "# normal\n",
    "assert np.allclose([np.linalg.norm(v) for v in V], 1)\n",
    "# orthogonal\n",
    "for i, Vi in enumerate(V):\n",
    "    for j in range(i):\n",
    "        assert abs(np.inner(Vi, V[j])) < 1e-13"
   ]
  },
  {
   "cell_type": "code",
   "execution_count": null,
   "metadata": {},
   "outputs": [],
   "source": [
    "eigvals = np.linalg.eigvalsh(T)\n",
    "unstable_eigvals = np.linalg.eigvalsh(T_unstable)\n",
    "sp_eigvals, _ = sp.linalg.eigsh(T, k=10, which=\"SA\")"
   ]
  },
  {
   "cell_type": "code",
   "execution_count": null,
   "metadata": {},
   "outputs": [],
   "source": [
    "def eigenval_hist(vals: np.ndarray, method: str = \"\"):\n",
    "    plt.figure()\n",
    "    plt.hist(vals, bins=np.unique(vals).size)\n",
    "    plt.xlabel(\"Eigenvalues\")\n",
    "    plt.ylabel(\"Count\")\n",
    "    plt.title(f\"Eigenvalue degeneracy {method}\")\n",
    "    plt.show()\n",
    "eigenval_hist(eigvals[:10], \"lanczos\")\n",
    "eigenval_hist(unstable_eigvals[:10], \"lanczos (unstable)\")\n",
    "eigenval_hist(sp_eigvals, \"scipy\")"
   ]
  },
  {
   "attachments": {},
   "cell_type": "markdown",
   "metadata": {},
   "source": [
    "As can be seen in the above plots, the \"stabilize\"-option removes the discrepancy between the scipy (arpack) implementation and the homemade lanczos implementation. With the \"stabilize\"-parameter set to \"True\", the algorithm ensures the vectors are orthogonal, whereas with the option disabled the vectors are only normalized. Hence, orthonormality is not fulfilled and ground state degeneracy might not be fulfilled either."
   ]
  },
  {
   "cell_type": "code",
   "execution_count": null,
   "metadata": {},
   "outputs": [],
   "source": []
  }
 ],
 "metadata": {
  "kernelspec": {
   "display_name": ".venv",
   "language": "python",
   "name": "python3"
  },
  "language_info": {
   "codemirror_mode": {
    "name": "ipython",
    "version": 3
   },
   "file_extension": ".py",
   "mimetype": "text/x-python",
   "name": "python",
   "nbconvert_exporter": "python",
   "pygments_lexer": "ipython3",
   "version": "3.10.11"
  }
 },
 "nbformat": 4,
 "nbformat_minor": 2
}
