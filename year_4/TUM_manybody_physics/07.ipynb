{
 "cells": [
  {
   "cell_type": "code",
   "execution_count": null,
   "metadata": {},
   "outputs": [],
   "source": [
    "%load_ext autoreload\n",
    "%autoreload 2\n",
    "from scipy import sparse as sp\n",
    "from matplotlib import pyplot as plt\n",
    "import numpy as np\n",
    "\n",
    "import sys, os\n",
    "sys.path.append(os.getcwd() + \"/08\")\n",
    "import aklt\n"
   ]
  },
  {
   "cell_type": "code",
   "execution_count": null,
   "metadata": {},
   "outputs": [],
   "source": [
    "L = 14\n",
    "J = 1\n",
    "g = 1.5\n",
    "H = aklt.gen_hamiltonian(L=L, g=g, J=J, periodic_boundary=False)\n",
    "(E0,), psi_0 = sp.linalg.eigsh(H, k=1, which=\"SA\")\n",
    "psi_0 = psi_0.reshape(-1, 1)\n",
    "\n",
    "# It's already normalized\n",
    "assert np.allclose(np.dot(np.conj(psi_0).T, psi_0), 1)\n",
    "\n",
    "print(f\"{E0 = }\")"
   ]
  },
  {
   "cell_type": "code",
   "execution_count": null,
   "metadata": {},
   "outputs": [],
   "source": [
    "# Check if we can recreate the original state from MPS\n",
    "M = aklt.get_MPS_tensor(psi_0, L, 2**(L//2))\n",
    "print(f\"{M.shape = }\")\n",
    "assert np.allclose(M.ravel(), psi_0.ravel())\n",
    "del M"
   ]
  },
  {
   "cell_type": "code",
   "execution_count": null,
   "metadata": {},
   "outputs": [],
   "source": [
    "# Find maximum compression ratio\n",
    "# \"Lossless\" as defined by np.allclose\n",
    "# Man, do while would be nice right now\n",
    "def find_compression_ratio(psi: np.ndarray, L: int, chi_0: int = 20) -> None:\n",
    "    M = aklt.get_MPS_tensor(psi, L, 2**(L//2))\n",
    "    chi = chi_0\n",
    "    while np.allclose(M.ravel(), psi.ravel()):\n",
    "        chi -= 1\n",
    "        M = aklt.get_MPS_tensor(psi, L, chi)\n",
    "    \n",
    "    if chi == chi_0:\n",
    "        print(\"MPS representation did not correspond to original representation \"\n",
    "              f\"with {chi_0 = }.\")\n",
    "        return\n",
    "\n",
    "    # Found the first chi where we have compression losses\n",
    "    chi += 1\n",
    "    print(f\"{chi = }\")\n",
    "    Ms_full_size = sum([M.size for M in aklt.get_MPS_list(psi, L, 2**(L//2))])\n",
    "    Ms_comp_size = sum([M.size for M in aklt.get_MPS_list(psi, L, chi)])\n",
    "\n",
    "    compression_ratio = Ms_full_size / Ms_comp_size\n",
    "    print(f\"{compression_ratio = :.2f}\")"
   ]
  },
  {
   "cell_type": "code",
   "execution_count": null,
   "metadata": {},
   "outputs": [],
   "source": [
    "print(\"Ground state: \")\n",
    "find_compression_ratio(psi_0, L, 13)"
   ]
  },
  {
   "cell_type": "code",
   "execution_count": null,
   "metadata": {},
   "outputs": [],
   "source": [
    "print(\"Random state: \")\n",
    "psi_rnd = np.random.normal(size=(2**L)) + 1j * np.random.normal(size=(2**L))\n",
    "psi_rnd /= np.dot(np.conj(psi_rnd).T, psi_rnd)\n",
    "find_compression_ratio(psi_rnd, L, 2**(L//2))\n",
    "del psi_rnd"
   ]
  },
  {
   "cell_type": "code",
   "execution_count": null,
   "metadata": {},
   "outputs": [],
   "source": [
    "psi_exact = aklt.get_MPS_list(psi_0, L, 2**(L//2) + 1)\n",
    "psi_compr = aklt.get_MPS_list(psi_0, L, 10)"
   ]
  },
  {
   "cell_type": "code",
   "execution_count": null,
   "metadata": {},
   "outputs": [],
   "source": [
    "print(f\"{aklt.overlap(psi_exact, psi_exact) = }\")\n",
    "print(f\"{aklt.overlap(psi_compr, psi_compr) = }\")\n",
    "print(f\"{aklt.overlap(psi_exact, psi_compr) = }\")"
   ]
  },
  {
   "cell_type": "code",
   "execution_count": null,
   "metadata": {},
   "outputs": [],
   "source": [
    "psi_up = np.zeros(2**L, dtype=np.complex128)\n",
    "psi_up[0] = 1\n",
    "MPS_up = aklt.get_MPS_list(psi_up, L, 2**(L//2) + 1)\n",
    "\n",
    "print(f\"{aklt.overlap(psi_exact, MPS_up) = :.3f}\")"
   ]
  },
  {
   "cell_type": "code",
   "execution_count": null,
   "metadata": {},
   "outputs": [],
   "source": [
    "print(\"GHZ state, we expect chi = 2\")\n",
    "GHZ = np.zeros(2**L, dtype=np.complex128)\n",
    "GHZ[0] = 2**-0.5 + 0j\n",
    "GHZ[-1] = 2**-0.5 + 0j\n",
    "find_compression_ratio(GHZ, L, 5)"
   ]
  }
 ],
 "metadata": {
  "kernelspec": {
   "display_name": ".venv",
   "language": "python",
   "name": "python3"
  },
  "language_info": {
   "codemirror_mode": {
    "name": "ipython",
    "version": 3
   },
   "file_extension": ".py",
   "mimetype": "text/x-python",
   "name": "python",
   "nbconvert_exporter": "python",
   "pygments_lexer": "ipython3",
   "version": "3.10.11"
  }
 },
 "nbformat": 4,
 "nbformat_minor": 2
}
