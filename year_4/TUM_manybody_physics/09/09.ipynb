{
 "cells": [
  {
   "cell_type": "code",
   "execution_count": null,
   "metadata": {},
   "outputs": [],
   "source": [
    "%load_ext autoreload\n",
    "%autoreload 2\n",
    "\n",
    "import numpy as np\n",
    "from matplotlib import pyplot as plt\n",
    "import a_mps, b_model, c_tebd, tfi_exact"
   ]
  },
  {
   "cell_type": "code",
   "execution_count": null,
   "metadata": {},
   "outputs": [],
   "source": [
    "L = 14\n",
    "J = 1.0\n",
    "g = 1.5\n",
    "up = a_mps.init_spinup_MPS(L)\n",
    "m = b_model.TFIModel(L=L, J=J , g=g)\n",
    "print(f\"sigma z: {up.site_expectation_value(m.sigmaz)}\")\n",
    "print(f\"sigma x: {up.site_expectation_value(m.sigmax)}\")"
   ]
  },
  {
   "cell_type": "code",
   "execution_count": null,
   "metadata": {},
   "outputs": [],
   "source": [
    "right = a_mps.init_spinright_MPS(L)\n",
    "print(f\"sigma z: {right.site_expectation_value(m.sigmaz)}\")\n",
    "print(f\"sigma x: {right.site_expectation_value(m.sigmax)}\")"
   ]
  },
  {
   "cell_type": "code",
   "execution_count": null,
   "metadata": {},
   "outputs": [],
   "source": [
    "L = 14\n",
    "J = 1\n",
    "gs = [0.5, 1.0, 1.5]\n",
    "up = a_mps.init_spinup_MPS(L)\n",
    "right = a_mps.init_spinright_MPS(L)\n",
    "\n",
    "for g in gs:\n",
    "    m = b_model.TFIModel(L=L, J=J, g=g)\n",
    "    print(f\"{g = :.1f}: {m.energy(up) = :.2f}\")\n",
    "    print(f\"{g = :.1f}: {m.energy(right) = :.2f}\")"
   ]
  },
  {
   "cell_type": "code",
   "execution_count": null,
   "metadata": {},
   "outputs": [],
   "source": [
    "%run c_tebd"
   ]
  },
  {
   "cell_type": "code",
   "execution_count": null,
   "metadata": {},
   "outputs": [],
   "source": [
    "def global_quench(L: int, dt: float, chi_max: int, eps: float) -> tuple[list[float], list[float], list[float]]:\n",
    "    \"\"\"Real time evoulution. returns (time, magnetization, entropy)\"\"\"\n",
    "    J = 1.0\n",
    "    g = 1.5\n",
    "    N_steps = round(10*J / dt)\n",
    "    m = b_model.TFIModel(L=L, J=J, g=g)\n",
    "    up = a_mps.init_spinup_MPS(L)\n",
    "    bonds = c_tebd.calc_U_bonds(m, 1j * dt)\n",
    "    def calc_M(mps):\n",
    "        return sum(mps.site_expectation_value(m.sigmaz))\n",
    "    def calc_S(mps):\n",
    "        return mps.entanglement_entropy()[L//2]\n",
    "    ts = [0]\n",
    "    Ms = [calc_M(up)]\n",
    "    Ss = [calc_S(up)]\n",
    "    for state in c_tebd.iterate_TEBD(up, bonds, N_steps, chi_max, eps):\n",
    "        ts.append(ts[-1] + dt)\n",
    "        Ms.append(sum(state.site_expectation_value(m.sigmaz)))\n",
    "        Ss.append(state.entanglement_entropy()[L//2])\n",
    "    return ts, Ms, Ss\n"
   ]
  },
  {
   "cell_type": "code",
   "execution_count": null,
   "metadata": {},
   "outputs": [],
   "source": [
    "dts = np.logspace(-1, -4, 4)\n",
    "default_dt = 1e-1\n",
    "chis = [10, 15, 20, 30, 50]\n",
    "default_chi = 30\n",
    "Ls = [14, 50]\n",
    "results: dict[tuple[int, float, float], tuple[list[float], list[float], list[float]]] = {}\n",
    "for L in Ls:\n",
    "    for chi in chis:\n",
    "        results[L, chi, default_dt] = global_quench(L=L, chi_max=chi, dt=default_dt, eps=1e-10)\n",
    "    for dt in dts:\n",
    "        results[L, default_chi, dt] = global_quench(L=L, chi_max=default_chi, dt=dt, eps=1e-10)"
   ]
  },
  {
   "cell_type": "code",
   "execution_count": null,
   "metadata": {},
   "outputs": [],
   "source": [
    "plt.figure()\n",
    "\n",
    "plt.subplot(2, 2, 1)\n",
    "L = Ls[0]\n",
    "dt = default_dt\n",
    "for chi in chis:\n",
    "    t, M, S = results[(L, chi, dt)]\n",
    "    plt.plot(t, M, label=f\"{chi = }\")\n",
    "plt.title(f\"{L = }\")\n",
    "\n",
    "plt.subplot(2, 2, 2)\n",
    "L = Ls[1]\n",
    "dt = default_dt\n",
    "for chi in chis:\n",
    "    t, M, S = results[(L, chi, dt)]\n",
    "    plt.plot(t, M, label=f\"{chi = }\")\n",
    "plt.title(f\"{L = }\")\n",
    "\n",
    "plt.subplot(2, 2, 3)\n",
    "L = Ls[0]\n",
    "chi = default_chi\n",
    "for dt in dts:\n",
    "    t, M, S = results[(L, chi, dt)]\n",
    "    plt.plot(t, M, label=f\"{dt = }\")\n",
    "plt.title(f\"{L = }\")\n",
    "\n",
    "plt.subplot(2, 2, 4)\n",
    "L = Ls[1]\n",
    "chi = default_chi\n",
    "for dt in dts:\n",
    "    t, M, S = results[(L, chi, dt)]\n",
    "    plt.plot(t, M, label=f\"{dt = }\")\n",
    "plt.title(f\"{L = }\")\n",
    "\n",
    "plt.show()"
   ]
  }
 ],
 "metadata": {
  "kernelspec": {
   "display_name": ".venv",
   "language": "python",
   "name": "python3"
  },
  "language_info": {
   "codemirror_mode": {
    "name": "ipython",
    "version": 3
   },
   "file_extension": ".py",
   "mimetype": "text/x-python",
   "name": "python",
   "nbconvert_exporter": "python",
   "pygments_lexer": "ipython3",
   "version": "3.10.11"
  }
 },
 "nbformat": 4,
 "nbformat_minor": 2
}
