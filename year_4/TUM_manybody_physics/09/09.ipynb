{
 "cells": [
  {
   "cell_type": "code",
   "execution_count": null,
   "metadata": {},
   "outputs": [],
   "source": [
    "%load_ext autoreload\n",
    "%autoreload 2\n",
    "\n",
    "import numpy as np\n",
    "from matplotlib import pyplot as plt\n",
    "import a_mps, b_model, c_tebd, tfi_exact"
   ]
  },
  {
   "cell_type": "code",
   "execution_count": null,
   "metadata": {},
   "outputs": [],
   "source": [
    "L = 14\n",
    "J = 1.0\n",
    "g = 1.5\n",
    "up = a_mps.init_spinup_MPS(L)\n",
    "m = b_model.TFIModel(L=L, J=J , g=g)\n",
    "print(f\"sigma z: {up.site_expectation_value(m.sigmaz)}\")\n",
    "print(f\"sigma x: {up.site_expectation_value(m.sigmax)}\")"
   ]
  },
  {
   "cell_type": "code",
   "execution_count": null,
   "metadata": {},
   "outputs": [],
   "source": [
    "right = a_mps.init_spinright_MPS(L)\n",
    "print(f\"sigma z: {right.site_expectation_value(m.sigmaz)}\")\n",
    "print(f\"sigma x: {right.site_expectation_value(m.sigmax)}\")"
   ]
  },
  {
   "cell_type": "code",
   "execution_count": null,
   "metadata": {},
   "outputs": [],
   "source": [
    "L = 14\n",
    "J = 1\n",
    "gs = [0.5, 1.0, 1.5]\n",
    "up = a_mps.init_spinup_MPS(L)\n",
    "right = a_mps.init_spinright_MPS(L)\n",
    "\n",
    "for g in gs:\n",
    "    m = b_model.TFIModel(L=L, J=J, g=g)\n",
    "    print(f\"{g = :.1f}: {m.energy(up) = :.2e}\")\n",
    "    print(f\"{g = :.1f}: {m.energy(right) = :.2e}\")"
   ]
  }
 ],
 "metadata": {
  "kernelspec": {
   "display_name": ".venv",
   "language": "python",
   "name": "python3"
  },
  "language_info": {
   "codemirror_mode": {
    "name": "ipython",
    "version": 3
   },
   "file_extension": ".py",
   "mimetype": "text/x-python",
   "name": "python",
   "nbconvert_exporter": "python",
   "pygments_lexer": "ipython3",
   "version": "3.10.11"
  }
 },
 "nbformat": 4,
 "nbformat_minor": 2
}
