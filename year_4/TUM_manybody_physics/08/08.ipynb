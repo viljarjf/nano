{
 "cells": [
  {
   "cell_type": "code",
   "execution_count": null,
   "metadata": {},
   "outputs": [],
   "source": [
    "%load_ext autoreload\n",
    "%autoreload 2\n",
    "from scipy import sparse as sp\n",
    "from matplotlib import pyplot as plt\n",
    "import numpy as np\n",
    "import aklt\n",
    "from functools import reduce\n",
    "\n",
    "sigma_z = aklt.Sz.todense()\n",
    "\n",
    "UP = 1\n",
    "DOWN = 0"
   ]
  },
  {
   "cell_type": "code",
   "execution_count": null,
   "metadata": {},
   "outputs": [],
   "source": [
    "def get_ground_state_array(L: int) -> np.ndarray:\n",
    "    ud = np.zeros(4)\n",
    "    du = np.zeros(4)\n",
    "    ud[int(f\"{UP}{DOWN}\", base=2)] = 1\n",
    "    du[int(f\"{DOWN}{UP}\", base=2)] = 1\n",
    "    u = np.zeros(2)\n",
    "    u[UP] = 1\n",
    "    singlesite = (ud - du) / np.sqrt(2)\n",
    "    mat = reduce(sp.kron, [u] + [singlesite]*((L-2)//2) + [u])\n",
    "    return np.asarray(mat.todense()).ravel()\n",
    "\n",
    "def get_ground_state_MPS(L: int) -> list[np.ndarray]:\n",
    "    M_o_u = np.array([2**-0.5, 0]).reshape(1, -1)\n",
    "    M_o_d = np.array([0, -2**-0.5]).reshape(1, -1)\n",
    "    M_e_u = np.array([0, 1]).reshape(-1, 1)\n",
    "    M_e_d = np.array([1, 0]).reshape(-1, 1)\n",
    "    \n",
    "    M_o = np.array([M_o_u, M_o_d]).swapaxes(0, 1)\n",
    "    M_e = np.array([M_e_u, M_e_d])\n",
    "\n",
    "    edge = np.zeros((1, 2, 1))\n",
    "    edge[:, UP, :] = 1\n",
    "\n",
    "    return [edge] + [M_o, M_e] * ((L-2)//2) + [edge]\n"
   ]
  },
  {
   "cell_type": "code",
   "execution_count": null,
   "metadata": {},
   "outputs": [],
   "source": [
    "# Convince myself that the given MPS format is the same as the product of singlet states\n",
    "L = 8\n",
    "Ms = get_ground_state_MPS(L)\n",
    "# print(*(M.shape for M in Ms))\n",
    "MSt = aklt.MPS_list_to_tensor(Ms)\n",
    "psi = get_ground_state_array(L)\n",
    "\n",
    "# We pick up a minus somewhere ig\n",
    "assert np.allclose(-MSt.ravel(), psi)\n",
    "del L, Ms, psi"
   ]
  },
  {
   "cell_type": "code",
   "execution_count": null,
   "metadata": {},
   "outputs": [],
   "source": [
    "Ms = get_ground_state_MPS(12)\n",
    "# aklt.apply_op_at_site(Ms, sigma_z, 1, copy=False)\n",
    "sij = aklt.operator_correlation(Ms, sigma_z)\n",
    "\n",
    "plt.figure()\n",
    "plt.imshow(sij)\n",
    "plt.colorbar()\n",
    "plt.show()"
   ]
  },
  {
   "cell_type": "code",
   "execution_count": null,
   "metadata": {},
   "outputs": [],
   "source": [
    "S_OP = np.zeros((2, 3, 2))\n",
    "S_OP[UP, 0, UP] = 1\n",
    "S_OP[UP, 1, DOWN] = 1 / np.sqrt(2)\n",
    "S_OP[DOWN, 1, UP] = 1 / np.sqrt(2)\n",
    "S_OP[DOWN, 2, DOWN] = 1\n",
    "\n",
    "def s1_projector(MPS_L: np.ndarray, MPS_R: np.ndarray) -> np.ndarray:\n",
    "    singlet = np.tensordot(MPS_L, MPS_R, axes=(-1,0))\n",
    "    return np.tensordot(S_OP, singlet, axes=((0, -1), (1, 2))).swapaxes(0, 1)"
   ]
  },
  {
   "cell_type": "code",
   "execution_count": null,
   "metadata": {},
   "outputs": [],
   "source": [
    "L = 50\n",
    "Ms = get_ground_state_MPS(L)\n",
    "S = [s1_projector(Ms[i], Ms[i + 1]) for i in range(0, L, 2)]\n",
    "\n",
    "print(f\"Before normalisation: {aklt.overlap(S, S) = :.3e}\")\n",
    "\n",
    "# I don't understand why this is correct. Stolen from solution\n",
    "for i in range(len(S)):\n",
    "    S[i] *= np.sqrt(4/3)\n",
    "\n",
    "print(f\"After normalisation : {aklt.overlap(S, S) = :.3e}\")\n"
   ]
  },
  {
   "cell_type": "code",
   "execution_count": null,
   "metadata": {},
   "outputs": [],
   "source": [
    "# From https://en.wikipedia.org/wiki/3D_rotation_group#A_note_on_Lie_algebras \n",
    "# we get the spin operator for S=1:\n",
    "S1z = np.diag([1, 0, -1])"
   ]
  },
  {
   "cell_type": "code",
   "execution_count": null,
   "metadata": {},
   "outputs": [],
   "source": [
    "sij = aklt.operator_correlation(S, S1z)\n",
    "\n",
    "plt.figure()\n",
    "plt.imshow(sij)\n",
    "plt.colorbar()\n",
    "plt.show()"
   ]
  },
  {
   "cell_type": "code",
   "execution_count": null,
   "metadata": {},
   "outputs": [],
   "source": [
    "\n",
    "# Ugly plot code, please ignore\n",
    "hist1 = {}\n",
    "for i in range(len(S)):\n",
    "    for j in range(len(S)):\n",
    "        d = abs(i - j)\n",
    "        if hist1.get(d) is None:\n",
    "            hist1[d] = []\n",
    "        hist1[d].append(sij[i, j])\n",
    "\n",
    "hist12 = {}\n",
    "sij = aklt.operator_correlation(Ms, sigma_z)\n",
    "for i in range(L//2):\n",
    "    for j in range(L//2):\n",
    "        d = abs(i - j)\n",
    "        if hist12.get(d) is None:\n",
    "            hist12[d] = []\n",
    "        hist12[d].append(sij[i, j])\n",
    "\n",
    "plt.figure()\n",
    "plt.title(\"$\\\\left<S^z_i S^z_j\\\\right>$ for the AKLT ground state\")\n",
    "plt.scatter(hist12.keys(), [max(np.abs(vals)) for vals in hist12.values()], label=\"spin-1/2\")\n",
    "plt.scatter(hist1.keys(), [max(np.abs(vals)) for vals in hist1.values()], label=\"spin-1\")\n",
    "plt.legend()\n",
    "plt.xlabel(\"$|i - j|$\")\n",
    "\n",
    "plt.show()"
   ]
  }
 ],
 "metadata": {
  "kernelspec": {
   "display_name": ".venv",
   "language": "python",
   "name": "python3"
  },
  "language_info": {
   "codemirror_mode": {
    "name": "ipython",
    "version": 3
   },
   "file_extension": ".py",
   "mimetype": "text/x-python",
   "name": "python",
   "nbconvert_exporter": "python",
   "pygments_lexer": "ipython3",
   "version": "3.10.11"
  }
 },
 "nbformat": 4,
 "nbformat_minor": 2
}
