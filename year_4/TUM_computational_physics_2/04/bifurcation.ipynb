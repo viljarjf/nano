{
 "cells": [
  {
   "cell_type": "code",
   "execution_count": null,
   "metadata": {},
   "outputs": [],
   "source": [
    "import numpy as np\n",
    "import numba\n",
    "from matplotlib import pyplot as plt"
   ]
  },
  {
   "cell_type": "code",
   "execution_count": null,
   "metadata": {},
   "outputs": [],
   "source": [
    "from typing import Iterator\n",
    "\n",
    "def logistic_map_iterator(x0: float, mu: float) -> Iterator[float]:\n",
    "    xi = x0\n",
    "    while True:\n",
    "        xi = mu*(1 - xi)\n",
    "        yield xi\n",
    "\n",
    "@numba.njit\n",
    "def logistic_map(x0: float, mu: float, i: int) -> float:\n",
    "    xi = x0\n",
    "    for _ in range(i):\n",
    "        xi = mu*xi*(1 - xi)\n",
    "    return xi"
   ]
  },
  {
   "cell_type": "code",
   "execution_count": null,
   "metadata": {},
   "outputs": [],
   "source": [
    "@numba.jit(nopython=True, parallel=True)\n",
    "def bifurcation_diagram(mu_min: float, mu_max: float, mu_num: int, \n",
    "                        xn_num: int, equilibrium_iterations: int = 200) -> tuple[np.ndarray, np.ndarray]:\n",
    "    \"\"\"\n",
    "    return mu, xn\n",
    "\n",
    "    xn.shape = (mu_num, xm_num)\n",
    "    \"\"\"\n",
    "    mus = np.linspace(mu_min, mu_max, mu_num)\n",
    "    xns = np.empty((mu_num, xn_num), dtype=np.float64)\n",
    "    # also, what is code readability? Sounds boring\n",
    "    for i, mu in enumerate(mus):\n",
    "        x0s = np.random.random(xn_num)\n",
    "        for xni in numba.prange(xn_num):\n",
    "            xns[i, xni] = logistic_map(x0s[xni], mu, equilibrium_iterations)\n",
    "    return mus, xns"
   ]
  },
  {
   "cell_type": "code",
   "execution_count": null,
   "metadata": {},
   "outputs": [],
   "source": [
    "# Test execution speeds\n",
    "num_xn = 200\n",
    "mu, xns = bifurcation_diagram(1, 4, 1000, num_xn) \n",
    "# 14.6 s   no jit\n",
    "#  3.8 s   jit + compile\n",
    "#  0.1 s   jit"
   ]
  },
  {
   "cell_type": "code",
   "execution_count": null,
   "metadata": {},
   "outputs": [],
   "source": [
    "num_xn = 20\n",
    "mu, xns = bifurcation_diagram(1, 4, 100, num_xn)\n",
    "\n",
    "%matplotlib qt5\n",
    "plt.figure()\n",
    "plt.scatter(np.column_stack([mu]*num_xn), xns, s=5)\n",
    "plt.xlabel(\"$\\\\mu$\")\n",
    "plt.ylabel(\"$x_n$\")\n",
    "plt.title(\"$x_i = \\\\mu x_{i-1}\\\\left(1-x_{i-1}\\\\right)$; \"\n",
    "          \"$x_0 \\\\in \\\\left[0, 1\\\\right]$\\n\"\n",
    "           f\"{num_xn} random $x_0$ per $\\\\mu$\")\n",
    "plt.show()"
   ]
  }
 ],
 "metadata": {
  "kernelspec": {
   "display_name": ".venv",
   "language": "python",
   "name": "python3"
  },
  "language_info": {
   "codemirror_mode": {
    "name": "ipython",
    "version": 3
   },
   "file_extension": ".py",
   "mimetype": "text/x-python",
   "name": "python",
   "nbconvert_exporter": "python",
   "pygments_lexer": "ipython3",
   "version": "3.10.11"
  }
 },
 "nbformat": 4,
 "nbformat_minor": 2
}
