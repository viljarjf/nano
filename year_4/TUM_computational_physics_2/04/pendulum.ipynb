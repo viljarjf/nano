{
 "cells": [
  {
   "cell_type": "code",
   "execution_count": null,
   "metadata": {},
   "outputs": [],
   "source": [
    "import numpy as np\n",
    "import numba\n",
    "from matplotlib import pyplot as plt\n",
    "from scipy.integrate import solve_ivp"
   ]
  },
  {
   "cell_type": "markdown",
   "metadata": {},
   "source": [
    "# $\\frac{d^2\\theta}{dt^2} = -\\omega_0^2\\sin\\theta -\\alpha\\frac{d\\theta}{dt} + f\\cos\\omega t$"
   ]
  },
  {
   "cell_type": "code",
   "execution_count": null,
   "metadata": {},
   "outputs": [],
   "source": [
    "from typing import Callable\n",
    "\n",
    "\n",
    "def make_pendulum_ode_func(\n",
    "    omega_0: float, alpha: float, f: float, omega: float\n",
    ") -> Callable[[float, np.ndarray], np.ndarray]:\n",
    "    def ode_func(t: float, x: np.ndarray) -> np.ndarray:\n",
    "        theta, dtheta = x\n",
    "\n",
    "        d2theta = (\n",
    "            -(omega_0**2) * np.sin(theta) - alpha * dtheta + f * np.cos(omega * t)\n",
    "        )\n",
    "\n",
    "        return np.array([dtheta, d2theta])\n",
    "\n",
    "    return ode_func"
   ]
  },
  {
   "cell_type": "code",
   "execution_count": null,
   "metadata": {},
   "outputs": [],
   "source": [
    "def solve_pendulum(\n",
    "    t: np.ndarray,\n",
    "    y0: np.ndarray,\n",
    "    omega_0: float,\n",
    "    alpha: float,\n",
    "    f: float,\n",
    "    omega: float = np.pi,\n",
    ") -> tuple[np.ndarray, np.ndarray]:\n",
    "    \"\"\"[theta, dtheta]\"\"\"\n",
    "    pendulum = make_pendulum_ode_func(omega_0, alpha, f, omega)\n",
    "\n",
    "    t_min = 0\n",
    "    t_max = np.max(t)\n",
    "\n",
    "    sol = solve_ivp(pendulum, [t_min, t_max], y0, t_eval=t)\n",
    "\n",
    "    theta = sol.y[0, :]\n",
    "    dtheta = sol.y[1, :]\n",
    "\n",
    "    return theta, dtheta"
   ]
  },
  {
   "cell_type": "code",
   "execution_count": null,
   "metadata": {},
   "outputs": [],
   "source": [
    "t = np.linspace(0, 10, 100)\n",
    "theta_0 = 0.1\n",
    "dtheta_0 = 0.05\n",
    "y0 = np.array([theta_0, dtheta_0])\n",
    "theta, dtheta = solve_pendulum(t, y0, 1, 0, 0)"
   ]
  },
  {
   "cell_type": "code",
   "execution_count": null,
   "metadata": {},
   "outputs": [],
   "source": [
    "plt.figure()\n",
    "\n",
    "plt.subplot(1, 2, 1)\n",
    "plt.plot(t, theta)\n",
    "plt.xlabel(\"t\")\n",
    "plt.ylabel(\"$\\\\theta$\")\n",
    "plt.title(\"Time evolution\")\n",
    "\n",
    "plt.subplot(1, 2, 2)\n",
    "plt.plot(theta, dtheta)\n",
    "plt.xlabel(\"$\\\\theta$\")\n",
    "plt.ylabel(\"$d\\\\theta$\")\n",
    "plt.title(\"Phase space\")\n",
    "\n",
    "plt.tight_layout()\n",
    "plt.show()"
   ]
  },
  {
   "cell_type": "code",
   "execution_count": null,
   "metadata": {},
   "outputs": [],
   "source": [
    "def plot_with_random_y0(omega_0, alpha, f, omega = np.pi):\n",
    "    plt.figure()\n",
    "    t = np.linspace(0, 10, 40)\n",
    "    for _ in range(30):\n",
    "        theta_0 = np.random.uniform(-2*np.pi, 2*np.pi)\n",
    "        dtheta_0 = np.random.uniform(-np.pi, np.pi)\n",
    "        y0 = np.array([theta_0, dtheta_0])\n",
    "        theta, dtheta = solve_pendulum(t, y0, omega_0, alpha, f)\n",
    "        plt.scatter(theta, dtheta, c=\"tab:blue\")\n",
    "    plt.title(f\"{omega_0 = }, {alpha = }, {f = }\")\n",
    "    plt.show()"
   ]
  },
  {
   "cell_type": "code",
   "execution_count": null,
   "metadata": {},
   "outputs": [],
   "source": [
    "plot_with_random_y0(1, 0, 0)"
   ]
  },
  {
   "cell_type": "code",
   "execution_count": null,
   "metadata": {},
   "outputs": [],
   "source": [
    "plot_with_random_y0(1, 0.1, 0)\n",
    "# Ooh, spirals!"
   ]
  },
  {
   "cell_type": "code",
   "execution_count": null,
   "metadata": {},
   "outputs": [],
   "source": [
    "plot_with_random_y0(1, 0.1, 0.5, 2)"
   ]
  },
  {
   "cell_type": "code",
   "execution_count": null,
   "metadata": {},
   "outputs": [],
   "source": [
    "# overwrite the old one with the sin-dependent perturbation\n",
    "def make_pendulum_ode_func(\n",
    "    omega_0: float, alpha: float, f: float, omega: float\n",
    ") -> Callable[[float, np.ndarray], np.ndarray]:\n",
    "    def ode_func(t: float, x: np.ndarray) -> np.ndarray:\n",
    "        theta, dtheta = x\n",
    "\n",
    "        d2theta = (\n",
    "            (- omega_0**2 + f * np.cos(omega * t)) * np.sin(theta) - alpha * dtheta \n",
    "        )\n",
    "\n",
    "        return np.array([dtheta, d2theta])\n",
    "\n",
    "    return ode_func"
   ]
  },
  {
   "cell_type": "code",
   "execution_count": null,
   "metadata": {},
   "outputs": [],
   "source": [
    "t = np.linspace(100, 110, 100)\n",
    "t[0] = 0\n",
    "\n",
    "theta_0 = np.random.uniform(-2*np.pi, 2*np.pi)\n",
    "dtheta_0 = np.random.uniform(-np.pi, np.pi)\n",
    "y0 = np.array([theta_0, dtheta_0])\n",
    "\n",
    "fs = np.linspace(0, 2, 20)\n",
    "\n",
    "dtheta_at_theta_0 = []\n",
    "\n",
    "for f in fs:\n",
    "    theta, dtheta = solve_pendulum(t, y0, 1, 0, 0)\n"
   ]
  }
 ],
 "metadata": {
  "kernelspec": {
   "display_name": ".venv",
   "language": "python",
   "name": "python3"
  },
  "language_info": {
   "codemirror_mode": {
    "name": "ipython",
    "version": 3
   },
   "file_extension": ".py",
   "mimetype": "text/x-python",
   "name": "python",
   "nbconvert_exporter": "python",
   "pygments_lexer": "ipython3",
   "version": "3.10.11"
  }
 },
 "nbformat": 4,
 "nbformat_minor": 2
}
