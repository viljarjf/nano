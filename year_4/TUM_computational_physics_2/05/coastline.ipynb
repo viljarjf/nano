{
 "cells": [
  {
   "cell_type": "code",
   "execution_count": null,
   "metadata": {},
   "outputs": [],
   "source": [
    "import numpy as np\n",
    "from box_count import rasterize, box_fraction\n",
    "from matplotlib import pyplot as plt"
   ]
  },
  {
   "cell_type": "code",
   "execution_count": null,
   "metadata": {},
   "outputs": [],
   "source": [
    "import os\n",
    "from pathlib import Path\n",
    "from PIL import Image\n",
    "\n",
    "cwd = Path(os.getcwd())\n",
    "britan_coastline = np.array(Image.open(cwd / \"britan_coastline.bmp\"))[::-1, :]\n",
    "britan_coastline ^= True\n",
    "\n",
    "plt.figure()\n",
    "plt.imshow(britan_coastline)\n",
    "plt.show()"
   ]
  },
  {
   "cell_type": "code",
   "execution_count": null,
   "metadata": {},
   "outputs": [],
   "source": [
    "britan_points = []\n",
    "Ny, Nx = britan_coastline.shape\n",
    "for i in range(Ny):\n",
    "    for j in range(Nx):\n",
    "        if britan_coastline[i, j]:\n",
    "            britan_points.append((i / Ny, j / Nx))\n",
    "britan_points = np.array(britan_points).swapaxes(0, 1)"
   ]
  },
  {
   "cell_type": "code",
   "execution_count": null,
   "metadata": {},
   "outputs": [],
   "source": [
    "plt.figure()\n",
    "plt.subplot(1,2,1)\n",
    "plt.scatter(britan_points[1, :], britan_points[0, :])\n",
    "plt.axis(\"off\")\n",
    "plt.subplot(1,2,2)\n",
    "plt.imshow(britan_coastline, origin=\"lower\")\n",
    "plt.axis(\"off\")\n",
    "plt.show()"
   ]
  },
  {
   "cell_type": "code",
   "execution_count": null,
   "metadata": {},
   "outputs": [],
   "source": [
    "d = []\n",
    "boxes = np.logspace(4, 9, 30, endpoint=True, base=2, dtype=np.int64)\n",
    "\n",
    "for boxcount in boxes:\n",
    "    d.append(box_fraction(britan_points, boxcount))\n",
    "\n",
    "slope = np.polyfit(np.log2(boxes), np.log2(d), deg=1)\n",
    "slope = slope[0]\n",
    "\n",
    "plt.figure()\n",
    "plt.loglog(boxes, d)\n",
    "plt.xlabel(\"Boxcount\")\n",
    "plt.ylabel(\"Box population fraction\")\n",
    "plt.legend([f\"{slope = :.2f} => dim = {2 + slope :.2f}\"])\n",
    "plt.show()"
   ]
  },
  {
   "cell_type": "code",
   "execution_count": null,
   "metadata": {},
   "outputs": [],
   "source": [
    "britan_coastline.shape[1]"
   ]
  },
  {
   "cell_type": "code",
   "execution_count": null,
   "metadata": {},
   "outputs": [],
   "source": [
    "# Download the N1000 raster, Cell 1, from geonorge: \n",
    "# https://kartkatalog.geonorge.no/metadata/n1000-raster/6a21de44-5a66-49b3-89e9-88c8bd0b948f.\n",
    "# Rename the .tif-file to \"norway_coastline.tif\" and place here\n",
    "# I removed it from git since it's so big\n",
    "norway_coastline_img = Image.open(cwd / \"norway_coastline.tif\")\n",
    "pixels = norway_coastline_img.load()\n",
    "coast = (0, 128, 255)\n",
    "Ny, Nx, = norway_coastline_img.size\n",
    "norway_coastline = np.zeros((Ny, Nx), dtype=np.bool8)\n",
    "for i in range(Ny):\n",
    "    for j in range(Nx):\n",
    "        if pixels[i, j] == coast:\n",
    "            norway_coastline[i, j] = True"
   ]
  },
  {
   "cell_type": "code",
   "execution_count": null,
   "metadata": {},
   "outputs": [],
   "source": [
    "plt.figure()\n",
    "plt.imshow(norway_coastline)\n",
    "plt.show()"
   ]
  },
  {
   "cell_type": "code",
   "execution_count": null,
   "metadata": {},
   "outputs": [],
   "source": [
    "norway_points = []\n",
    "Ny, Nx = norway_coastline.shape\n",
    "for i in range(Ny):\n",
    "    for j in range(Nx):\n",
    "        if norway_coastline[i, j]:\n",
    "            norway_points.append((i / Ny, j / Nx))\n",
    "norway_points = np.array(norway_points).swapaxes(0, 1)"
   ]
  },
  {
   "cell_type": "code",
   "execution_count": null,
   "metadata": {},
   "outputs": [],
   "source": [
    "norway_points.shape"
   ]
  },
  {
   "cell_type": "code",
   "execution_count": null,
   "metadata": {},
   "outputs": [],
   "source": [
    "d = []\n",
    "boxes = np.logspace(4, 9, 30, endpoint=True, base=2, dtype=np.int64)\n",
    "\n",
    "for boxcount in boxes:\n",
    "    d.append(box_fraction(norway_points, boxcount))\n",
    "\n",
    "slope = np.polyfit(np.log2(boxes), np.log2(d), deg=1)\n",
    "slope = slope[0]\n",
    "\n",
    "plt.figure()\n",
    "plt.loglog(boxes, d)\n",
    "plt.xlabel(\"Boxcount\")\n",
    "plt.ylabel(\"Box population fraction\")\n",
    "plt.legend([f\"{slope = :.2f} => dim = {2 + slope :.2f}\"])\n",
    "plt.show()"
   ]
  }
 ],
 "metadata": {
  "kernelspec": {
   "display_name": ".venv",
   "language": "python",
   "name": "python3"
  },
  "language_info": {
   "codemirror_mode": {
    "name": "ipython",
    "version": 3
   },
   "file_extension": ".py",
   "mimetype": "text/x-python",
   "name": "python",
   "nbconvert_exporter": "python",
   "pygments_lexer": "ipython3",
   "version": "3.10.11"
  }
 },
 "nbformat": 4,
 "nbformat_minor": 2
}
