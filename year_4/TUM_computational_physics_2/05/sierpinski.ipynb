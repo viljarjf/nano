{
 "cells": [
  {
   "cell_type": "code",
   "execution_count": null,
   "metadata": {},
   "outputs": [],
   "source": [
    "import numpy as np\n",
    "import random\n",
    "from matplotlib import pyplot as plt\n",
    "\n",
    "# Origin in the center of the triangle\n",
    "LEFT = np.array([-np.sqrt(3)/3, -1])\n",
    "RIGHT = np.array([-np.sqrt(3)/3, 1])\n",
    "TOP = np.array([np.sqrt(3) * 2/3, 0])\n",
    "CORNERS = [LEFT, RIGHT, TOP]"
   ]
  },
  {
   "cell_type": "code",
   "execution_count": null,
   "metadata": {},
   "outputs": [],
   "source": [
    "def generate_triangle(seed: np.ndarray, iters: int) -> np.ndarray:\n",
    "    \"\"\"shape (2, iters)\"\"\"\n",
    "    out = np.empty((2, iters))\n",
    "    out[:, 0] = seed\n",
    "\n",
    "    for i in range(1, iters):\n",
    "        out[:, i] = (random.choice(CORNERS) + out[:, i-1])/2\n",
    "    \n",
    "    return out"
   ]
  },
  {
   "cell_type": "code",
   "execution_count": null,
   "metadata": {},
   "outputs": [],
   "source": [
    "t = generate_triangle(np.array([0, 0]), 2000)\n",
    "\n",
    "plt.figure()\n",
    "plt.scatter(t[1, :], t[0, :])\n",
    "plt.show()"
   ]
  }
 ],
 "metadata": {
  "kernelspec": {
   "display_name": ".venv",
   "language": "python",
   "name": "python3"
  },
  "language_info": {
   "codemirror_mode": {
    "name": "ipython",
    "version": 3
   },
   "file_extension": ".py",
   "mimetype": "text/x-python",
   "name": "python",
   "nbconvert_exporter": "python",
   "pygments_lexer": "ipython3",
   "version": "3.10.11"
  }
 },
 "nbformat": 4,
 "nbformat_minor": 2
}
