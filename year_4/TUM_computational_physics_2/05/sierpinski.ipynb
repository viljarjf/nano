{
 "cells": [
  {
   "cell_type": "code",
   "execution_count": null,
   "metadata": {},
   "outputs": [],
   "source": [
    "import numpy as np\n",
    "import random\n",
    "from matplotlib import pyplot as plt\n",
    "import numba\n",
    "\n",
    "# Origin in bottom left\n",
    "LEFT = np.array([0, 0])\n",
    "RIGHT = np.array([0, 1])\n",
    "TOP = np.array([np.sqrt(3)/2, 0.5])\n",
    "CORNERS = [LEFT, RIGHT, TOP]"
   ]
  },
  {
   "cell_type": "code",
   "execution_count": null,
   "metadata": {},
   "outputs": [],
   "source": [
    "def generate_triangle(seed: np.ndarray, iters: int) -> np.ndarray:\n",
    "    \"\"\"shape (2, iters)\"\"\"\n",
    "    out = np.empty((2, iters))\n",
    "    out[:, 0] = seed\n",
    "\n",
    "    for i in range(1, iters):\n",
    "        out[:, i] = (random.choice(CORNERS) + out[:, i-1])/2\n",
    "    \n",
    "    return out"
   ]
  },
  {
   "cell_type": "code",
   "execution_count": null,
   "metadata": {},
   "outputs": [],
   "source": [
    "t = generate_triangle(np.array([0.1, 0.1]), 2000)\n",
    "\n",
    "plt.figure()\n",
    "plt.scatter(t[1, :], t[0, :])\n",
    "plt.axis(\"off\")\n",
    "plt.show()"
   ]
  },
  {
   "cell_type": "code",
   "execution_count": null,
   "metadata": {},
   "outputs": [],
   "source": [
    "@numba.jit(nopython=True, parallel=True)\n",
    "def rasterize(triangle: np.ndarray, shape: tuple[int, int]) -> np.ndarray:\n",
    "    out = np.zeros(shape, dtype=np.byte)\n",
    "    Ny, Nx = shape\n",
    "    for i in numba.prange(triangle.shape[1]):\n",
    "        py, px = triangle[:, i]\n",
    "        x = int(np.floor(px * Nx))\n",
    "        y = int(np.floor(py * Ny))\n",
    "        out[y, x] = 1\n",
    "    return out"
   ]
  },
  {
   "cell_type": "code",
   "execution_count": null,
   "metadata": {},
   "outputs": [],
   "source": [
    "t = generate_triangle(np.array([0.1, 0.1]), 200000)\n",
    "tr = rasterize(t, (400, 400))\n",
    "\n",
    "plt.figure()\n",
    "plt.subplot(1,2,1)\n",
    "plt.scatter(t[1, :], t[0, :])\n",
    "plt.axis(\"off\")\n",
    "plt.subplot(1,2,2)\n",
    "plt.imshow(tr, origin=\"lower\")\n",
    "plt.axis(\"off\")\n",
    "plt.show()"
   ]
  },
  {
   "cell_type": "code",
   "execution_count": null,
   "metadata": {},
   "outputs": [],
   "source": [
    "def fractal_dimension(t: np.ndarray, n_boxes: int) -> float:\n",
    "    return np.count_nonzero(rasterize(t, (n_boxes, n_boxes))) / n_boxes**2"
   ]
  },
  {
   "cell_type": "code",
   "execution_count": null,
   "metadata": {},
   "outputs": [],
   "source": [
    "t = generate_triangle(np.array([0.1, 0.1]), 2000000)\n",
    "d = []\n",
    "boxes = np.logspace(1, 12, 30, endpoint=True, base=2, dtype=np.int64)\n",
    "\n",
    "for boxcount in boxes:\n",
    "    d.append(fractal_dimension(t, boxcount))\n",
    "\n",
    "slope = np.polyfit(np.log2(boxes), np.log2(d), deg=1)\n",
    "slope = slope[0]\n",
    "\n",
    "plt.figure()\n",
    "plt.loglog(boxes, d)\n",
    "plt.xlabel(\"Boxcount\")\n",
    "plt.ylabel(\"Box population fraction\")\n",
    "plt.legend([f\"{slope = :.2f} => dim = {2 + slope :.2f}\"])\n",
    "plt.show()"
   ]
  }
 ],
 "metadata": {
  "kernelspec": {
   "display_name": ".venv",
   "language": "python",
   "name": "python3"
  },
  "language_info": {
   "codemirror_mode": {
    "name": "ipython",
    "version": 3
   },
   "file_extension": ".py",
   "mimetype": "text/x-python",
   "name": "python",
   "nbconvert_exporter": "python",
   "pygments_lexer": "ipython3",
   "version": "3.10.11"
  }
 },
 "nbformat": 4,
 "nbformat_minor": 2
}
