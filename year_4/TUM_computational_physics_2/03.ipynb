{
 "cells": [
  {
   "attachments": {},
   "cell_type": "markdown",
   "metadata": {},
   "source": [
    "# FFT baby\n"
   ]
  },
  {
   "cell_type": "code",
   "execution_count": null,
   "metadata": {},
   "outputs": [],
   "source": [
    "%matplotlib qt5\n",
    "import numpy as np\n",
    "from matplotlib import pyplot as plt\n",
    "\n",
    "from typing import Callable"
   ]
  },
  {
   "cell_type": "code",
   "execution_count": null,
   "metadata": {},
   "outputs": [],
   "source": [
    "def W_pow(N: int, sign: int = 1) -> Callable[[int], complex]:\n",
    "    W = np.exp(2j*np.pi / N)\n",
    "    memo = {}\n",
    "    def _W_pow(nk: int):\n",
    "        Wnk = memo.get(nk)\n",
    "        if Wnk is None:\n",
    "            Wnk = W**nk\n",
    "            memo[nk] = Wnk\n",
    "        return Wnk\n",
    "    # precalculate\n",
    "    for i in range(N):\n",
    "        for j in range(N):\n",
    "            _W_pow(sign*i*j)\n",
    "    return _W_pow\n",
    "\n",
    "def DFT(yn: np.ndarray) -> np.ndarray:\n",
    "    \"O(n^2)\"\n",
    "    N = yn.size\n",
    "    W = W_pow(N)\n",
    "    Ynk = np.vstack([yn] * N).astype(np.complex128)\n",
    "    for n in range(N):\n",
    "        for k in range(N):\n",
    "            Ynk[n, k] *= W(n*k)\n",
    "    Yn = np.sum(Ynk, axis=1)\n",
    "    Yn *= (2*np.pi)**-0.5\n",
    "    return Yn\n",
    "\n",
    "def IDFT(Yn: np.ndarray) -> np.ndarray:\n",
    "    \"O(n^2)\"\n",
    "    N = Yn.size\n",
    "    W = W_pow(N, sign=-1)\n",
    "    ynk = np.vstack([Yn] * N).astype(np.complex128)\n",
    "    for n in range(N):\n",
    "        for k in range(N):\n",
    "            ynk[n, k] *= W(-n*k)\n",
    "    yn = np.sum(ynk, axis=1)\n",
    "    yn *= (2*np.pi)**0.5 / N\n",
    "    return yn"
   ]
  },
  {
   "cell_type": "code",
   "execution_count": null,
   "metadata": {},
   "outputs": [],
   "source": [
    "def FFT(yn: np.ndarray) -> np.ndarray:\n",
    "    N = yn.size\n",
    "    W = np.exp(2j*np.pi / N)\n",
    "    if N == 1:\n",
    "        return W*yn\n",
    "    if N % 2:\n",
    "        raise ValueError(\"Amount of elements must be a power of 2\")\n",
    "    Yn = np.empty(N, dtype=np.complex128)\n",
    "    Fe = FFT(yn[::2])\n",
    "    Fo = FFT(yn[1::2])\n",
    "    for n in range(N):\n",
    "        Yn[n] = Fe[n % (N//2)] + W**n * Fo[n % (N//2)]\n",
    "    Yn *= (2*np.pi)**-0.5\n",
    "    return Yn\n",
    "# TODO make this work\n"
   ]
  },
  {
   "cell_type": "code",
   "execution_count": null,
   "metadata": {},
   "outputs": [],
   "source": [
    "def _f(x):\n",
    "    if x < 1:\n",
    "        return x\n",
    "    return x - 2\n",
    "f = np.vectorize(_f)\n",
    "\n",
    "\n",
    "N = 64\n",
    "x = np.linspace(0, 2, N)\n",
    "y = f(x)\n",
    "Yn = DFT(y)\n",
    "yn = IDFT(Yn)\n",
    "\n",
    "print(f\"{np.allclose(y, yn) = }\")\n",
    "\n",
    "plt.figure()\n",
    "plt.scatter(x, y)\n",
    "plt.scatter(x, yn.real)\n",
    "plt.legend([\"y\", \"IDFT(DFT(y))\"])\n",
    "plt.title(\"Test back transform\")\n",
    "\n",
    "plt.figure()\n",
    "plt.plot(Yn.real)\n",
    "plt.plot(Yn.imag)\n",
    "plt.legend([\"$\\\\Re$\", \"$\\\\Im$\"])\n",
    "plt.title(\"Yn\")\n",
    "plt.show()"
   ]
  },
  {
   "cell_type": "code",
   "execution_count": null,
   "metadata": {},
   "outputs": [],
   "source": [
    "def plot_Y(f: Callable[[np.ndarray], np.ndarray], N: int, a: float = 0, b: float = 2*np.pi):\n",
    "    x = np.linspace(a, b, N)\n",
    "    y = f(x)\n",
    "    Yn = DFT(y)\n",
    "    plt.figure()\n",
    "    plt.plot(Yn.real)\n",
    "    plt.plot(Yn.imag)\n",
    "    plt.legend([\"$\\\\Re$\", \"$\\\\Im$\"])\n",
    "    plt.title(\"Yn\")\n",
    "    plt.show()"
   ]
  },
  {
   "cell_type": "code",
   "execution_count": null,
   "metadata": {},
   "outputs": [],
   "source": [
    "N = 8\n",
    "plot_Y(np.sin, N)\n",
    "plot_Y(np.cos, N)\n",
    "plot_Y(lambda x: np.cos(x) + 3, N)\n",
    "plot_Y(lambda x: np.cos(x + 5) + 3, N)"
   ]
  },
  {
   "cell_type": "code",
   "execution_count": null,
   "metadata": {},
   "outputs": [],
   "source": [
    "N = 64\n",
    "plot_Y(lambda x: np.exp(-x / (2*np.pi)), N)"
   ]
  }
 ],
 "metadata": {
  "kernelspec": {
   "display_name": ".venv",
   "language": "python",
   "name": "python3"
  },
  "language_info": {
   "codemirror_mode": {
    "name": "ipython",
    "version": 3
   },
   "file_extension": ".py",
   "mimetype": "text/x-python",
   "name": "python",
   "nbconvert_exporter": "python",
   "pygments_lexer": "ipython3",
   "version": "3.10.11"
  }
 },
 "nbformat": 4,
 "nbformat_minor": 2
}
