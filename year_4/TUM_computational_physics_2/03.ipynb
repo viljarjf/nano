{
 "cells": [
  {
   "attachments": {},
   "cell_type": "markdown",
   "metadata": {},
   "source": [
    "# FFT baby\n"
   ]
  },
  {
   "cell_type": "code",
   "execution_count": null,
   "metadata": {},
   "outputs": [],
   "source": [
    "%matplotlib qt5\n",
    "import numpy as np\n",
    "from matplotlib import pyplot as plt\n",
    "\n",
    "from typing import Callable"
   ]
  },
  {
   "cell_type": "code",
   "execution_count": null,
   "metadata": {},
   "outputs": [],
   "source": [
    "def Z_pow(N: int, sign: int = 1) -> Callable[[int], complex]:\n",
    "    Z = np.exp(2j*np.pi / N)\n",
    "    memo = {}\n",
    "    def _Z_pow(nk: int):\n",
    "        Znk = memo.get(nk)\n",
    "        if Znk is None:\n",
    "            Znk = Z**nk\n",
    "            memo[nk] = Znk\n",
    "        return Znk\n",
    "    # precalculate\n",
    "    for i in range(N):\n",
    "        for j in range(N):\n",
    "            _Z_pow(sign*i*j)\n",
    "    return _Z_pow\n",
    "\n",
    "def DFT(yn: np.ndarray) -> np.ndarray:\n",
    "    \"O(n^2)\"\n",
    "    N = yn.size\n",
    "    Z = Z_pow(N)\n",
    "    Yn = np.empty(N, dtype=np.complex128)\n",
    "    for n in range(N):\n",
    "        Ynk = 0\n",
    "        for k in range(N):\n",
    "            Ynk += Z(n*k) * yn[k]\n",
    "        Yn[n] = Ynk\n",
    "    Yn *= (2*np.pi)**-0.5\n",
    "    return Yn\n",
    "\n",
    "def IDFT(Yn: np.ndarray) -> np.ndarray:\n",
    "    \"O(n^2)\"\n",
    "    N = Yn.size\n",
    "    Z = Z_pow(N, sign=-1)\n",
    "    ynk = np.empty((N, N), dtype=np.complex128)\n",
    "    for n in range(N):\n",
    "        for k in range(N):\n",
    "            ynk[n, k] = Z(-n*k) * Yn[k]\n",
    "    yn = np.sum(ynk, axis=1)\n",
    "    yn *= (2*np.pi)**0.5 / N\n",
    "    return yn"
   ]
  },
  {
   "cell_type": "code",
   "execution_count": null,
   "metadata": {},
   "outputs": [],
   "source": [
    "def _f(x):\n",
    "    if x < 1:\n",
    "        return x\n",
    "    return x - 2\n",
    "f = np.vectorize(_f)\n",
    "\n",
    "f = lambda x: np.sin(np.pi * x)\n",
    "\n",
    "x = np.linspace(0, 2, 100)\n",
    "y = f(x)\n",
    "print(y.shape)\n",
    "Yn = DFT(y)\n",
    "print(Yn.shape)\n",
    "yn = IDFT(Yn)\n",
    "print(yn.shape)\n",
    "\n",
    "plt.figure()\n",
    "plt.scatter(x, y)\n",
    "plt.scatter(x, yn.real)\n",
    "plt.legend([\"y\", \"IDFT(DFT(y))\"])\n",
    "plt.show()"
   ]
  }
 ],
 "metadata": {
  "kernelspec": {
   "display_name": ".venv",
   "language": "python",
   "name": "python3"
  },
  "language_info": {
   "codemirror_mode": {
    "name": "ipython",
    "version": 3
   },
   "file_extension": ".py",
   "mimetype": "text/x-python",
   "name": "python",
   "nbconvert_exporter": "python",
   "pygments_lexer": "ipython3",
   "version": "3.10.11"
  }
 },
 "nbformat": 4,
 "nbformat_minor": 2
}
