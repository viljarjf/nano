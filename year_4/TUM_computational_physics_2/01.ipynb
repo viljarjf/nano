{
 "cells": [
  {
   "attachments": {},
   "cell_type": "markdown",
   "metadata": {},
   "source": [
    "# Computational physics 2, Exercise 1\n",
    "\n",
    "## Random Number Generators\n",
    "The traditional random number generator (RNG) in computer science generates a sequence of the form\n",
    "Xn+1 = (aXn + c) mod k. (1)\n",
    "\n",
    "(a) Verify the point made in the lecture that such pseudo-random numbers are highly correlated.\n",
    "\n",
    "(b) Try k = 256 and k = 1024 and choose good parameters for a and c. Can you explain the behavior?\n",
    "\n",
    "(c) The performance of a bad RNG can be vastly improved by coupling two bad RNGs. We want to\n",
    "study this possibility. Run two differently seeded versions (also try to use different a, c, and k) of\n",
    "the above bad RNG. A random number from RNG 1 is only taken if RNG 2 produces a number\n",
    "that is a multiple of either 2, 3, 5, 7, or 13. Study the correlation of this new RNG"
   ]
  },
  {
   "cell_type": "code",
   "execution_count": null,
   "metadata": {},
   "outputs": [],
   "source": [
    "%matplotlib inline\n",
    "import numpy as np\n",
    "from matplotlib import pyplot as plt\n",
    "print(\"Imported numpy and matplotlib\")"
   ]
  },
  {
   "cell_type": "code",
   "execution_count": null,
   "metadata": {},
   "outputs": [],
   "source": [
    "from typing import Iterator\n",
    "def linear_congruential_rng(x0: int, a: int, c: int, k: int) -> Iterator[int]:\n",
    "    x = x0\n",
    "    while True:\n",
    "        x = (a*x + c) % k\n",
    "        yield x"
   ]
  },
  {
   "cell_type": "code",
   "execution_count": null,
   "metadata": {},
   "outputs": [],
   "source": [
    "rng = linear_congruential_rng(10, 27, 13, 256)\n",
    "random_pairs = [(next(rng), next(rng)) for _ in range(512)]\n",
    "random_x = [p[0] for p in random_pairs]\n",
    "random_y = [p[1] for p in random_pairs]\n",
    "\n",
    "plt.figure()\n",
    "plt.title(\"Task 1 a)\")\n",
    "plt.scatter(random_x, random_y)"
   ]
  },
  {
   "cell_type": "code",
   "execution_count": null,
   "metadata": {},
   "outputs": [],
   "source": [
    "rng_256 = linear_congruential_rng(0, 237, 2, 256)\n",
    "random_pairs_256 = [(next(rng_256), next(rng_256)) for _ in range(2048)]\n",
    "random_x_256 = [p[0] for p in random_pairs_256]\n",
    "random_y_256 = [p[1] for p in random_pairs_256]\n",
    "\n",
    "rng_1024 = linear_congruential_rng(0, 237, 2, 1024)\n",
    "random_pairs_1024 = [(next(rng_1024), next(rng_1024)) for _ in range(2048)]\n",
    "random_x_1024 = [p[0] for p in random_pairs_1024]\n",
    "random_y_1024 = [p[1] for p in random_pairs_1024]\n",
    "\n",
    "plt.figure()\n",
    "plt.suptitle(\"Task 1 b)\")\n",
    "plt.subplot(1,2,1)\n",
    "plt.scatter(random_x_256, random_y_256)\n",
    "plt.subplot(1,2,2)\n",
    "plt.scatter(random_x_1024, random_y_1024)\n"
   ]
  }
 ],
 "metadata": {
  "kernelspec": {
   "display_name": ".venv",
   "language": "python",
   "name": "python3"
  },
  "language_info": {
   "codemirror_mode": {
    "name": "ipython",
    "version": 3
   },
   "file_extension": ".py",
   "mimetype": "text/x-python",
   "name": "python",
   "nbconvert_exporter": "python",
   "pygments_lexer": "ipython3",
   "version": "3.10.11"
  }
 },
 "nbformat": 4,
 "nbformat_minor": 2
}
