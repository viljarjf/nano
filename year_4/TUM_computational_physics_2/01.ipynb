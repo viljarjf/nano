{
 "cells": [
  {
   "attachments": {},
   "cell_type": "markdown",
   "metadata": {},
   "source": [
    "# Computational physics 2, Exercise 1\n",
    "\n",
    "## Random Number Generators\n",
    "The traditional random number generator (RNG) in computer science generates a sequence of the form\n",
    "Xn+1 = (aXn + c) mod k. (1)\n",
    "\n",
    "(a) Verify the point made in the lecture that such pseudo-random numbers are highly correlated.\n",
    "\n",
    "(b) Try k = 256 and k = 1024 and choose good parameters for a and c. Can you explain the behavior?\n",
    "\n",
    "(c) The performance of a bad RNG can be vastly improved by coupling two bad RNGs. We want to\n",
    "study this possibility. Run two differently seeded versions (also try to use different a, c, and k) of\n",
    "the above bad RNG. A random number from RNG 1 is only taken if RNG 2 produces a number\n",
    "that is a multiple of either 2, 3, 5, 7, or 13. Study the correlation of this new RNG"
   ]
  },
  {
   "cell_type": "code",
   "execution_count": null,
   "metadata": {},
   "outputs": [],
   "source": [
    "%matplotlib inline\n",
    "import numpy as np\n",
    "from matplotlib import pyplot as plt\n",
    "print(\"Imported numpy and matplotlib\")"
   ]
  },
  {
   "cell_type": "code",
   "execution_count": null,
   "metadata": {},
   "outputs": [],
   "source": [
    "from typing import Iterator\n",
    "def linear_congruential_rng(x0: int, a: int, c: int, k: int) -> Iterator[int]:\n",
    "    x = x0\n",
    "    while True:\n",
    "        x = (a*x + c) % k\n",
    "        yield x"
   ]
  },
  {
   "cell_type": "code",
   "execution_count": null,
   "metadata": {},
   "outputs": [],
   "source": [
    "rng = linear_congruential_rng(10, 27, 13, 256)\n",
    "random_pairs = [(next(rng), next(rng)) for _ in range(512)]\n",
    "random_x = [p[0] for p in random_pairs]\n",
    "random_y = [p[1] for p in random_pairs]\n",
    "\n",
    "plt.figure()\n",
    "plt.title(\"Task 1 a)\")\n",
    "plt.scatter(random_x, random_y)"
   ]
  },
  {
   "cell_type": "code",
   "execution_count": null,
   "metadata": {},
   "outputs": [],
   "source": [
    "rng_256 = linear_congruential_rng(0, 237, 2, 256)\n",
    "random_pairs_256 = [(next(rng_256), next(rng_256)) for _ in range(2048)]\n",
    "random_x_256 = [p[0] for p in random_pairs_256]\n",
    "random_y_256 = [p[1] for p in random_pairs_256]\n",
    "\n",
    "rng_1024 = linear_congruential_rng(0, 237, 2, 1024)\n",
    "random_pairs_1024 = [(next(rng_1024), next(rng_1024)) for _ in range(2048)]\n",
    "random_x_1024 = [p[0] for p in random_pairs_1024]\n",
    "random_y_1024 = [p[1] for p in random_pairs_1024]\n",
    "\n",
    "plt.figure()\n",
    "plt.suptitle(\"Task 1 b)\")\n",
    "plt.subplot(1,2,1)\n",
    "plt.scatter(random_x_256, random_y_256)\n",
    "plt.subplot(1,2,2)\n",
    "plt.scatter(random_x_1024, random_y_1024)\n"
   ]
  },
  {
   "cell_type": "code",
   "execution_count": null,
   "metadata": {},
   "outputs": [],
   "source": [
    "def coupled_linear_congruential_rng(x0: int, a1: int, c1: int, k1: int, a2: int, c2: int, k2: int) -> Iterator[int]:\n",
    "    x1 = x0\n",
    "    x2 = x0\n",
    "    rng1 = linear_congruential_rng(x1, a1, c1, k1)\n",
    "    rng2 = linear_congruential_rng(x2, a2, c2, k2)\n",
    "    accepted_divisors = [2, 3, 5, 7, 13]\n",
    "    while True:\n",
    "        x2 = next(rng2)\n",
    "        while all(x2 // i for i in accepted_divisors):\n",
    "            x1 = next(rng1)\n",
    "            x2 = next(rng2)\n",
    "        yield x1\n",
    "    "
   ]
  },
  {
   "cell_type": "code",
   "execution_count": null,
   "metadata": {},
   "outputs": [],
   "source": [
    "rng = coupled_linear_congruential_rng(0, 237, 1, 256, 237, 1, 1024)\n",
    "random_pairs = [(next(rng), next(rng)) for _ in range(1000)]\n",
    "random_x = [p[0] for p in random_pairs]\n",
    "random_y = [p[1] for p in random_pairs]\n",
    "\n",
    "plt.figure()\n",
    "plt.title(\"Task 1 c)\")\n",
    "plt.scatter(random_x, random_y)"
   ]
  },
  {
   "attachments": {},
   "cell_type": "markdown",
   "metadata": {},
   "source": [
    "## Numerical integration\n",
    "\n",
    "$$ \\int_0^\\infty e−x dx $$\n",
    "$$ \\int_0^\\pi \\sin(x) dx $$\n",
    "$$ \\int_0^1 \\frac{\\ln(\\cos(x))}{x} dx $$\n",
    "\n",
    "(a) In the last term, we discussed numerical integration of a known function. This exercise is meant to\n",
    "warm up your skills on this topic of Computational Physics I. Use the Trapezoidal rule and Simpson’s\n",
    "rule to compute the integrals given above. Compare the relative accuracy of the result to the\n",
    "number of function evaluations needed. The numerical value of Eq. (4) is −0.27568727380043716 · · · .\n",
    "Visualize the result in a log-log plot and determine the rate of convergence for each method. What\n",
    "rate would you expect? You can find a code skeleton in the code section of the homepage, which\n",
    "includes a plotting script.\n",
    "\n",
    "(b) Implement Monte Carlo integration.\n",
    "- Implement two different versions of Monte Carlo integration (by-rejection, by-mean) and solve\n",
    "the above integrals. Use a linear transformation from the interval of your random numbers\n",
    "[0, 1] to the integration boundaries [a, b].\n",
    "- Try to use estimates for the extremal values of the integrand for the by-rejection integration\n",
    "that are two orders of magnitude too large. Can you explain the behavior of the algorithm\n",
    "performance?\n",
    "- Now, try to use importance sampling for those integrals where it is sensible and potentially\n",
    "improves the integration. Find a suitable probability density function close/similar to the\n",
    "integrand to draw from; do not use the integrand itself.\n",
    "- Which of all your algorithms performs best? For which problems should you use Monte Carlo\n",
    "integration?"
   ]
  },
  {
   "cell_type": "code",
   "execution_count": null,
   "metadata": {},
   "outputs": [],
   "source": [
    "from scipy.integrate import simpson as scipy_simpson\n",
    "from typing import Callable\n",
    "\n",
    "def trapezoidal(f: Callable[[np.ndarray], np.ndarray], a: float, b: float, N: int) -> float:\n",
    "    x = np.linspace(a, b, N)\n",
    "    y = f(x)\n",
    "    return np.trapz(y, x)\n",
    "\n",
    "def simpson(f: Callable[[np.ndarray], np.ndarray], a: float, b: float, N: int) -> float:\n",
    "    x = np.linspace(a, b, N)\n",
    "    y = f(x)\n",
    "    return scipy_simpson(y, x)\n"
   ]
  },
  {
   "cell_type": "code",
   "execution_count": null,
   "metadata": {},
   "outputs": [],
   "source": [
    "def plot_integral_comparison(f: Callable[[np.ndarray], np.ndarray], a: float, \n",
    "                             b: float, integral_value: float, title: str):\n",
    "    N = np.logspace(2, 6, 100, dtype=np.int64) // 2 + 1\n",
    "    trapz = [abs(trapezoidal(f, a, b, n) - integral_value) for n in N]\n",
    "    simps = [abs(simpson(f, a, b, n) - integral_value) for n in N]\n",
    "\n",
    "    plt.figure()\n",
    "    plt.title(title)\n",
    "    plt.loglog(N, trapz, label=\"Trapezoidal\")\n",
    "    plt.loglog(N, simps, label=\"Simpson\")\n",
    "    plt.legend()\n",
    "    plt.xlabel(\"N\")"
   ]
  },
  {
   "cell_type": "code",
   "execution_count": null,
   "metadata": {},
   "outputs": [],
   "source": [
    "def f(x):\n",
    "    return np.exp(-x)\n",
    "integral_value = 1\n",
    "plot_integral_comparison(f, 0, 100, integral_value, \"$e^{-x}$\")\n"
   ]
  },
  {
   "cell_type": "code",
   "execution_count": null,
   "metadata": {},
   "outputs": [],
   "source": [
    "plot_integral_comparison(np.sin, 0, np.pi, 2, \"$\\\\sin x$\")\n"
   ]
  },
  {
   "cell_type": "code",
   "execution_count": null,
   "metadata": {},
   "outputs": [],
   "source": [
    "def f(x):\n",
    "    y = np.log(np.cos(x)) / x\n",
    "    y[x == 0] = 0\n",
    "    return y\n",
    "plot_integral_comparison(f, 0, 1, -0.27568727380043716, \"$\\\\frac{\\\\ln\\\\cos x}{x}$\")"
   ]
  },
  {
   "attachments": {},
   "cell_type": "markdown",
   "metadata": {},
   "source": [
    "test two"
   ]
  }
 ],
 "metadata": {
  "kernelspec": {
   "display_name": ".venv",
   "language": "python",
   "name": "python3"
  },
  "language_info": {
   "codemirror_mode": {
    "name": "ipython",
    "version": 3
   },
   "file_extension": ".py",
   "mimetype": "text/x-python",
   "name": "python",
   "nbconvert_exporter": "python",
   "pygments_lexer": "ipython3",
   "version": "3.10.11"
  }
 },
 "nbformat": 4,
 "nbformat_minor": 2
}
