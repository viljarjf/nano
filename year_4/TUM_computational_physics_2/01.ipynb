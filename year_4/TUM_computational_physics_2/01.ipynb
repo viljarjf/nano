{
 "cells": [
  {
   "attachments": {},
   "cell_type": "markdown",
   "metadata": {},
   "source": [
    "# Computational physics 2, Exercise 1\n",
    "\n",
    "## Random Number Generators\n",
    "The traditional random number generator (RNG) in computer science generates a sequence of the form\n",
    "Xn+1 = (aXn + c) mod k. (1)\n",
    "\n",
    "(a) Verify the point made in the lecture that such pseudo-random numbers are highly correlated.\n",
    "\n",
    "(b) Try k = 256 and k = 1024 and choose good parameters for a and c. Can you explain the behavior?\n",
    "\n",
    "(c) The performance of a bad RNG can be vastly improved by coupling two bad RNGs. We want to\n",
    "study this possibility. Run two differently seeded versions (also try to use different a, c, and k) of\n",
    "the above bad RNG. A random number from RNG 1 is only taken if RNG 2 produces a number\n",
    "that is a multiple of either 2, 3, 5, 7, or 13. Study the correlation of this new RNG"
   ]
  },
  {
   "cell_type": "code",
   "execution_count": 2,
   "metadata": {},
   "outputs": [
    {
     "name": "stdout",
     "output_type": "stream",
     "text": [
      "Imported numpy and matplotlib\n"
     ]
    }
   ],
   "source": [
    "import numpy as np\n",
    "from matplotlib import pyplot as plt\n",
    "print(\"Imported numpy and matplotlib\")"
   ]
  }
 ],
 "metadata": {
  "kernelspec": {
   "display_name": ".venv",
   "language": "python",
   "name": "python3"
  },
  "language_info": {
   "codemirror_mode": {
    "name": "ipython",
    "version": 3
   },
   "file_extension": ".py",
   "mimetype": "text/x-python",
   "name": "python",
   "nbconvert_exporter": "python",
   "pygments_lexer": "ipython3",
   "version": "3.10.11"
  },
  "orig_nbformat": 4
 },
 "nbformat": 4,
 "nbformat_minor": 2
}
