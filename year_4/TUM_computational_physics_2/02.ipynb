{
 "cells": [
  {
   "cell_type": "markdown",
   "metadata": {},
   "source": [
    "# Exercise 2"
   ]
  },
  {
   "cell_type": "code",
   "execution_count": null,
   "metadata": {},
   "outputs": [],
   "source": [
    "# Nice, \"write the metropolis algorithm\"\n",
    "import metropolis\n",
    "import numpy as np\n",
    "from matplotlib import pyplot as plt"
   ]
  },
  {
   "cell_type": "code",
   "execution_count": null,
   "metadata": {},
   "outputs": [],
   "source": [
    "# Animation to verify\n",
    "%matplotlib qt5\n",
    "from matplotlib.animation import FuncAnimation\n",
    "from matplotlib.widgets import Slider\n",
    "animation_system = metropolis.Metropolis2D((100, 100), 1, 0)\n",
    "animation_T = 1.5\n",
    "\n",
    "fig, (ax2, ax1) = plt.subplots(2,1)\n",
    "ax1.set_xticks([])\n",
    "ax1.set_yticks([])\n",
    "im1 = ax1.matshow(animation_system.spins)\n",
    "# ax2.spines[\"top\"].set_visible(True)\n",
    "# ax2.spines[\"right\"].set_visible(True)\n",
    "T_slider = Slider(ax2, 'Temperature ', valmin=0, valmax=5, \n",
    "             valinit=1, valfmt='%.2f K/k_B', facecolor='#cc7000')\n",
    "# fig.tight_layout()\n",
    "\n",
    "def animation(_):\n",
    "    for _ in range(100 * 100):\n",
    "        animation_system.perform_iter(animation_T)\n",
    "    im1.set_data(animation_system.spins)\n",
    "    return im1,\n",
    "\n",
    "def change_T(_):\n",
    "    global animation_T\n",
    "    animation_T = T_slider.val\n",
    "T_slider.on_changed(change_T)\n",
    "\n",
    "ani = FuncAnimation(fig, animation, blit=False, interval=50)\n",
    "plt.show()"
   ]
  }
 ],
 "metadata": {
  "kernelspec": {
   "display_name": ".venv",
   "language": "python",
   "name": "python3"
  },
  "language_info": {
   "codemirror_mode": {
    "name": "ipython",
    "version": 3
   },
   "file_extension": ".py",
   "mimetype": "text/x-python",
   "name": "python",
   "nbconvert_exporter": "python",
   "pygments_lexer": "ipython3",
   "version": "3.10.11"
  }
 },
 "nbformat": 4,
 "nbformat_minor": 2
}
