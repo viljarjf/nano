{
 "cells": [
  {
   "cell_type": "markdown",
   "id": "851202ef-5c9c-42cd-a67a-e958c94e1da0",
   "metadata": {},
   "source": [
    "# Prosessering av STEM-DPC data\n",
    "\n",
    "Denne Jupyter Notebooken viser hvordan Scanning Transmission Electron Microscopy - Differential Phase Contrast (STEM-DPC) data kan analyseres. Sammenlignet med analyse av \"standard\" TEM data som dere så på i forrige Notebook, så er dette mer komplisert på grunn av datastørrelsen: det er veldig enkelt å gå tom for minne, noe som (mest sannsynlig) gjør at datamaskinen deres kræsjer.\n",
    "\n",
    "### Målet med denne notebooken\n",
    "\n",
    "- Dere skal kunne prosessere de magnetiske STEM-DPC dataene deres fra TEM-laben\n",
    "- Bli komfortable med å jobbe med 4-dimensjonelle datasett\n",
    "- Lære litt enkle verktøy og strategier for å jobbe med store datasett, som ofte er mye større en tilgjengelig minne\n",
    "\n",
    "### Notebook-planen\n",
    "\n",
    "- \"Åpne\" datasettet uten å laste det inn i minnet, \"lazily\"\n",
    "- Utforske datasettet, uten å laste det inn i minnet. Via \"lazy plotting\"\n",
    "- Redusere datamengden, slik at vi kan laste det inn i minnet\n",
    "- Bruk center of mass til å finne den magnetiske vektoren i hver probe-posisjon\n",
    "- Visualisere den magnetiske domenestrukturen i en bildefil\n",
    "\n",
    "Eksempel på bilde:\n",
    "\n",
    "<img src=\"bilder/eksempelbilde_dpc.jpg\" width=300 height=300 />\n",
    "\n",
    "Selve datasettene dere skal se på her er på ca. 8 GB, noe som er ganske smått i \"4-D STEM\" verdenen: disse kan lett være 100+ GB. Så selv om dere har en datamaskin som takler 8 GB, så anbefaler jeg at dere følger prosedyren for å redusere datastørrelsen."
   ]
  },
  {
   "cell_type": "markdown",
   "id": "e960a1be-f7f8-4e7d-a8a4-f64abe8df6c7",
   "metadata": {},
   "source": [
    "## Importere biblioteker\n",
    "\n",
    "Først, plotte-biblioteket. Dette kan enten være `%matplotlib qt` for egne vinduer for plottene, eller `%matplotlib widget` for å få plottene i selve Jupyter Notebooken."
   ]
  },
  {
   "cell_type": "markdown",
   "id": "0aa1c3c5-b404-4044-bef9-842afc5aa739",
   "metadata": {},
   "source": [
    "Så importere HyperSpy"
   ]
  },
  {
   "cell_type": "code",
   "execution_count": null,
   "id": "fbeabfaf-bf1f-4b86-aa5e-d9b64e156462",
   "metadata": {},
   "outputs": [],
   "source": [
    "%matplotlib qt\n",
    "from hyperspy import api as hs"
   ]
  },
  {
   "cell_type": "markdown",
   "id": "502ffd28-a38f-4249-9634-4afc0c4ca0e0",
   "metadata": {},
   "source": [
    "## Åpne dataset\n",
    "\n",
    "Dette gjøres via `hs.load`, som kan åpne en rekke dataformater, spesielt innenfor elektronmikroskopi. Velg et av STEM-DPC datasettene deres, disse skal ha:\n",
    "\n",
    "- `.hspy` filformat\n",
    "- Ha filnavn som inneholder noe med: `stem_dpc`, `STEMDPC`, `LowMag`, `Low_Mag`, `lowmag`, `obj_off` eller `OBJOFF`\n",
    "\n",
    "Siden disse er ganske store, så husk å bruk `lazy=True`. Lag et objekt som heter `s`.\n",
    "\n",
    "Tips: sjekk docstring for informasjon om hvordan `hs.load` virker."
   ]
  },
  {
   "cell_type": "code",
   "execution_count": null,
   "id": "6fac07a0-41dd-47b7-92d6-0cd7e490001a",
   "metadata": {},
   "outputs": [],
   "source": [
    "lazy = True\n",
    "s1 = hs.load(\"data/STEM LOWMAG  256x256 2ms 150ms fb pacman.hspy\", lazy = lazy)\n",
    "s2 = hs.load(\"data/STEM LOWMAG  256x256 2ms 150ms fb.hspy\", lazy = lazy)"
   ]
  },
  {
   "cell_type": "markdown",
   "id": "5a6acea9-f5a5-4edd-93d9-55b51b9807b9",
   "metadata": {},
   "source": [
    "Skriv `s` i cellen under, og kjør cellen."
   ]
  },
  {
   "cell_type": "markdown",
   "id": "a20008a5-c073-4f51-93aa-86e2a03b7f8a",
   "metadata": {},
   "source": [
    "Her ser vi at dette er et `LazyElectronDiffraction2D` signal. `Lazy` betyr at dataene er ikke overført til RAM, ergo at dataene ennå bare er på harddisken. I tillegg ser vi at datasettet har `256 x 256` probe-posisjoner, og `256 x 256` detektorposisjoner. Hvert datapunkt er en 16-bit heltall, som gir 2 bytes. Dette gir en datastørrelse på: `256 * 256 * 256 * 256 * 2`, som er ca. 8.6 gigabytes.\n",
    "\n",
    "En del av dere har nok en datamaskin som kan takle dette, men la oss prøve å redusere datamengden litt.\n",
    "\n",
    "**VIKTIG:** det er veldig lett å kræsje datamaskinen når man holder på med såpass store datasett. Så pass på at dere har lagret ting dere har åpent."
   ]
  },
  {
   "cell_type": "markdown",
   "id": "e0bbff8b-abe1-4667-aa0a-3ff01cf2f8c3",
   "metadata": {},
   "source": [
    "## Plotting av dataen\n",
    "\n",
    "`s` er et signal objekt som inneholder mange funksjoner. Et av disse er `plot`, prøv denne. Siden dette er et `lazy` signal, så må HyperSpy kalkulere et navigasjonsbilde ved å hente ut deler (`chunks`) av gangen.\n",
    "\n",
    "Denne navigeringen kommer (mest sannsynlig) til å være ganske treg, dette fordi alt må leses fra harddisken. Planen nå er å redusere datastørrelsen, slik at vi kan laste alt inn i minnet, men først vil vi utforske datasettet litt for å se hvor mye vi kan redusere datasettet.\n",
    "\n",
    "Dere får opp to bilder: \"navigeringsplot\" og \"signalplot\".\n",
    "\n",
    "<img src=\"bilder/nav_og_sig.jpg\" width=700 height=700 />\n",
    "\n",
    "- Tips 1: navigatoren kan gjøres større ved å trykke på `+` knappen på **tastaturet**. Og mindre med å trykke på `-` knappen på **tastaturet**. Dette summerer IKKE flere piksler, men er bare en måte å lettere treffe navigator-markøren.\n",
    "- Tips 2: dere kan også flytte rundt med pil-tastene.\n",
    "\n",
    "(Siden folk har litt forskjellige datasett, så er det sannsynlig at ikke alt dette er relevant for alle.)"
   ]
  },
  {
   "cell_type": "code",
   "execution_count": null,
   "id": "a485e6a4-559a-49d8-82c3-4f891051eb04",
   "metadata": {},
   "outputs": [],
   "source": [
    "#s2.plot()"
   ]
  },
  {
   "cell_type": "markdown",
   "id": "0185366e-9243-46c4-9b6d-a1e0528de7d7",
   "metadata": {},
   "source": [
    "Siden vi bare er interessert i senter-disken, så kan vi fjerne alt \"tomrommet\" (det grønne i bildet her) hvor elektronstrålen ikke er. Ergo: vi beskjærer datasettet, slik at vi bare får de delene vi bryr oss om.\n",
    "\n",
    "<img src=\"bilder/01_diffraksjonsbilde_senterdisk.jpg\" width=300 height=300 />\n",
    "\n",
    "Et vanlig problem, er at elektronstrålen flytter seg som funksjon av probe-posisjon. Så vi kan ikke bare beskjære akkurat rundt der den er i en enkeltposisjon, vi må ha litt \"ekstra\" rom på sidene.\n",
    "\n",
    "<img src=\"bilder/01_finn_senter.jpg\" width=500 height=500 />\n",
    "\n",
    "- Plasser navigatoren midt i datasettet, som vist i bildet over.\n",
    "- Se hva `x` og `y` er i senterpunktet av disken (øverst til høyre i signal plottet)\n",
    "- Bruk `isig` til å beskjære. Syntaksen er: `s.isig[x0:x1, y0:y1]`, hvor dere kan for eksempel ha +- 50 rundt senterposisjonen. Ergo at det beskjærte området blir 100 x 100 piksler tilsammen.\n",
    "    * Eksempel: `s.isig[128 - 50 : 128 + 50, 128 - 50 : 128 + 50]`\n",
    "- Lagre dette som en ny variabel: `s1`. \n",
    "\n",
    "Hvis deler av datasettet er \"dekket\" av tykke deler av prøven, som dere ikke bryr dere om, så bare gjør dette med de områdene som er tynne nok. Hvis du har sånne \"uinteressante\" områder, så bruk `inav` til å fjerne dem på en tilsvarende måte."
   ]
  },
  {
   "cell_type": "code",
   "execution_count": null,
   "id": "7da0359c-01df-44c3-9352-edc3e62c9941",
   "metadata": {},
   "outputs": [],
   "source": [
    "s1 = s1.isig[128 - 50:128 + 50, 128 - 50: 128 + 50]\n",
    "s2 = s2.inav[:, 100: 180]\n",
    "s2 = s2.isig[122 - 50:122 + 50, 144 - 50: 144 + 50]\n",
    "#s2.plot()"
   ]
  },
  {
   "cell_type": "markdown",
   "id": "b6984904-6183-4d6f-801c-a14262083199",
   "metadata": {},
   "source": [
    "Skriv `s1` i cellen under, og kjør cellen."
   ]
  },
  {
   "cell_type": "markdown",
   "id": "2ff3d9c4-71be-4267-b033-8e59b5dafb6a",
   "metadata": {},
   "source": [
    "Her ser vi at dette er et `LazyElectronDiffraction2D` signal, men med færre detektor-posisjoner! Hvis dere brukt 50 piksler som eksemplet ovenfor, så vil dette nye signalet `s1` bare være 15% av `s` sin størrelse.\n",
    "\n",
    "For å sjekke hvordan dette ser ut, så bruk: s1.plot()"
   ]
  },
  {
   "cell_type": "markdown",
   "id": "debc4650-7d2a-4077-b2ec-cf053499908c",
   "metadata": {},
   "source": [
    "Sjekk at den hele senterdisken ennå er i datasettet, ved å flytte navigatoren til de ytre hjørnene.\n",
    "\n",
    "Nå er navigeringen mye raskere, fordi vi laster en mye mindre del av datasettet inn i minnet per probeposisjon.\n",
    "\n",
    "<img src=\"bilder/02_senter_posisjon.jpg\" width=800 height=800 />"
   ]
  },
  {
   "cell_type": "markdown",
   "id": "534feed0-b96f-42fe-81a1-7947ce72b2b3",
   "metadata": {},
   "source": [
    "Hvis dette ser bra ut så bruk `compute` funksjonen i `s1`.\n",
    "\n",
    "**VIKTIG:** dette vil laste hele `s1` datasettet inn i minnet, og hvis du ikke har gjort de forrige stegene riktig, så kan det kræsje datamaskinen din!"
   ]
  },
  {
   "cell_type": "code",
   "execution_count": null,
   "id": "30708087-2a7b-4460-a4fc-81acabf43cbe",
   "metadata": {},
   "outputs": [],
   "source": [
    "s1.compute()\n",
    "s2.compute()"
   ]
  },
  {
   "cell_type": "markdown",
   "id": "24325579-29b6-44b1-aac1-70228226a8d1",
   "metadata": {},
   "source": [
    "Nå vil plottingen være mye raskere, siden alt er i minnet. Bruk `plot` i `s1`, for å se hvordan prøven og datasettet ser ut."
   ]
  },
  {
   "cell_type": "markdown",
   "id": "d74aeaee-924d-42b0-9692-1628b1a48a26",
   "metadata": {
    "tags": []
   },
   "source": [
    "## Magnetisk kontrast\n",
    "\n",
    "Nå som datasettet er litt mer håndterbart, så kan vi prøve å se de magnetiske domenene.\n",
    "\n",
    "En enkel måte å gjøre dette på, er å bytte om på \"navigasjon\" og \"signal\" dimensjonene. Ergo: istedet for at vi endrer på probe-posisjonen, så endrer vi heller på detektorposisjonen.\n",
    "\n",
    "Kjør: `s1.T.plot()`, og flytt navigatoren rundt senterstrålen. Dette vil se litt rart ut, på grunn av at elektronstrålen flytter på seg, men dere burde kunne se litt magnetisk kontrast på grensen mellom de lyse og mørke områdene."
   ]
  },
  {
   "cell_type": "code",
   "execution_count": null,
   "id": "3327b6a5-2694-4858-a9e5-55868105e168",
   "metadata": {},
   "outputs": [],
   "source": [
    "s1.plot()"
   ]
  },
  {
   "cell_type": "markdown",
   "id": "d7a23ae6-9565-4aca-882b-288177485432",
   "metadata": {},
   "source": [
    "## Mer avansert analyse\n",
    "\n",
    "En litt mer avansert måte å analysere dette, er å bruk `center_of_mass` funksjonen i `s1`. Lagre dette som `s1_com`. Dette regner ut hvor senter-posisjonen er for alle probe-posisjonene."
   ]
  },
  {
   "cell_type": "code",
   "execution_count": null,
   "id": "a4a23fc7-dff8-4b96-893e-108f1a0d07e4",
   "metadata": {},
   "outputs": [],
   "source": [
    "s1_cc = s1.center_of_mass().correct_ramp()\n",
    "s2_cc = s2.center_of_mass().correct_ramp()"
   ]
  },
  {
   "cell_type": "markdown",
   "id": "b922e907-ab73-450c-ad0a-dc4c76afefc9",
   "metadata": {},
   "source": [
    "Dette gir et `DPCSignal2D`, hvor x- og y-posisjonene er i navigasjonsposisjonene.\n",
    "\n",
    "Bruk `plot` i `s1_com`. I navigasjons dimensjon så er det x- og y-posisjonen til elektronstrålen, dette kan kobles direkte til det magnetiske feltet i prøven. Bytt mellom x og y med piltastene på tastaturet.\n",
    "\n",
    "Dette skal ca. se sånn ut:\n",
    "\n",
    "<img src=\"bilder/center_of_mass_raw.jpg\" width=800 height=800 />\n",
    "\n",
    "Tips: hvis det er vanskelig å se bruk kontrast-editoren, ved å trykke på `H`-knappen."
   ]
  },
  {
   "cell_type": "code",
   "execution_count": null,
   "id": "22bb8e34-d6d5-4579-81df-3f5b8928f281",
   "metadata": {},
   "outputs": [],
   "source": [
    "#s1_com.plot()"
   ]
  },
  {
   "cell_type": "markdown",
   "id": "1341cb09-d9ca-4e72-9f85-c5de70435181",
   "metadata": {},
   "source": [
    "Her ser vi at vi har et problem med at senter-strålen har flyttet seg, som gir et \"plan\" i både x- og y-retningen.\n",
    "\n",
    "Dette kan korrigeres ved å bruk `correct_ramp` funksjonen i `s1_com`.\n",
    "\n",
    "Bruk denne, og lagre den som `s1_com_corr`."
   ]
  },
  {
   "cell_type": "markdown",
   "id": "20b76230-3057-461d-bbc3-29449d8956de",
   "metadata": {},
   "source": [
    "Så plot `s1_com_corr`, ved å bruke `get_color_signal().plot()`."
   ]
  },
  {
   "cell_type": "code",
   "execution_count": null,
   "id": "53c6963c-ef79-4315-9835-4c32fb54d91f",
   "metadata": {},
   "outputs": [],
   "source": [
    "#s1_com_corr.get_color_signal().plot()"
   ]
  },
  {
   "cell_type": "markdown",
   "id": "d4fdb67e-2afa-416d-b4e8-9400d9931f0c",
   "metadata": {},
   "source": [
    "Dette skal se noe ut som dette:\n",
    "\n",
    "<img src=\"bilder/center_of_mass_color.jpg\" width=200 height=200 />\n",
    "\n",
    "Hvis det ser ut som dette (se under), se har `correct_ramp` ikke virket ordentlig. Det magnetiske området som er i midten på y-aksen på figuren under, skal ha mange forskjellige farger.\n",
    "\n",
    "<img src=\"bilder/center_of_mass_bad_corrected_ramp.jpg\" width=200 height=200 />\n",
    "\n",
    "I dette tilfellet er det fordi områdene over og under det tynne området er så tykke at center of mass ikke virker særlig bra. Da må disse områdene fjernes ved å bruke `s_com.isig[: y0:y1]`, FØR man kjører `s1_com.correct_ramp`.\n",
    "\n",
    "Så i dette tilfellet:\n",
    "```python\n",
    "s1_com_corr = s1_com.isig[:, 40:190].correct_ramp()\n",
    "s1_com_corr.get_color_signal().plot()\n",
    "```\n",
    "<img src=\"bilder/center_of_mass_color_corrected_good.jpg\" width=300 height=300 />"
   ]
  },
  {
   "cell_type": "markdown",
   "id": "0259896e-bd24-4f74-8f19-8886e0cfe389",
   "metadata": {
    "tags": []
   },
   "source": [
    "## Plotting av disse dataene\n",
    "\n",
    "Nå kan dette kombineres med kunnskapen og koden dere brukte i TEM-bildedata notebooken, og FIB notebooken, til å lage en figur som ligner på den i starten av denne Jupyter Notebooken.\n",
    "\n",
    "For å få disse fargeplottene i en matplotlib-figur, så først lag en `fig` og en `ax` via matplotlib.\n",
    "\n",
    "Så bruk `get_color_image_with_indicator` i `s1_com_corr` med `ax=ax`."
   ]
  },
  {
   "cell_type": "code",
   "execution_count": null,
   "id": "a12118b2-b0c2-4c86-9482-6ad0d8b7d8e5",
   "metadata": {},
   "outputs": [],
   "source": [
    "from matplotlib import pyplot as plt\n",
    "fig, (ax1, ax2) = plt.subplots(2,1)\n",
    "s1_cc.get_color_image_with_indicator(ax = ax1)\n",
    "s2_cc.get_color_image_with_indicator(ax = ax2)\n",
    "fig.savefig(\"tmp_DPC.png\", dpi = 300)"
   ]
  },
  {
   "cell_type": "code",
   "execution_count": null,
   "id": "eba5a1e2-d718-4493-a997-5060aebcc2c4",
   "metadata": {},
   "outputs": [],
   "source": [
    "s1.axes_manager"
   ]
  },
  {
   "cell_type": "markdown",
   "id": "0091f249-4c28-42ee-b816-3e757f60821d",
   "metadata": {},
   "source": [
    "Tips: posisjonen til fargehjulet kan styres med `ax_indicator` parameteren, se docstringen for mer informasjon."
   ]
  },
  {
   "cell_type": "code",
   "execution_count": null,
   "id": "ff6dba47-20b7-4353-bbdc-eca9292123af",
   "metadata": {},
   "outputs": [],
   "source": []
  }
 ],
 "metadata": {
  "interpreter": {
   "hash": "df0893f56f349688326838aaeea0de204df53a132722cbd565e54b24a8fec5f6"
  },
  "kernelspec": {
   "display_name": "Python 3.8.10 64-bit",
   "name": "python3"
  },
  "language_info": {
   "codemirror_mode": {
    "name": "ipython",
    "version": 3
   },
   "file_extension": ".py",
   "mimetype": "text/x-python",
   "name": "python",
   "nbconvert_exporter": "python",
   "pygments_lexer": "ipython3",
   "version": "3.8.10"
  }
 },
 "nbformat": 4,
 "nbformat_minor": 5
}
