{
 "cells": [
  {
   "cell_type": "code",
   "execution_count": null,
   "metadata": {},
   "outputs": [],
   "source": [
    "import numpy as np\n",
    "from matplotlib import pyplot as plt\n",
    "p = np.array([13.3, 26.7, 40, 53.3, 66.7, 80, 93.3]) * 1e3\n",
    "v = np.array([10.3, 19.3, 27.3, 34.1, 40, 45.5, 48]) * 1e-6\n",
    "R = 8.314\n",
    "T = 273\n",
    "atm = 101325\n",
    "N = 6.022e23\n",
    "# n = p*v / (R*T)\n",
    "\n",
    "a, b = np.polyfit(p, p/v, deg=1)\n",
    "\n",
    "plt.plot(p, p/v, label=\"p/v\")\n",
    "plt.plot(p, a*p + b, label=\"ap + b\")\n",
    "plt.legend()\n",
    "plt.xlabel(\"p [Pa]\")\n",
    "\n",
    "V_mon = 1/a\n",
    "\n",
    "n = atm * V_mon / (R*T)\n",
    "\n",
    "m_C = 9.659     # g\n",
    "rho_C = 2.1e6   # g/m^3\n",
    "\n",
    "A_CO = 16e-20\n",
    "\n",
    "r = 3*(m_C / rho_C) / (n * (N * A_CO))\n",
    "\n",
    "print(\"Task 1\")\n",
    "print(f\"{V_mon = :.4e} m^3\")\n",
    "print(f\"{n = :.3e} mol\")\n",
    "print(f\"{r = :.2e} m\")\n",
    "\n",
    "theta = 0.25*93/(180 / np.pi)\n",
    "a = 1.5418 / (2*np.sin(theta)) * 2\n",
    "\n",
    "print(\"Task 3\")\n",
    "print(f\"{a = :.3} Å\")"
   ]
  }
 ],
 "metadata": {
  "kernelspec": {
   "display_name": ".venv",
   "language": "python",
   "name": "python3"
  },
  "language_info": {
   "codemirror_mode": {
    "name": "ipython",
    "version": 3
   },
   "file_extension": ".py",
   "mimetype": "text/x-python",
   "name": "python",
   "nbconvert_exporter": "python",
   "pygments_lexer": "ipython3",
   "version": "3.10.11"
  }
 },
 "nbformat": 4,
 "nbformat_minor": 2
}
