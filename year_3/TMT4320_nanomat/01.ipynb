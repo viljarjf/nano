{
 "cells": [
  {
   "cell_type": "markdown",
   "metadata": {},
   "source": [
    "# Nanomaterials exersise 01, Viljar Femoen"
   ]
  },
  {
   "cell_type": "code",
   "execution_count": null,
   "metadata": {},
   "outputs": [],
   "source": [
    "%matplotlib inline\n",
    "import numpy as np\n",
    "from matplotlib import pyplot as plt"
   ]
  },
  {
   "cell_type": "markdown",
   "metadata": {},
   "source": [
    "## Problem 1\n",
    "\n",
    "### a)"
   ]
  },
  {
   "cell_type": "code",
   "execution_count": null,
   "metadata": {},
   "outputs": [],
   "source": [
    "SURFACE_ENERGY_DENSITY_NACL = 2e-5 # [J cm^-2]\n",
    "DENSITY_NACL = 2.17 # [g cm^-3]\n",
    "\n",
    "def calc_NaCl_cube_count(a: float) -> float:\n",
    "    single_cube_volume = a ** 3\n",
    "    total_volume = 1 / DENSITY_NACL\n",
    "\n",
    "    num_cubes = total_volume / single_cube_volume\n",
    "    return num_cubes\n",
    "\n",
    "def calc_NaCl_surface_energy(a: float) -> float:\n",
    "    num_cubes = calc_NaCl_cube_count(a)\n",
    "\n",
    "    single_cube_surface_area = 6 * a ** 2\n",
    "    \n",
    "    total_surface_area = num_cubes * single_cube_surface_area\n",
    "\n",
    "    total_energy = total_surface_area * SURFACE_ENERGY_DENSITY_NACL\n",
    "    return total_energy"
   ]
  },
  {
   "cell_type": "markdown",
   "metadata": {},
   "source": [
    "### b)"
   ]
  },
  {
   "cell_type": "code",
   "execution_count": null,
   "metadata": {},
   "outputs": [],
   "source": [
    "EDGE_ENERGY_DENSITY_NACL = 3e-13 # [J cm^-1]\n",
    "\n",
    "def calc_NaCl_edge_energy(a: float) -> float:\n",
    "    num_cubes = calc_NaCl_cube_count(a)\n",
    "\n",
    "    single_cube_edge_length = 12 * a\n",
    "\n",
    "    total_edge_length = num_cubes * single_cube_edge_length\n",
    "\n",
    "    total_energy = total_edge_length * EDGE_ENERGY_DENSITY_NACL\n",
    "    return total_energy"
   ]
  },
  {
   "cell_type": "markdown",
   "metadata": {},
   "source": [
    "### c)"
   ]
  },
  {
   "cell_type": "code",
   "execution_count": null,
   "metadata": {},
   "outputs": [],
   "source": [
    "FUSION_ENTHALPY_NACL = 0.52e3 # [J g^-1], taken from https://en.wikipedia.org/wiki/Sodium_chloride_(data_page)"
   ]
  },
  {
   "cell_type": "code",
   "execution_count": null,
   "metadata": {},
   "outputs": [],
   "source": [
    "plt.figure()\n",
    "plt.title(\"Energies of 1g NaCl as a function of cube side length $a$\")\n",
    "plt.xlabel(\"a [cm]\")\n",
    "plt.ylabel(\"Energy [J]\")\n",
    "\n",
    "a = np.logspace(-6, -8, 100)\n",
    "E_surf = calc_NaCl_surface_energy(a)\n",
    "E_edge = calc_NaCl_edge_energy(a)\n",
    "\n",
    "plt.loglog(a, E_surf, label=\"Surface energy\")\n",
    "plt.loglog(a, E_edge, label=\"Edge energy\")\n",
    "plt.loglog(a, E_surf + E_edge, label=\"Total energy\")\n",
    "plt.loglog(a, [FUSION_ENTHALPY_NACL] * a.size, label=\"Fusion enthalpy\", linestyle=\"--\")\n",
    "\n",
    "plt.legend()\n",
    "plt.show()"
   ]
  },
  {
   "cell_type": "markdown",
   "metadata": {},
   "source": [
    "### d)\n",
    "\n",
    "As the surface energy increases, the energy required to melt (i.e. break all remaining bonds) will decrease."
   ]
  },
  {
   "cell_type": "markdown",
   "metadata": {},
   "source": [
    "### e)\n",
    "\n",
    "The main approximations are assuming all the surface has the same energy density, regardless of size. As the size decreases, the effects of edges on the nearby surface must be taken into consideration. The constant edge energy density works as a 1st order approximation, but it too will suffer from vertex effects eventually.\n",
    "Furthermore, effects such as relaxation and restructuring is neglected. Cube-cube-interractions are also ignored."
   ]
  },
  {
   "cell_type": "code",
   "execution_count": null,
   "metadata": {},
   "outputs": [],
   "source": [
    "RADIUS_PD = 1.37e-8     # [cm]\n",
    "DENSITY_PD = 12         # [g cm^-3]\n",
    "MOLAR_MASS_PD = 106.4   # [g mol^-1]\n",
    "MOL = 6.022e23          # [mol^-1]\n",
    "\n",
    "AREA_PD = 4 * RADIUS_PD ** 2\n",
    "VOLUME_PD = 4 / 3 * np.pi * RADIUS_PD ** 3\n",
    "\n",
    "def sphere_surface_area(d: float) -> float:\n",
    "    return 4* np.pi * (d / 2) ** 2\n",
    "\n",
    "def sphere_volume(d: float) -> float:\n",
    "    return 4 / 3 * np.pi * (d / 2) ** 3\n",
    "\n",
    "def surface_atom_fraction(d: float) -> float:\n",
    "    volume = sphere_volume(d)\n",
    "    area = sphere_surface_area(d)\n",
    "\n",
    "    num_surface_Pd = area / AREA_PD\n",
    "    num_Pd = volume * DENSITY_PD / MOLAR_MASS_PD * MOL\n",
    "\n",
    "    return num_surface_Pd / num_Pd"
   ]
  },
  {
   "cell_type": "code",
   "execution_count": null,
   "metadata": {},
   "outputs": [],
   "source": [
    "def surface_atom_fraction_exact() -> tuple[list[float], list[float]]:\n",
    "    num_atoms = [13, 55, 147, 309, 561, 1415]\n",
    "    surface_atom_fractions = [0.92, 0.76, 0.63, 0.52, 0.45, 0.35]\n",
    "\n",
    "    # atom count -> diameter\n",
    "    volumes = [i / DENSITY_PD * MOLAR_MASS_PD / MOL for i in num_atoms]\n",
    "    diameters = [2 * (i * 3 / 4 / np.pi) ** (1/3) for i in volumes]\n",
    "\n",
    "    return diameters, surface_atom_fractions"
   ]
  },
  {
   "cell_type": "code",
   "execution_count": null,
   "metadata": {},
   "outputs": [],
   "source": [
    "plt.figure()\n",
    "plt.title(\"Pd surface atom fraction as function of NP diameter\")\n",
    "plt.xlabel(\"Diameter [cm]\")\n",
    "plt.ylabel(\"Surface atom fraction [-]\")\n",
    "plt.xscale(\"log\")\n",
    "\n",
    "d = np.logspace(-5, -7.3, 100)\n",
    "plt.plot(d, surface_atom_fraction(d), label=\"Model\")\n",
    "\n",
    "# Add line at y=1, which is the highest possible fraction of surface atoms\n",
    "plt.plot(d, [1]*d.size, linestyle=\"--\")\n",
    "\n",
    "plt.scatter(*surface_atom_fraction_exact(), label=\"Discrete\")\n",
    "\n",
    "plt.legend()\n",
    "plt.show()"
   ]
  },
  {
   "cell_type": "markdown",
   "metadata": {},
   "source": [
    "As a fraction >1 is non-physical, the model stops making sense around the 1.5nm mark. This is indicated with the crossing of the dashed line at a fraction of 1, and the model.\n",
    "Clearly, the model is wrong before this point, as it diverges from exact values already around 2nm."
   ]
  },
  {
   "cell_type": "markdown",
   "metadata": {},
   "source": [
    "## Problem 2"
   ]
  },
  {
   "cell_type": "markdown",
   "metadata": {},
   "source": [
    "### a)\n",
    "The surface atoms have, in general, lower lattice parameters. As the NP size decreases, a larger fration of the atoms are at the surface. Therefore, smaller NPs tend to have lower lattice parameters."
   ]
  },
  {
   "cell_type": "markdown",
   "metadata": {},
   "source": [
    "### b)\n",
    "\n",
    "Different crystal facets can have different energy densities, so some geometries can have reduced surface energy while preserving total area. A suitable solvent choice can also reduce surface energy."
   ]
  }
 ],
 "metadata": {
  "kernelspec": {
   "display_name": ".venv",
   "language": "python",
   "name": "python3"
  },
  "language_info": {
   "codemirror_mode": {
    "name": "ipython",
    "version": 3
   },
   "file_extension": ".py",
   "mimetype": "text/x-python",
   "name": "python",
   "nbconvert_exporter": "python",
   "pygments_lexer": "ipython3",
   "version": "3.10.11"
  }
 },
 "nbformat": 4,
 "nbformat_minor": 2
}
