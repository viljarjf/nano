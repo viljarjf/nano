{
 "cells": [
  {
   "cell_type": "markdown",
   "metadata": {},
   "source": [
    "# Nanomaterials exersise 01, Viljar Femoen"
   ]
  },
  {
   "cell_type": "code",
   "execution_count": null,
   "metadata": {},
   "outputs": [],
   "source": [
    "%matplotlib qt5\n",
    "import numpy as np\n",
    "from matplotlib import pyplot as plt"
   ]
  },
  {
   "cell_type": "markdown",
   "metadata": {},
   "source": [
    "## Problem 1\n",
    "\n",
    "### a)"
   ]
  },
  {
   "cell_type": "code",
   "execution_count": null,
   "metadata": {},
   "outputs": [],
   "source": [
    "SURFACE_ENERGY_DENSITY_NACL = 2e-5 # [J cm^-2]\n",
    "RHO_NACL = 2.17 # [g cm^-3]\n",
    "\n",
    "def calc_NaCl_cube_count(a: float) -> float:\n",
    "    single_cube_volume = a ** 3\n",
    "    total_volume = 1 / RHO_NACL\n",
    "\n",
    "    num_cubes = total_volume / single_cube_volume\n",
    "    return num_cubes\n",
    "\n",
    "def calc_NaCl_surface_energy(a: float) -> float:\n",
    "    num_cubes = calc_NaCl_cube_count(a)\n",
    "\n",
    "    single_cube_surface_area = 6 * a ** 2\n",
    "    \n",
    "    total_surface_area = num_cubes * single_cube_surface_area\n",
    "\n",
    "    total_energy = total_surface_area * SURFACE_ENERGY_DENSITY_NACL\n",
    "    return total_energy"
   ]
  },
  {
   "cell_type": "markdown",
   "metadata": {},
   "source": [
    "### b)"
   ]
  },
  {
   "cell_type": "code",
   "execution_count": null,
   "metadata": {},
   "outputs": [],
   "source": [
    "EDGE_ENERGY_DENSITY_NACL = 3e-13 # [J cm^-1]\n",
    "\n",
    "def calc_NaCl_edge_energy(a: float) -> float:\n",
    "    num_cubes = calc_NaCl_cube_count(a)\n",
    "\n",
    "    single_cube_edge_length = 12 * a\n",
    "\n",
    "    total_edge_length = num_cubes * single_cube_edge_length\n",
    "\n",
    "    total_energy = total_edge_length * EDGE_ENERGY_DENSITY_NACL\n",
    "    return total_energy"
   ]
  },
  {
   "cell_type": "markdown",
   "metadata": {},
   "source": [
    "### c)"
   ]
  },
  {
   "cell_type": "code",
   "execution_count": null,
   "metadata": {},
   "outputs": [],
   "source": [
    "FUSION_ENTHALPY_NACL = 0.52e3 # [J g^-1], taken from https://en.wikipedia.org/wiki/Sodium_chloride_(data_page)"
   ]
  },
  {
   "cell_type": "code",
   "execution_count": null,
   "metadata": {},
   "outputs": [],
   "source": [
    "plt.figure()\n",
    "plt.title(\"Total surface energy of 1g NaCl as a function of cube side length\")\n",
    "plt.xlabel(\"a [cm]\")\n",
    "plt.ylabel(\"Energy [J]\")\n",
    "\n",
    "a = np.logspace(-6, -8, 100)\n",
    "E_surf = calc_NaCl_surface_energy(a)\n",
    "E_edge = calc_NaCl_edge_energy(a)\n",
    "\n",
    "plt.loglog(a, E_surf, label=\"Surface energy\")\n",
    "plt.loglog(a, E_edge, label=\"Edge energy\")\n",
    "plt.loglog(a, E_surf + E_edge, label=\"Total energy\")\n",
    "plt.loglog(a, [FUSION_ENTHALPY_NACL] * a.size, label=\"Fusion enthalpy\", linestyle=\"--\")\n",
    "\n",
    "# For fun, mark the actual NaCl unit cell size\n",
    "# UNIT_CELL_EDGE_LENGTH_NACL = 0.5641e-8 # [cm]\n",
    "# b = np.logspace(1, 4, 100)\n",
    "# plt.plot([UNIT_CELL_EDGE_LENGTH_NACL] * b.size, b, label=\"NaCl unit cell size\")\n",
    "\n",
    "plt.legend()\n",
    "plt.show()"
   ]
  }
 ],
 "metadata": {
  "kernelspec": {
   "display_name": ".venv",
   "language": "python",
   "name": "python3"
  },
  "language_info": {
   "codemirror_mode": {
    "name": "ipython",
    "version": 3
   },
   "file_extension": ".py",
   "mimetype": "text/x-python",
   "name": "python",
   "nbconvert_exporter": "python",
   "pygments_lexer": "ipython3",
   "version": "3.10.11"
  }
 },
 "nbformat": 4,
 "nbformat_minor": 2
}
